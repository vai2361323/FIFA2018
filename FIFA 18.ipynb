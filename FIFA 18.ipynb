{
 "cells": [
  {
   "cell_type": "markdown",
   "metadata": {},
   "source": [
    "[FIFA 18 Complete Player Dataset](https://www.kaggle.com/thec03u5/fifa-18-demo-player-dataset)"
   ]
  },
  {
   "cell_type": "markdown",
   "metadata": {},
   "source": [
    "**Possible Explorations**\n",
    "1. Make your dream team\n",
    "2. Analyse which Club or National Team has the best-rated players\n",
    "3. Assess the strength of a team at a particular position\n",
    "4. Analyse the team with the best dribbling speed\n",
    "5. Co-relate between Age and Overall rating\n",
    "6. Co-relate between Age and Nationality\n",
    "7. Co-relate between Age and Potential"
   ]
  },
  {
   "cell_type": "code",
   "execution_count": 1,
   "metadata": {},
   "outputs": [],
   "source": [
    "import numpy as np\n",
    "import pandas as pd"
   ]
  },
  {
   "cell_type": "code",
   "execution_count": 2,
   "metadata": {},
   "outputs": [],
   "source": [
    "import matplotlib.pyplot as plt\n",
    "import seaborn as sns\n",
    "%matplotlib inline"
   ]
  },
  {
   "cell_type": "code",
   "execution_count": 3,
   "metadata": {},
   "outputs": [
    {
     "data": {
      "text/html": [
       "        <script type=\"text/javascript\">\n",
       "        window.PlotlyConfig = {MathJaxConfig: 'local'};\n",
       "        if (window.MathJax) {MathJax.Hub.Config({SVG: {font: \"STIX-Web\"}});}\n",
       "        if (typeof require !== 'undefined') {\n",
       "        require.undef(\"plotly\");\n",
       "        requirejs.config({\n",
       "            paths: {\n",
       "                'plotly': ['https://cdn.plot.ly/plotly-latest.min']\n",
       "            }\n",
       "        });\n",
       "        require(['plotly'], function(Plotly) {\n",
       "            window._Plotly = Plotly;\n",
       "        });\n",
       "        }\n",
       "        </script>\n",
       "        "
      ]
     },
     "metadata": {},
     "output_type": "display_data"
    }
   ],
   "source": [
    "import plotly.graph_objs as go\n",
    "from plotly.offline import init_notebook_mode,iplot\n",
    "init_notebook_mode(connected=True)\n",
    "sns.set_style('darkgrid')"
   ]
  },
  {
   "cell_type": "code",
   "execution_count": 4,
   "metadata": {},
   "outputs": [],
   "source": [
    "import warnings\n",
    "warnings.filterwarnings('ignore')"
   ]
  },
  {
   "cell_type": "markdown",
   "metadata": {},
   "source": [
    "### Read the dataset"
   ]
  },
  {
   "cell_type": "code",
   "execution_count": 5,
   "metadata": {},
   "outputs": [],
   "source": [
    "df = pd.read_csv(r'E:\\Coding Nest\\DSProjects\\FIFA18\\fifa-18-demo-player-dataset\\CompleteDataset.csv')"
   ]
  },
  {
   "cell_type": "markdown",
   "metadata": {},
   "source": [
    "### EDA (Exploratory Data Analysis)"
   ]
  },
  {
   "cell_type": "code",
   "execution_count": 6,
   "metadata": {},
   "outputs": [
    {
     "name": "stdout",
     "output_type": "stream",
     "text": [
      "<class 'pandas.core.frame.DataFrame'>\n",
      "RangeIndex: 17981 entries, 0 to 17980\n",
      "Data columns (total 75 columns):\n",
      "Unnamed: 0             17981 non-null int64\n",
      "Name                   17981 non-null object\n",
      "Age                    17981 non-null int64\n",
      "Photo                  17981 non-null object\n",
      "Nationality            17981 non-null object\n",
      "Flag                   17981 non-null object\n",
      "Overall                17981 non-null int64\n",
      "Potential              17981 non-null int64\n",
      "Club                   17733 non-null object\n",
      "Club Logo              17981 non-null object\n",
      "Value                  17981 non-null object\n",
      "Wage                   17981 non-null object\n",
      "Special                17981 non-null int64\n",
      "Acceleration           17981 non-null object\n",
      "Aggression             17981 non-null object\n",
      "Agility                17981 non-null object\n",
      "Balance                17981 non-null object\n",
      "Ball control           17981 non-null object\n",
      "Composure              17981 non-null object\n",
      "Crossing               17981 non-null object\n",
      "Curve                  17981 non-null object\n",
      "Dribbling              17981 non-null object\n",
      "Finishing              17981 non-null object\n",
      "Free kick accuracy     17981 non-null object\n",
      "GK diving              17981 non-null object\n",
      "GK handling            17981 non-null object\n",
      "GK kicking             17981 non-null object\n",
      "GK positioning         17981 non-null object\n",
      "GK reflexes            17981 non-null object\n",
      "Heading accuracy       17981 non-null object\n",
      "Interceptions          17981 non-null object\n",
      "Jumping                17981 non-null object\n",
      "Long passing           17981 non-null object\n",
      "Long shots             17981 non-null object\n",
      "Marking                17981 non-null object\n",
      "Penalties              17981 non-null object\n",
      "Positioning            17981 non-null object\n",
      "Reactions              17981 non-null object\n",
      "Short passing          17981 non-null object\n",
      "Shot power             17981 non-null object\n",
      "Sliding tackle         17981 non-null object\n",
      "Sprint speed           17981 non-null object\n",
      "Stamina                17981 non-null object\n",
      "Standing tackle        17981 non-null object\n",
      "Strength               17981 non-null object\n",
      "Vision                 17981 non-null object\n",
      "Volleys                17981 non-null object\n",
      "CAM                    15952 non-null float64\n",
      "CB                     15952 non-null float64\n",
      "CDM                    15952 non-null float64\n",
      "CF                     15952 non-null float64\n",
      "CM                     15952 non-null float64\n",
      "ID                     17981 non-null int64\n",
      "LAM                    15952 non-null float64\n",
      "LB                     15952 non-null float64\n",
      "LCB                    15952 non-null float64\n",
      "LCM                    15952 non-null float64\n",
      "LDM                    15952 non-null float64\n",
      "LF                     15952 non-null float64\n",
      "LM                     15952 non-null float64\n",
      "LS                     15952 non-null float64\n",
      "LW                     15952 non-null float64\n",
      "LWB                    15952 non-null float64\n",
      "Preferred Positions    17981 non-null object\n",
      "RAM                    15952 non-null float64\n",
      "RB                     15952 non-null float64\n",
      "RCB                    15952 non-null float64\n",
      "RCM                    15952 non-null float64\n",
      "RDM                    15952 non-null float64\n",
      "RF                     15952 non-null float64\n",
      "RM                     15952 non-null float64\n",
      "RS                     15952 non-null float64\n",
      "RW                     15952 non-null float64\n",
      "RWB                    15952 non-null float64\n",
      "ST                     15952 non-null float64\n",
      "dtypes: float64(26), int64(6), object(43)\n",
      "memory usage: 10.3+ MB\n"
     ]
    }
   ],
   "source": [
    "df.info()"
   ]
  },
  {
   "cell_type": "code",
   "execution_count": 7,
   "metadata": {},
   "outputs": [
    {
     "data": {
      "text/plain": [
       "Index(['Unnamed: 0', 'Name', 'Age', 'Photo', 'Nationality', 'Flag', 'Overall',\n",
       "       'Potential', 'Club', 'Club Logo', 'Value', 'Wage', 'Special',\n",
       "       'Acceleration', 'Aggression', 'Agility', 'Balance', 'Ball control',\n",
       "       'Composure', 'Crossing', 'Curve', 'Dribbling', 'Finishing',\n",
       "       'Free kick accuracy', 'GK diving', 'GK handling', 'GK kicking',\n",
       "       'GK positioning', 'GK reflexes', 'Heading accuracy', 'Interceptions',\n",
       "       'Jumping', 'Long passing', 'Long shots', 'Marking', 'Penalties',\n",
       "       'Positioning', 'Reactions', 'Short passing', 'Shot power',\n",
       "       'Sliding tackle', 'Sprint speed', 'Stamina', 'Standing tackle',\n",
       "       'Strength', 'Vision', 'Volleys', 'CAM', 'CB', 'CDM', 'CF', 'CM', 'ID',\n",
       "       'LAM', 'LB', 'LCB', 'LCM', 'LDM', 'LF', 'LM', 'LS', 'LW', 'LWB',\n",
       "       'Preferred Positions', 'RAM', 'RB', 'RCB', 'RCM', 'RDM', 'RF', 'RM',\n",
       "       'RS', 'RW', 'RWB', 'ST'],\n",
       "      dtype='object')"
      ]
     },
     "execution_count": 7,
     "metadata": {},
     "output_type": "execute_result"
    }
   ],
   "source": [
    "df.columns"
   ]
  },
  {
   "cell_type": "markdown",
   "metadata": {},
   "source": [
    "### As per requirement, we are selecting few features"
   ]
  },
  {
   "cell_type": "code",
   "execution_count": 8,
   "metadata": {},
   "outputs": [
    {
     "data": {
      "text/html": [
       "<div>\n",
       "<style scoped>\n",
       "    .dataframe tbody tr th:only-of-type {\n",
       "        vertical-align: middle;\n",
       "    }\n",
       "\n",
       "    .dataframe tbody tr th {\n",
       "        vertical-align: top;\n",
       "    }\n",
       "\n",
       "    .dataframe thead th {\n",
       "        text-align: right;\n",
       "    }\n",
       "</style>\n",
       "<table border=\"1\" class=\"dataframe\">\n",
       "  <thead>\n",
       "    <tr style=\"text-align: right;\">\n",
       "      <th></th>\n",
       "      <th>Name</th>\n",
       "      <th>Age</th>\n",
       "      <th>Nationality</th>\n",
       "      <th>Overall</th>\n",
       "      <th>Potential</th>\n",
       "      <th>Club</th>\n",
       "      <th>Value</th>\n",
       "      <th>Preferred Positions</th>\n",
       "    </tr>\n",
       "  </thead>\n",
       "  <tbody>\n",
       "    <tr>\n",
       "      <th>0</th>\n",
       "      <td>Cristiano Ronaldo</td>\n",
       "      <td>32</td>\n",
       "      <td>Portugal</td>\n",
       "      <td>94</td>\n",
       "      <td>94</td>\n",
       "      <td>Real Madrid CF</td>\n",
       "      <td>€95.5M</td>\n",
       "      <td>ST LW</td>\n",
       "    </tr>\n",
       "    <tr>\n",
       "      <th>1</th>\n",
       "      <td>L. Messi</td>\n",
       "      <td>30</td>\n",
       "      <td>Argentina</td>\n",
       "      <td>93</td>\n",
       "      <td>93</td>\n",
       "      <td>FC Barcelona</td>\n",
       "      <td>€105M</td>\n",
       "      <td>RW</td>\n",
       "    </tr>\n",
       "    <tr>\n",
       "      <th>2</th>\n",
       "      <td>Neymar</td>\n",
       "      <td>25</td>\n",
       "      <td>Brazil</td>\n",
       "      <td>92</td>\n",
       "      <td>94</td>\n",
       "      <td>Paris Saint-Germain</td>\n",
       "      <td>€123M</td>\n",
       "      <td>LW</td>\n",
       "    </tr>\n",
       "    <tr>\n",
       "      <th>3</th>\n",
       "      <td>L. Suárez</td>\n",
       "      <td>30</td>\n",
       "      <td>Uruguay</td>\n",
       "      <td>92</td>\n",
       "      <td>92</td>\n",
       "      <td>FC Barcelona</td>\n",
       "      <td>€97M</td>\n",
       "      <td>ST</td>\n",
       "    </tr>\n",
       "    <tr>\n",
       "      <th>4</th>\n",
       "      <td>M. Neuer</td>\n",
       "      <td>31</td>\n",
       "      <td>Germany</td>\n",
       "      <td>92</td>\n",
       "      <td>92</td>\n",
       "      <td>FC Bayern Munich</td>\n",
       "      <td>€61M</td>\n",
       "      <td>GK</td>\n",
       "    </tr>\n",
       "  </tbody>\n",
       "</table>\n",
       "</div>"
      ],
      "text/plain": [
       "                Name  Age Nationality  Overall  Potential  \\\n",
       "0  Cristiano Ronaldo   32    Portugal       94         94   \n",
       "1           L. Messi   30   Argentina       93         93   \n",
       "2             Neymar   25      Brazil       92         94   \n",
       "3          L. Suárez   30     Uruguay       92         92   \n",
       "4           M. Neuer   31     Germany       92         92   \n",
       "\n",
       "                  Club   Value Preferred Positions  \n",
       "0       Real Madrid CF  €95.5M              ST LW   \n",
       "1         FC Barcelona   €105M                 RW   \n",
       "2  Paris Saint-Germain   €123M                 LW   \n",
       "3         FC Barcelona    €97M                 ST   \n",
       "4     FC Bayern Munich    €61M                 GK   "
      ]
     },
     "execution_count": 8,
     "metadata": {},
     "output_type": "execute_result"
    }
   ],
   "source": [
    "df = df[['Name', 'Age', 'Nationality', 'Overall', 'Potential', 'Club', 'Value', 'Preferred Positions']]\n",
    "df.head()"
   ]
  },
  {
   "cell_type": "markdown",
   "metadata": {},
   "source": [
    "### Data Engineering"
   ]
  },
  {
   "cell_type": "code",
   "execution_count": 9,
   "metadata": {},
   "outputs": [
    {
     "data": {
      "text/html": [
       "<div>\n",
       "<style scoped>\n",
       "    .dataframe tbody tr th:only-of-type {\n",
       "        vertical-align: middle;\n",
       "    }\n",
       "\n",
       "    .dataframe tbody tr th {\n",
       "        vertical-align: top;\n",
       "    }\n",
       "\n",
       "    .dataframe thead th {\n",
       "        text-align: right;\n",
       "    }\n",
       "</style>\n",
       "<table border=\"1\" class=\"dataframe\">\n",
       "  <thead>\n",
       "    <tr style=\"text-align: right;\">\n",
       "      <th></th>\n",
       "      <th>Name</th>\n",
       "      <th>Age</th>\n",
       "      <th>Nationality</th>\n",
       "      <th>Overall</th>\n",
       "      <th>Potential</th>\n",
       "      <th>Club</th>\n",
       "      <th>Value</th>\n",
       "      <th>Preferred Positions</th>\n",
       "      <th>Remaining Potential</th>\n",
       "    </tr>\n",
       "  </thead>\n",
       "  <tbody>\n",
       "    <tr>\n",
       "      <th>0</th>\n",
       "      <td>Cristiano Ronaldo</td>\n",
       "      <td>32</td>\n",
       "      <td>Portugal</td>\n",
       "      <td>94</td>\n",
       "      <td>94</td>\n",
       "      <td>Real Madrid CF</td>\n",
       "      <td>€95.5M</td>\n",
       "      <td>ST</td>\n",
       "      <td>0</td>\n",
       "    </tr>\n",
       "    <tr>\n",
       "      <th>1</th>\n",
       "      <td>L. Messi</td>\n",
       "      <td>30</td>\n",
       "      <td>Argentina</td>\n",
       "      <td>93</td>\n",
       "      <td>93</td>\n",
       "      <td>FC Barcelona</td>\n",
       "      <td>€105M</td>\n",
       "      <td>RW</td>\n",
       "      <td>0</td>\n",
       "    </tr>\n",
       "    <tr>\n",
       "      <th>2</th>\n",
       "      <td>Neymar</td>\n",
       "      <td>25</td>\n",
       "      <td>Brazil</td>\n",
       "      <td>92</td>\n",
       "      <td>94</td>\n",
       "      <td>Paris Saint-Germain</td>\n",
       "      <td>€123M</td>\n",
       "      <td>LW</td>\n",
       "      <td>2</td>\n",
       "    </tr>\n",
       "    <tr>\n",
       "      <th>3</th>\n",
       "      <td>L. Suárez</td>\n",
       "      <td>30</td>\n",
       "      <td>Uruguay</td>\n",
       "      <td>92</td>\n",
       "      <td>92</td>\n",
       "      <td>FC Barcelona</td>\n",
       "      <td>€97M</td>\n",
       "      <td>ST</td>\n",
       "      <td>0</td>\n",
       "    </tr>\n",
       "    <tr>\n",
       "      <th>4</th>\n",
       "      <td>M. Neuer</td>\n",
       "      <td>31</td>\n",
       "      <td>Germany</td>\n",
       "      <td>92</td>\n",
       "      <td>92</td>\n",
       "      <td>FC Bayern Munich</td>\n",
       "      <td>€61M</td>\n",
       "      <td>GK</td>\n",
       "      <td>0</td>\n",
       "    </tr>\n",
       "  </tbody>\n",
       "</table>\n",
       "</div>"
      ],
      "text/plain": [
       "                Name  Age Nationality  Overall  Potential  \\\n",
       "0  Cristiano Ronaldo   32    Portugal       94         94   \n",
       "1           L. Messi   30   Argentina       93         93   \n",
       "2             Neymar   25      Brazil       92         94   \n",
       "3          L. Suárez   30     Uruguay       92         92   \n",
       "4           M. Neuer   31     Germany       92         92   \n",
       "\n",
       "                  Club   Value Preferred Positions  Remaining Potential  \n",
       "0       Real Madrid CF  €95.5M                  ST                    0  \n",
       "1         FC Barcelona   €105M                  RW                    0  \n",
       "2  Paris Saint-Germain   €123M                  LW                    2  \n",
       "3         FC Barcelona    €97M                  ST                    0  \n",
       "4     FC Bayern Munich    €61M                  GK                    0  "
      ]
     },
     "execution_count": 9,
     "metadata": {},
     "output_type": "execute_result"
    }
   ],
   "source": [
    "# Remaining Potential\n",
    "df['Remaining Potential'] = df['Potential'] - df['Overall']\n",
    "\n",
    "# Preferred position (first only)\n",
    "df['Preferred Positions'] = df['Preferred Positions'].apply(lambda x:x.split()[0])\n",
    "df.head()"
   ]
  },
  {
   "cell_type": "code",
   "execution_count": 10,
   "metadata": {},
   "outputs": [
    {
     "data": {
      "text/html": [
       "<div>\n",
       "<style scoped>\n",
       "    .dataframe tbody tr th:only-of-type {\n",
       "        vertical-align: middle;\n",
       "    }\n",
       "\n",
       "    .dataframe tbody tr th {\n",
       "        vertical-align: top;\n",
       "    }\n",
       "\n",
       "    .dataframe thead th {\n",
       "        text-align: right;\n",
       "    }\n",
       "</style>\n",
       "<table border=\"1\" class=\"dataframe\">\n",
       "  <thead>\n",
       "    <tr style=\"text-align: right;\">\n",
       "      <th></th>\n",
       "      <th>Name</th>\n",
       "      <th>Age</th>\n",
       "      <th>Nationality</th>\n",
       "      <th>Overall</th>\n",
       "      <th>Potential</th>\n",
       "      <th>Club</th>\n",
       "      <th>Value</th>\n",
       "      <th>Preferred Positions</th>\n",
       "      <th>Remaining Potential</th>\n",
       "      <th>Value (M)</th>\n",
       "    </tr>\n",
       "  </thead>\n",
       "  <tbody>\n",
       "    <tr>\n",
       "      <th>0</th>\n",
       "      <td>Cristiano Ronaldo</td>\n",
       "      <td>32</td>\n",
       "      <td>Portugal</td>\n",
       "      <td>94</td>\n",
       "      <td>94</td>\n",
       "      <td>Real Madrid CF</td>\n",
       "      <td>€95.5M</td>\n",
       "      <td>ST</td>\n",
       "      <td>0</td>\n",
       "      <td>95.5</td>\n",
       "    </tr>\n",
       "    <tr>\n",
       "      <th>1</th>\n",
       "      <td>L. Messi</td>\n",
       "      <td>30</td>\n",
       "      <td>Argentina</td>\n",
       "      <td>93</td>\n",
       "      <td>93</td>\n",
       "      <td>FC Barcelona</td>\n",
       "      <td>€105M</td>\n",
       "      <td>RW</td>\n",
       "      <td>0</td>\n",
       "      <td>105.0</td>\n",
       "    </tr>\n",
       "    <tr>\n",
       "      <th>2</th>\n",
       "      <td>Neymar</td>\n",
       "      <td>25</td>\n",
       "      <td>Brazil</td>\n",
       "      <td>92</td>\n",
       "      <td>94</td>\n",
       "      <td>Paris Saint-Germain</td>\n",
       "      <td>€123M</td>\n",
       "      <td>LW</td>\n",
       "      <td>2</td>\n",
       "      <td>123.0</td>\n",
       "    </tr>\n",
       "    <tr>\n",
       "      <th>3</th>\n",
       "      <td>L. Suárez</td>\n",
       "      <td>30</td>\n",
       "      <td>Uruguay</td>\n",
       "      <td>92</td>\n",
       "      <td>92</td>\n",
       "      <td>FC Barcelona</td>\n",
       "      <td>€97M</td>\n",
       "      <td>ST</td>\n",
       "      <td>0</td>\n",
       "      <td>97.0</td>\n",
       "    </tr>\n",
       "    <tr>\n",
       "      <th>4</th>\n",
       "      <td>M. Neuer</td>\n",
       "      <td>31</td>\n",
       "      <td>Germany</td>\n",
       "      <td>92</td>\n",
       "      <td>92</td>\n",
       "      <td>FC Bayern Munich</td>\n",
       "      <td>€61M</td>\n",
       "      <td>GK</td>\n",
       "      <td>0</td>\n",
       "      <td>61.0</td>\n",
       "    </tr>\n",
       "  </tbody>\n",
       "</table>\n",
       "</div>"
      ],
      "text/plain": [
       "                Name  Age Nationality  Overall  Potential  \\\n",
       "0  Cristiano Ronaldo   32    Portugal       94         94   \n",
       "1           L. Messi   30   Argentina       93         93   \n",
       "2             Neymar   25      Brazil       92         94   \n",
       "3          L. Suárez   30     Uruguay       92         92   \n",
       "4           M. Neuer   31     Germany       92         92   \n",
       "\n",
       "                  Club   Value Preferred Positions  Remaining Potential  \\\n",
       "0       Real Madrid CF  €95.5M                  ST                    0   \n",
       "1         FC Barcelona   €105M                  RW                    0   \n",
       "2  Paris Saint-Germain   €123M                  LW                    2   \n",
       "3         FC Barcelona    €97M                  ST                    0   \n",
       "4     FC Bayern Munich    €61M                  GK                    0   \n",
       "\n",
       "   Value (M)  \n",
       "0       95.5  \n",
       "1      105.0  \n",
       "2      123.0  \n",
       "3       97.0  \n",
       "4       61.0  "
      ]
     },
     "execution_count": 10,
     "metadata": {},
     "output_type": "execute_result"
    }
   ],
   "source": [
    "#Convert Value into same unit, K to M\n",
    "df['Unit'] = df['Value'].str[-1]\n",
    "df['Value (M)'] = np.where(df['Unit'] == '0', 0, df['Value'].str[1:-1].replace(r'[a-zA-Z]',''))\n",
    "df['Value (M)'] = df['Value (M)'].astype(float)\n",
    "df['Value (M)'] = np.where(df['Unit'] == 'M', df['Value (M)'], df['Value (M)']/1000)\n",
    "df = df.drop('Unit', 1)\n",
    "df.head()"
   ]
  },
  {
   "cell_type": "markdown",
   "metadata": {},
   "source": [
    "### Geographical representation of all Players\n",
    "\n",
    "### Co-relate between Age and Nationality"
   ]
  },
  {
   "cell_type": "code",
   "execution_count": 11,
   "metadata": {},
   "outputs": [
    {
     "data": {
      "application/vnd.plotly.v1+json": {
       "config": {
        "linkText": "Export to plot.ly",
        "plotlyServerURL": "https://plot.ly",
        "showLink": false
       },
       "data": [
        {
         "colorbar": {
          "title": {
           "text": "Scale"
          }
         },
         "colorscale": [
          [
           0,
           "rgb(242,240,247)"
          ],
          [
           0.2,
           "rgb(218,218,235)"
          ],
          [
           0.4,
           "rgb(188,189,220)"
          ],
          [
           0.6,
           "rgb(158,154,200)"
          ],
          [
           0.8,
           "rgb(117,107,177)"
          ],
          [
           1,
           "rgb(84,39,143)"
          ]
         ],
         "locationmode": "country names",
         "locations": [
          "Afghanistan",
          "Albania",
          "Algeria",
          "Angola",
          "Antigua & Barbuda",
          "Argentina",
          "Armenia",
          "Australia",
          "Austria",
          "Azerbaijan",
          "Barbados",
          "Belarus",
          "Belgium",
          "Belize",
          "Benin",
          "Bermuda",
          "Bolivia",
          "Bosnia Herzegovina",
          "Brazil",
          "Brunei Darussalam",
          "Bulgaria",
          "Burkina Faso",
          "Burundi",
          "Cameroon",
          "Canada",
          "Cape Verde",
          "Central African Rep.",
          "Chad",
          "Chile",
          "China PR",
          "Colombia",
          "Comoros",
          "Congo",
          "Costa Rica",
          "Croatia",
          "Cuba",
          "Curacao",
          "Cyprus",
          "Czech Republic",
          "DR Congo",
          "Denmark",
          "Dominican Republic",
          "Ecuador",
          "Egypt",
          "El Salvador",
          "United Kingdom",
          "Equatorial Guinea",
          "Eritrea",
          "Estonia",
          "Ethiopia",
          "FYR Macedonia",
          "Faroe Islands",
          "Fiji",
          "Finland",
          "France",
          "Gabon",
          "Gambia",
          "Georgia",
          "Germany",
          "Ghana",
          "Gibraltar",
          "Greece",
          "Grenada",
          "Guam",
          "Guatemala",
          "Guinea",
          "Guinea Bissau",
          "Guyana",
          "Haiti",
          "Honduras",
          "Hong Kong",
          "Hungary",
          "Iceland",
          "India",
          "Iran",
          "Iraq",
          "Israel",
          "Italy",
          "Ivory Coast",
          "Jamaica",
          "Japan",
          "Kazakhstan",
          "Kenya",
          "Korea DPR",
          "Korea Republic",
          "Kosovo",
          "Kuwait",
          "Kyrgyzstan",
          "Latvia",
          "Lebanon",
          "Liberia",
          "Libya",
          "Liechtenstein",
          "Lithuania",
          "Luxembourg",
          "Madagascar",
          "Mali",
          "Malta",
          "Mauritania",
          "Mauritius",
          "Mexico",
          "Moldova",
          "Montenegro",
          "Montserrat",
          "Morocco",
          "Mozambique",
          "Namibia",
          "Netherlands",
          "New Caledonia",
          "New Zealand",
          "Niger",
          "Nigeria",
          "Northern Ireland",
          "Norway",
          "Oman",
          "Palestine",
          "Panama",
          "Paraguay",
          "Peru",
          "Philippines",
          "Poland",
          "Portugal",
          "Puerto Rico",
          "Qatar",
          "Republic of Ireland",
          "Romania",
          "Russia",
          "San Marino",
          "Saudi Arabia",
          "Scotland",
          "Senegal",
          "Serbia",
          "Sierra Leone",
          "Slovakia",
          "Slovenia",
          "Somalia",
          "South Africa",
          "Spain",
          "Sri Lanka",
          "St Kitts Nevis",
          "St Lucia",
          "Sudan",
          "Suriname",
          "Swaziland",
          "Sweden",
          "Switzerland",
          "Syria",
          "São Tomé & Príncipe",
          "Tanzania",
          "Thailand",
          "Togo",
          "Trinidad & Tobago",
          "Tunisia",
          "Turkey",
          "Turkmenistan",
          "Uganda",
          "Ukraine",
          "United States",
          "Uruguay",
          "Uzbekistan",
          "Venezuela",
          "Vietnam",
          "Wales",
          "Zambia",
          "Zimbabwe"
         ],
         "reversescale": false,
         "text": [
          "M. Kouhyar (60)<br>S. Mukhammad (59)<br>N. Husin (50)",
          "E. Hysaj (79)<br>E. Berisha (78)<br>M. Mavraj (76)",
          "R. Mahrez (83)<br>I. Slimani (82)<br>Y. Brahimi (82)",
          "Bastos (77)<br>Djalma (74)<br>Mateus (73)",
          "M. Romeo (65)<br>C. Jahraldo-Martin (60)<br>J. Parker (59)",
          "L. Messi (93)<br>G. Higuaín (90)<br>S. Agüero (89)",
          "H. Mkhitaryan (85)<br>A. Özbiliz (73)<br>Marcos Pizzelli (71)",
          "M. Ryan (77)<br>B. Jones (77)<br>A. Mooy (77)",
          "D. Alaba (86)<br>M. Arnautović (82)<br>S. Prödl (79)",
          "D. Yılmaz (70)<br>D. Nazarov (68)<br>Eddy (66)",
          "J. Forte (65)",
          "Renan Bressan (76)<br>T. Kalachev (75)<br>A. Martynovich (74)",
          "E. Hazard (90)<br>K. De Bruyne (89)<br>T. Courtois (89)",
          "M. Salazar (64)",
          "S. Mounié (76)<br>S. Sessègnon (75)<br>J. Adéoti (74)",
          "N. Wells (72)<br>R. Lambe (63)<br>Z. Lewis (60)",
          "M. Martins (75)<br>J. Campos (71)<br>P. Escobar (70)",
          "M. Pjanić (85)<br>E. Džeko (84)<br>A. Begović (82)",
          "Neymar (92)<br>Thiago Silva (88)<br>Marcelo (87)",
          "F. Bolkiah (55)",
          "I. Popov (77)<br>V. Stoyanov (74)<br>G. Milanov (73)",
          "B. Traoré (79)<br>C. Kaboré (77)<br>B. Koné (75)",
          "C. Amissi (64)",
          "J. Matip (83)<br>S. Eto'o (81)<br>C. Kameni (80)",
          "A. Hutchinson (80)<br>S. Arfield (73)<br>C. Larin (73)",
          "Zé Luís (79)<br>Garry Rodrigues (75)<br>Varela (75)",
          "C. Yambéré (70)<br>A. Youga (69)<br>E. Enza-Yamissi (68)",
          "C. Ninga (74)<br>S. Altama (62)",
          "A. Sánchez (89)<br>A. Vidal (87)<br>G. Medel (82)",
          "Zheng Zhi (76)<br>Zeng Cheng (74)<br>Gao Lin (74)",
          "J. Rodríguez (86)<br>Falcao (84)<br>C. Bacca (82)",
          "E. Ben Nabouhane (71)<br>R. Abdullah (70)<br>K. Abdallah (70)",
          "D. N'Dinga (74)<br>T. Bifouma (74)<br>C. Samba (74)",
          "K. Navas (85)<br>O. Duarte (77)<br>B. Ruíz (77)",
          "L. Modrić (89)<br>I. Rakitić (87)<br>D. Subašić (85)",
          "O. Alonso (77)<br>O. Hernández (69)",
          "E. Room (74)<br>L. Bacuna (72)<br>C. Martina (71)",
          "K. Laifis (73)<br>P. Sotiriou (68)<br>V. Sielis (67)",
          "P. Čech (86)<br>V. Darida (79)<br>T. Rosický (79)",
          "C. Bakambu (81)<br>Y. Bolasie (78)<br>G. Kakuta (76)",
          "C. Eriksen (87)<br>K. Schmeichel (83)<br>A. Christensen (81)",
          "Mariano (76)<br>Tano Bonnin (73)<br>J. Firpo (60)",
          "A. Valencia (83)<br>C. Noboa (79)<br>J. Montero (78)",
          "M. Salah (83)<br>M. Elneny (77)<br>A. Hassan (75)",
          "D. Cerén (70)<br>A. Alvarez (68)",
          "H. Kane (86)<br>D. Alli (84)<br>G. Cahill (84)",
          "Nsue (71)<br>A. Ngamukol (70)<br>Iban Salvador (69)",
          "H. Goitom (71)",
          "K. Vassiljev (72)<br>K. Mets (67)<br>N. Baranov (67)",
          "A. Askar (67)<br>G. Panom (64)",
          "G. Pandev (74)<br>I. Nestorovski (74)<br>S. Ristovski (74)",
          "H. Hansson (66)<br>G. Rólantsson Sørensen (64)<br>J. Edmundsson (63)",
          "R. Krishna (69)",
          "L. Hrádecký (81)<br>P. Hetemaj (77)<br>N. Moisander (76)",
          "A. Griezmann (88)<br>H. Lloris (88)<br>N. Kanté (87)",
          "P. Aubameyang (88)<br>M. Lemina (77)<br>D. Ndong (74)",
          "O. Colley (74)<br>M. Barrow (72)<br>B. Sanneh (68)",
          "G. Kashia (76)<br>V. Qazaishvili (75)<br>J. Ananidze (75)",
          "M. Neuer (92)<br>T. Kroos (90)<br>J. Boateng (88)",
          "K. Boateng (80)<br>A. Ayew (79)<br>A. Gyan (79)",
          "L. Walker (64)<br>S. Wiseman (64)",
          "Sokratis (86)<br>K. Manolas (84)<br>O. Karnezis (82)",
          "A. Pierre (64)",
          "A. DeLaGarza (69)",
          "R. Jérez (72)",
          "N. Keïta (83)<br>I. Traoré (80)<br>F. Pogba (77)",
          "Gerso (74)<br>F. Mendy (72)<br>Pelé (72)",
          "W. Creavalle (65)<br>N. Danns (63)<br>M. Briggs (61)",
          "J. Louis (72)<br>R. Genevois (72)<br>R. Goreux (70)",
          "A. Najar (74)<br>A. Lozano (73)<br>A. Elis (72)",
          "Dai Wai-Tsun (54)",
          "P. Gulácsi (76)<br>N. Nikolić (76)<br>A. Szalai (75)",
          "G. Sigurðsson (82)<br>A. Finnbogason (76)<br>E. Hallfreðsson (75)",
          "S. Chhetri (67)<br>L. Ralte (64)<br>S. Paul (64)",
          "S. Azmoun (77)<br>A. Jahanbakhsh (75)<br>M. Mohammadi (73)",
          "J. Meram (74)<br>A. Adnan (73)<br>B. Nouri (69)",
          "M. Dabbur (76)<br>B. Natcho (76)<br>L. Refaelov (75)",
          "G. Chiellini (89)<br>G. Buffon (89)<br>L. Bonucci (88)",
          "E. Bailly (84)<br>Y. Touré (83)<br>J. Seri (82)",
          "W. Morgan (77)<br>L. Bailey (76)<br>A. Blake (75)",
          "S. Kagawa (83)<br>T. Inui (78)<br>K. Honda (78)",
          "A. Merkel (68)<br>K. Engel (66)<br>W. Evseev (64)",
          "V. Wanyama (82)<br>M. Mariga (72)<br>M. Olunga (69)",
          "Chong Te Se (72)<br>Han Kwang Song (67)<br>Pak Kwang Ryong (64)",
          "H. Son (82)<br>Koo Ja Cheol (76)<br>Yoon Bo Sang (74)",
          "M. Rashica (75)<br>B. Berisha (74)<br>V. Berisha (74)",
          "F. Al Berahim (71)<br>F. Al Hajeri (61)",
          "V. Lux (58)",
          "A. Rudņevs (73)<br>A. Vaņins (71)<br>I. Tarasovs (68)",
          "B. Jradi (69)<br>S. Saad (66)<br>H. El Helwe (62)",
          "W. Jebor (67)<br>S. Nimely (61)",
          "A. Benali (72)<br>H. Elhouni (63)",
          "M. Büchel (73)<br>N. Hasler (66)<br>Y. Frick (56)",
          "Z. Karčemarskas (76)<br>L. Spalvis (72)<br>F. Černych (68)",
          "M. Chanot (71)<br>L. Jans (71)<br>A. Moris (67)",
          "I. Andriatsima (72)<br>L. Nomenjanahary (68)<br>C. Andriamahitsinoro (65)",
          "M. Marega (77)<br>M. Wagué (74)<br>A. Niane (74)",
          "M. Beerman (63)<br>M. Muscat (62)<br>L. Gambin (61)",
          "D. Guidileye (70)<br>A. Ba (63)",
          "K. Bru (67)",
          "J. Hernández (82)<br>C. Vela (82)<br>J. Corona (81)",
          "A. Ioniţă (75)<br>A. Epureanu (74)<br>I. Armaş (74)",
          "S. Savić (82)<br>S. Jovetić (81)<br>D. Damjanović (75)",
          "D. Daniels (67)<br>L. Taylor (66)<br>A. Dyer (65)",
          "M. Benatia (84)<br>H. Ziyech (81)<br>Y. Belhanda (81)",
          "Mexer (77)<br>Zainadine (74)<br>Gildo (66)",
          "M. Starke (66)<br>R. Nyambe (63)",
          "A. Robben (88)<br>K. Strootman (84)<br>V. van Dijk (83)",
          "W. Lautoa (72)<br>G. Gope-Fenepej (65)",
          "W. Reid (79)<br>C. Wood (75)<br>M. Rojas (74)",
          "M. Maâzou (73)<br>S. Koita (69)<br>O. Bonnes (64)",
          "V. Enyeama (80)<br>V. Moses (79)<br>O. Ndidi (77)",
          "J. Evans (79)<br>G. McAuley (77)<br>S. Davis (77)",
          "R. Jarstein (82)<br>M. Elyounoussi (78)<br>P. Skjelbred (78)",
          "A. Al-Habsi (73)",
          "C. Salom (71)<br>H. Aiesh (64)<br>M. Eid (59)",
          "A. Machado (71)<br>A. Godoy (71)<br>G. Gómez (70)",
          "M. Almirón (79)<br>H. Pérez (79)<br>A. Sanabria (78)",
          "J. Farfán (78)<br>A. Carrillo (77)<br>P. Hurtado (76)",
          "N. Etheridge (68)<br>S. Palla (63)<br>D. Sato (54)",
          "R. Lewandowski (91)<br>K. Glik (85)<br>L. Piszczek (83)",
          "Cristiano Ronaldo (94)<br>Pepe (86)<br>Bernardo Silva (84)",
          "J. Hernandez (66)<br>J. Saunders (66)",
          "A. Afif (68)<br>A. Fadlalla (66)<br>Y. Ahmed (65)",
          "S. Coleman (81)<br>J. McCarthy (80)<br>W. Hoolahan (77)",
          "F. Andone (79)<br>S. Radu (79)<br>C. Tătăruşanu (78)",
          "Mário Fernandes (81)<br>O. Shatov (80)<br>A. Dzagoev (80)",
          "E. Benedettini (54)",
          "N. Al Abed (76)<br>O. Hawsawi (75)<br>O. Othman (74)",
          "M. Phillips (77)<br>T. Cairney (77)<br>D. Fletcher (76)",
          "S. Mané (84)<br>K. Koulibaly (84)<br>I. Gueye (83)",
          "N. Matić (83)<br>L. Fejsa (82)<br>B. Ivanović (82)",
          "K. Kamara (74)<br>A. Kamara (69)<br>M. Turay (67)",
          "M. Hamšík (87)<br>M. Škrtel (81)<br>J. Kucka (79)",
          "J. Oblak (88)<br>S. Handanovič (87)<br>K. Kampl (81)",
          "L. Abdi (68)",
          "I. Khune (77)<br>S. Tshabalala (76)<br>P. Tau (76)",
          "De Gea (90)<br>Sergio Ramos (90)<br>Thiago (88)",
          "A. Razeek (60)",
          "R. Sawyers (70)<br>A. Harris (66)<br>O. Sterling-James (57)",
          "J. Donacien (62)",
          "M. Al Dhaw (62)<br>M. Eisa (58)",
          "K. Leerdam (70)<br>G. Zuiverloon (70)<br>R. Alberg (68)",
          "I. Rako (63)",
          "Z. Ibrahimović (88)<br>E. Forsberg (83)<br>M. Berg (80)",
          "R. Bürki (84)<br>Y. Sommer (83)<br>G. Xhaka (82)",
          "O. Al Soma (78)<br>O. Al Soma (78)<br>O. Kharbin (75)",
          "Luís Leal (64)",
          "M. Samatta (73)<br>F. Mussa (62)",
          "C. Songkrasin (65)<br>W. Jakkit (53)",
          "M. Dossevi (74)<br>S. Gakpé (74)<br>F. Ayité (74)",
          "K. Molino (74)<br>J. Bostock (71)<br>J. Jones (71)",
          "A. Abdennour (77)<br>Y. Benalouane (75)<br>E. Skhiri (74)",
          "O. Toprak (83)<br>A. Turan (82)<br>O. Özyakup (80)",
          "M. Kazankov (63)",
          "M. Azira (70)<br>A. Kakuba (64)<br>M. Lorenzen (64)",
          "A. Yarmolenko (81)<br>T. Stepanenko (80)<br>Y. Rakitskyi (80)",
          "J. Brooks (80)<br>F. Johnson (79)<br>C. Pulisic (78)",
          "L. Suárez (92)<br>D. Godín (88)<br>E. Cavani (87)",
          "V. Denisov (80)<br>V. Afonin (71)<br>V. Galiulin (67)",
          "S. Rondón (80)<br>J. Martínez (78)<br>T. Rincón (77)",
          "Luong Xuan Truong (61)",
          "G. Bale (89)<br>A. Ramsey (82)<br>A. Williams (82)",
          "C. Lungu (73)<br>S. Sunzu (71)<br>E. Kangwa (69)",
          "T. Ndoro (73)<br>M. Nakamba (73)<br>W. Katsande (73)"
         ],
         "type": "choropleth",
         "z": [
          3,
          35,
          57,
          15,
          5,
          965,
          14,
          227,
          266,
          7,
          1,
          9,
          272,
          1,
          14,
          4,
          30,
          55,
          812,
          1,
          33,
          14,
          1,
          86,
          55,
          22,
          4,
          2,
          375,
          30,
          592,
          9,
          22,
          29,
          109,
          2,
          11,
          11,
          73,
          58,
          346,
          3,
          37,
          32,
          2,
          1630,
          6,
          1,
          8,
          2,
          17,
          6,
          1,
          62,
          978,
          12,
          15,
          31,
          1140,
          117,
          2,
          98,
          1,
          1,
          1,
          25,
          16,
          5,
          14,
          13,
          1,
          37,
          53,
          30,
          17,
          9,
          12,
          799,
          101,
          37,
          469,
          3,
          7,
          6,
          330,
          32,
          2,
          1,
          7,
          5,
          2,
          2,
          3,
          12,
          8,
          4,
          46,
          3,
          2,
          1,
          360,
          6,
          25,
          4,
          78,
          3,
          2,
          429,
          2,
          38,
          3,
          126,
          86,
          333,
          1,
          4,
          16,
          69,
          30,
          3,
          337,
          367,
          2,
          6,
          417,
          59,
          306,
          1,
          329,
          300,
          129,
          133,
          9,
          64,
          65,
          1,
          77,
          1019,
          1,
          3,
          1,
          2,
          3,
          1,
          368,
          233,
          6,
          1,
          2,
          2,
          8,
          9,
          31,
          291,
          1,
          4,
          49,
          381,
          153,
          5,
          51,
          1,
          123,
          7,
          11
         ]
        }
       ],
       "layout": {
        "geo": {
         "projection": {
          "type": "mercator"
         },
         "showcoastlines": false,
         "showframe": true
        },
        "template": {
         "data": {
          "bar": [
           {
            "error_x": {
             "color": "#2a3f5f"
            },
            "error_y": {
             "color": "#2a3f5f"
            },
            "marker": {
             "line": {
              "color": "#E5ECF6",
              "width": 0.5
             }
            },
            "type": "bar"
           }
          ],
          "barpolar": [
           {
            "marker": {
             "line": {
              "color": "#E5ECF6",
              "width": 0.5
             }
            },
            "type": "barpolar"
           }
          ],
          "carpet": [
           {
            "aaxis": {
             "endlinecolor": "#2a3f5f",
             "gridcolor": "white",
             "linecolor": "white",
             "minorgridcolor": "white",
             "startlinecolor": "#2a3f5f"
            },
            "baxis": {
             "endlinecolor": "#2a3f5f",
             "gridcolor": "white",
             "linecolor": "white",
             "minorgridcolor": "white",
             "startlinecolor": "#2a3f5f"
            },
            "type": "carpet"
           }
          ],
          "choropleth": [
           {
            "colorbar": {
             "outlinewidth": 0,
             "ticks": ""
            },
            "type": "choropleth"
           }
          ],
          "contour": [
           {
            "colorbar": {
             "outlinewidth": 0,
             "ticks": ""
            },
            "colorscale": [
             [
              0,
              "#0d0887"
             ],
             [
              0.1111111111111111,
              "#46039f"
             ],
             [
              0.2222222222222222,
              "#7201a8"
             ],
             [
              0.3333333333333333,
              "#9c179e"
             ],
             [
              0.4444444444444444,
              "#bd3786"
             ],
             [
              0.5555555555555556,
              "#d8576b"
             ],
             [
              0.6666666666666666,
              "#ed7953"
             ],
             [
              0.7777777777777778,
              "#fb9f3a"
             ],
             [
              0.8888888888888888,
              "#fdca26"
             ],
             [
              1,
              "#f0f921"
             ]
            ],
            "type": "contour"
           }
          ],
          "contourcarpet": [
           {
            "colorbar": {
             "outlinewidth": 0,
             "ticks": ""
            },
            "type": "contourcarpet"
           }
          ],
          "heatmap": [
           {
            "colorbar": {
             "outlinewidth": 0,
             "ticks": ""
            },
            "colorscale": [
             [
              0,
              "#0d0887"
             ],
             [
              0.1111111111111111,
              "#46039f"
             ],
             [
              0.2222222222222222,
              "#7201a8"
             ],
             [
              0.3333333333333333,
              "#9c179e"
             ],
             [
              0.4444444444444444,
              "#bd3786"
             ],
             [
              0.5555555555555556,
              "#d8576b"
             ],
             [
              0.6666666666666666,
              "#ed7953"
             ],
             [
              0.7777777777777778,
              "#fb9f3a"
             ],
             [
              0.8888888888888888,
              "#fdca26"
             ],
             [
              1,
              "#f0f921"
             ]
            ],
            "type": "heatmap"
           }
          ],
          "heatmapgl": [
           {
            "colorbar": {
             "outlinewidth": 0,
             "ticks": ""
            },
            "colorscale": [
             [
              0,
              "#0d0887"
             ],
             [
              0.1111111111111111,
              "#46039f"
             ],
             [
              0.2222222222222222,
              "#7201a8"
             ],
             [
              0.3333333333333333,
              "#9c179e"
             ],
             [
              0.4444444444444444,
              "#bd3786"
             ],
             [
              0.5555555555555556,
              "#d8576b"
             ],
             [
              0.6666666666666666,
              "#ed7953"
             ],
             [
              0.7777777777777778,
              "#fb9f3a"
             ],
             [
              0.8888888888888888,
              "#fdca26"
             ],
             [
              1,
              "#f0f921"
             ]
            ],
            "type": "heatmapgl"
           }
          ],
          "histogram": [
           {
            "marker": {
             "colorbar": {
              "outlinewidth": 0,
              "ticks": ""
             }
            },
            "type": "histogram"
           }
          ],
          "histogram2d": [
           {
            "colorbar": {
             "outlinewidth": 0,
             "ticks": ""
            },
            "colorscale": [
             [
              0,
              "#0d0887"
             ],
             [
              0.1111111111111111,
              "#46039f"
             ],
             [
              0.2222222222222222,
              "#7201a8"
             ],
             [
              0.3333333333333333,
              "#9c179e"
             ],
             [
              0.4444444444444444,
              "#bd3786"
             ],
             [
              0.5555555555555556,
              "#d8576b"
             ],
             [
              0.6666666666666666,
              "#ed7953"
             ],
             [
              0.7777777777777778,
              "#fb9f3a"
             ],
             [
              0.8888888888888888,
              "#fdca26"
             ],
             [
              1,
              "#f0f921"
             ]
            ],
            "type": "histogram2d"
           }
          ],
          "histogram2dcontour": [
           {
            "colorbar": {
             "outlinewidth": 0,
             "ticks": ""
            },
            "colorscale": [
             [
              0,
              "#0d0887"
             ],
             [
              0.1111111111111111,
              "#46039f"
             ],
             [
              0.2222222222222222,
              "#7201a8"
             ],
             [
              0.3333333333333333,
              "#9c179e"
             ],
             [
              0.4444444444444444,
              "#bd3786"
             ],
             [
              0.5555555555555556,
              "#d8576b"
             ],
             [
              0.6666666666666666,
              "#ed7953"
             ],
             [
              0.7777777777777778,
              "#fb9f3a"
             ],
             [
              0.8888888888888888,
              "#fdca26"
             ],
             [
              1,
              "#f0f921"
             ]
            ],
            "type": "histogram2dcontour"
           }
          ],
          "mesh3d": [
           {
            "colorbar": {
             "outlinewidth": 0,
             "ticks": ""
            },
            "type": "mesh3d"
           }
          ],
          "parcoords": [
           {
            "line": {
             "colorbar": {
              "outlinewidth": 0,
              "ticks": ""
             }
            },
            "type": "parcoords"
           }
          ],
          "pie": [
           {
            "automargin": true,
            "type": "pie"
           }
          ],
          "scatter": [
           {
            "marker": {
             "colorbar": {
              "outlinewidth": 0,
              "ticks": ""
             }
            },
            "type": "scatter"
           }
          ],
          "scatter3d": [
           {
            "line": {
             "colorbar": {
              "outlinewidth": 0,
              "ticks": ""
             }
            },
            "marker": {
             "colorbar": {
              "outlinewidth": 0,
              "ticks": ""
             }
            },
            "type": "scatter3d"
           }
          ],
          "scattercarpet": [
           {
            "marker": {
             "colorbar": {
              "outlinewidth": 0,
              "ticks": ""
             }
            },
            "type": "scattercarpet"
           }
          ],
          "scattergeo": [
           {
            "marker": {
             "colorbar": {
              "outlinewidth": 0,
              "ticks": ""
             }
            },
            "type": "scattergeo"
           }
          ],
          "scattergl": [
           {
            "marker": {
             "colorbar": {
              "outlinewidth": 0,
              "ticks": ""
             }
            },
            "type": "scattergl"
           }
          ],
          "scattermapbox": [
           {
            "marker": {
             "colorbar": {
              "outlinewidth": 0,
              "ticks": ""
             }
            },
            "type": "scattermapbox"
           }
          ],
          "scatterpolar": [
           {
            "marker": {
             "colorbar": {
              "outlinewidth": 0,
              "ticks": ""
             }
            },
            "type": "scatterpolar"
           }
          ],
          "scatterpolargl": [
           {
            "marker": {
             "colorbar": {
              "outlinewidth": 0,
              "ticks": ""
             }
            },
            "type": "scatterpolargl"
           }
          ],
          "scatterternary": [
           {
            "marker": {
             "colorbar": {
              "outlinewidth": 0,
              "ticks": ""
             }
            },
            "type": "scatterternary"
           }
          ],
          "surface": [
           {
            "colorbar": {
             "outlinewidth": 0,
             "ticks": ""
            },
            "colorscale": [
             [
              0,
              "#0d0887"
             ],
             [
              0.1111111111111111,
              "#46039f"
             ],
             [
              0.2222222222222222,
              "#7201a8"
             ],
             [
              0.3333333333333333,
              "#9c179e"
             ],
             [
              0.4444444444444444,
              "#bd3786"
             ],
             [
              0.5555555555555556,
              "#d8576b"
             ],
             [
              0.6666666666666666,
              "#ed7953"
             ],
             [
              0.7777777777777778,
              "#fb9f3a"
             ],
             [
              0.8888888888888888,
              "#fdca26"
             ],
             [
              1,
              "#f0f921"
             ]
            ],
            "type": "surface"
           }
          ],
          "table": [
           {
            "cells": {
             "fill": {
              "color": "#EBF0F8"
             },
             "line": {
              "color": "white"
             }
            },
            "header": {
             "fill": {
              "color": "#C8D4E3"
             },
             "line": {
              "color": "white"
             }
            },
            "type": "table"
           }
          ]
         },
         "layout": {
          "annotationdefaults": {
           "arrowcolor": "#2a3f5f",
           "arrowhead": 0,
           "arrowwidth": 1
          },
          "coloraxis": {
           "colorbar": {
            "outlinewidth": 0,
            "ticks": ""
           }
          },
          "colorscale": {
           "diverging": [
            [
             0,
             "#8e0152"
            ],
            [
             0.1,
             "#c51b7d"
            ],
            [
             0.2,
             "#de77ae"
            ],
            [
             0.3,
             "#f1b6da"
            ],
            [
             0.4,
             "#fde0ef"
            ],
            [
             0.5,
             "#f7f7f7"
            ],
            [
             0.6,
             "#e6f5d0"
            ],
            [
             0.7,
             "#b8e186"
            ],
            [
             0.8,
             "#7fbc41"
            ],
            [
             0.9,
             "#4d9221"
            ],
            [
             1,
             "#276419"
            ]
           ],
           "sequential": [
            [
             0,
             "#0d0887"
            ],
            [
             0.1111111111111111,
             "#46039f"
            ],
            [
             0.2222222222222222,
             "#7201a8"
            ],
            [
             0.3333333333333333,
             "#9c179e"
            ],
            [
             0.4444444444444444,
             "#bd3786"
            ],
            [
             0.5555555555555556,
             "#d8576b"
            ],
            [
             0.6666666666666666,
             "#ed7953"
            ],
            [
             0.7777777777777778,
             "#fb9f3a"
            ],
            [
             0.8888888888888888,
             "#fdca26"
            ],
            [
             1,
             "#f0f921"
            ]
           ],
           "sequentialminus": [
            [
             0,
             "#0d0887"
            ],
            [
             0.1111111111111111,
             "#46039f"
            ],
            [
             0.2222222222222222,
             "#7201a8"
            ],
            [
             0.3333333333333333,
             "#9c179e"
            ],
            [
             0.4444444444444444,
             "#bd3786"
            ],
            [
             0.5555555555555556,
             "#d8576b"
            ],
            [
             0.6666666666666666,
             "#ed7953"
            ],
            [
             0.7777777777777778,
             "#fb9f3a"
            ],
            [
             0.8888888888888888,
             "#fdca26"
            ],
            [
             1,
             "#f0f921"
            ]
           ]
          },
          "colorway": [
           "#636efa",
           "#EF553B",
           "#00cc96",
           "#ab63fa",
           "#FFA15A",
           "#19d3f3",
           "#FF6692",
           "#B6E880",
           "#FF97FF",
           "#FECB52"
          ],
          "font": {
           "color": "#2a3f5f"
          },
          "geo": {
           "bgcolor": "white",
           "lakecolor": "white",
           "landcolor": "#E5ECF6",
           "showlakes": true,
           "showland": true,
           "subunitcolor": "white"
          },
          "hoverlabel": {
           "align": "left"
          },
          "hovermode": "closest",
          "mapbox": {
           "style": "light"
          },
          "paper_bgcolor": "white",
          "plot_bgcolor": "#E5ECF6",
          "polar": {
           "angularaxis": {
            "gridcolor": "white",
            "linecolor": "white",
            "ticks": ""
           },
           "bgcolor": "#E5ECF6",
           "radialaxis": {
            "gridcolor": "white",
            "linecolor": "white",
            "ticks": ""
           }
          },
          "scene": {
           "xaxis": {
            "backgroundcolor": "#E5ECF6",
            "gridcolor": "white",
            "gridwidth": 2,
            "linecolor": "white",
            "showbackground": true,
            "ticks": "",
            "zerolinecolor": "white"
           },
           "yaxis": {
            "backgroundcolor": "#E5ECF6",
            "gridcolor": "white",
            "gridwidth": 2,
            "linecolor": "white",
            "showbackground": true,
            "ticks": "",
            "zerolinecolor": "white"
           },
           "zaxis": {
            "backgroundcolor": "#E5ECF6",
            "gridcolor": "white",
            "gridwidth": 2,
            "linecolor": "white",
            "showbackground": true,
            "ticks": "",
            "zerolinecolor": "white"
           }
          },
          "shapedefaults": {
           "line": {
            "color": "#2a3f5f"
           }
          },
          "ternary": {
           "aaxis": {
            "gridcolor": "white",
            "linecolor": "white",
            "ticks": ""
           },
           "baxis": {
            "gridcolor": "white",
            "linecolor": "white",
            "ticks": ""
           },
           "bgcolor": "#E5ECF6",
           "caxis": {
            "gridcolor": "white",
            "linecolor": "white",
            "ticks": ""
           }
          },
          "title": {
           "x": 0.05
          },
          "xaxis": {
           "automargin": true,
           "gridcolor": "white",
           "linecolor": "white",
           "ticks": "",
           "title": {
            "standoff": 15
           },
           "zerolinecolor": "white",
           "zerolinewidth": 2
          },
          "yaxis": {
           "automargin": true,
           "gridcolor": "white",
           "linecolor": "white",
           "ticks": "",
           "title": {
            "standoff": 15
           },
           "zerolinecolor": "white",
           "zerolinewidth": 2
          }
         }
        },
        "title": {
         "text": "Total number of players per nationality"
        }
       }
      },
      "text/html": [
       "<div>\n",
       "        \n",
       "        \n",
       "            <div id=\"64095c89-7ccf-4a8b-825c-3c987dab3f28\" class=\"plotly-graph-div\" style=\"height:525px; width:100%;\"></div>\n",
       "            <script type=\"text/javascript\">\n",
       "                require([\"plotly\"], function(Plotly) {\n",
       "                    window.PLOTLYENV=window.PLOTLYENV || {};\n",
       "                    \n",
       "                if (document.getElementById(\"64095c89-7ccf-4a8b-825c-3c987dab3f28\")) {\n",
       "                    Plotly.newPlot(\n",
       "                        '64095c89-7ccf-4a8b-825c-3c987dab3f28',\n",
       "                        [{\"colorbar\": {\"title\": {\"text\": \"Scale\"}}, \"colorscale\": [[0.0, \"rgb(242,240,247)\"], [0.2, \"rgb(218,218,235)\"], [0.4, \"rgb(188,189,220)\"], [0.6, \"rgb(158,154,200)\"], [0.8, \"rgb(117,107,177)\"], [1.0, \"rgb(84,39,143)\"]], \"locationmode\": \"country names\", \"locations\": [\"Afghanistan\", \"Albania\", \"Algeria\", \"Angola\", \"Antigua & Barbuda\", \"Argentina\", \"Armenia\", \"Australia\", \"Austria\", \"Azerbaijan\", \"Barbados\", \"Belarus\", \"Belgium\", \"Belize\", \"Benin\", \"Bermuda\", \"Bolivia\", \"Bosnia Herzegovina\", \"Brazil\", \"Brunei Darussalam\", \"Bulgaria\", \"Burkina Faso\", \"Burundi\", \"Cameroon\", \"Canada\", \"Cape Verde\", \"Central African Rep.\", \"Chad\", \"Chile\", \"China PR\", \"Colombia\", \"Comoros\", \"Congo\", \"Costa Rica\", \"Croatia\", \"Cuba\", \"Curacao\", \"Cyprus\", \"Czech Republic\", \"DR Congo\", \"Denmark\", \"Dominican Republic\", \"Ecuador\", \"Egypt\", \"El Salvador\", \"United Kingdom\", \"Equatorial Guinea\", \"Eritrea\", \"Estonia\", \"Ethiopia\", \"FYR Macedonia\", \"Faroe Islands\", \"Fiji\", \"Finland\", \"France\", \"Gabon\", \"Gambia\", \"Georgia\", \"Germany\", \"Ghana\", \"Gibraltar\", \"Greece\", \"Grenada\", \"Guam\", \"Guatemala\", \"Guinea\", \"Guinea Bissau\", \"Guyana\", \"Haiti\", \"Honduras\", \"Hong Kong\", \"Hungary\", \"Iceland\", \"India\", \"Iran\", \"Iraq\", \"Israel\", \"Italy\", \"Ivory Coast\", \"Jamaica\", \"Japan\", \"Kazakhstan\", \"Kenya\", \"Korea DPR\", \"Korea Republic\", \"Kosovo\", \"Kuwait\", \"Kyrgyzstan\", \"Latvia\", \"Lebanon\", \"Liberia\", \"Libya\", \"Liechtenstein\", \"Lithuania\", \"Luxembourg\", \"Madagascar\", \"Mali\", \"Malta\", \"Mauritania\", \"Mauritius\", \"Mexico\", \"Moldova\", \"Montenegro\", \"Montserrat\", \"Morocco\", \"Mozambique\", \"Namibia\", \"Netherlands\", \"New Caledonia\", \"New Zealand\", \"Niger\", \"Nigeria\", \"Northern Ireland\", \"Norway\", \"Oman\", \"Palestine\", \"Panama\", \"Paraguay\", \"Peru\", \"Philippines\", \"Poland\", \"Portugal\", \"Puerto Rico\", \"Qatar\", \"Republic of Ireland\", \"Romania\", \"Russia\", \"San Marino\", \"Saudi Arabia\", \"Scotland\", \"Senegal\", \"Serbia\", \"Sierra Leone\", \"Slovakia\", \"Slovenia\", \"Somalia\", \"South Africa\", \"Spain\", \"Sri Lanka\", \"St Kitts Nevis\", \"St Lucia\", \"Sudan\", \"Suriname\", \"Swaziland\", \"Sweden\", \"Switzerland\", \"Syria\", \"S\\u00e3o Tom\\u00e9 & Pr\\u00edncipe\", \"Tanzania\", \"Thailand\", \"Togo\", \"Trinidad & Tobago\", \"Tunisia\", \"Turkey\", \"Turkmenistan\", \"Uganda\", \"Ukraine\", \"United States\", \"Uruguay\", \"Uzbekistan\", \"Venezuela\", \"Vietnam\", \"Wales\", \"Zambia\", \"Zimbabwe\"], \"reversescale\": false, \"text\": [\"M. Kouhyar (60)<br>S. Mukhammad (59)<br>N. Husin (50)\", \"E. Hysaj (79)<br>E. Berisha (78)<br>M. Mavraj (76)\", \"R. Mahrez (83)<br>I. Slimani (82)<br>Y. Brahimi (82)\", \"Bastos (77)<br>Djalma (74)<br>Mateus (73)\", \"M. Romeo (65)<br>C. Jahraldo-Martin (60)<br>J. Parker (59)\", \"L. Messi (93)<br>G. Higua\\u00edn (90)<br>S. Ag\\u00fcero (89)\", \"H. Mkhitaryan (85)<br>A. \\u00d6zbiliz (73)<br>Marcos Pizzelli (71)\", \"M. Ryan (77)<br>B. Jones (77)<br>A. Mooy (77)\", \"D. Alaba (86)<br>M. Arnautovi\\u0107 (82)<br>S. Pr\\u00f6dl (79)\", \"D. Y\\u0131lmaz (70)<br>D. Nazarov (68)<br>Eddy (66)\", \"J. Forte (65)\", \"Renan Bressan (76)<br>T. Kalachev (75)<br>A. Martynovich (74)\", \"E. Hazard (90)<br>K. De Bruyne (89)<br>T. Courtois (89)\", \"M. Salazar (64)\", \"S. Mouni\\u00e9 (76)<br>S. Sess\\u00e8gnon (75)<br>J. Ad\\u00e9oti (74)\", \"N. Wells (72)<br>R. Lambe (63)<br>Z. Lewis (60)\", \"M. Martins (75)<br>J. Campos (71)<br>P. Escobar (70)\", \"M. Pjani\\u0107 (85)<br>E. D\\u017eeko (84)<br>A. Begovi\\u0107 (82)\", \"Neymar (92)<br>Thiago Silva (88)<br>Marcelo (87)\", \"F. Bolkiah (55)\", \"I. Popov (77)<br>V. Stoyanov (74)<br>G. Milanov (73)\", \"B. Traor\\u00e9 (79)<br>C. Kabor\\u00e9 (77)<br>B. Kon\\u00e9 (75)\", \"C. Amissi (64)\", \"J. Matip (83)<br>S. Eto'o (81)<br>C. Kameni (80)\", \"A. Hutchinson (80)<br>S. Arfield (73)<br>C. Larin (73)\", \"Z\\u00e9 Lu\\u00eds (79)<br>Garry Rodrigues (75)<br>Varela (75)\", \"C. Yamb\\u00e9r\\u00e9 (70)<br>A. Youga (69)<br>E. Enza-Yamissi (68)\", \"C. Ninga (74)<br>S. Altama (62)\", \"A. S\\u00e1nchez (89)<br>A. Vidal (87)<br>G. Medel (82)\", \"Zheng Zhi (76)<br>Zeng Cheng (74)<br>Gao Lin (74)\", \"J. Rodr\\u00edguez (86)<br>Falcao (84)<br>C. Bacca (82)\", \"E. Ben Nabouhane (71)<br>R. Abdullah (70)<br>K. Abdallah (70)\", \"D. N'Dinga (74)<br>T. Bifouma (74)<br>C. Samba (74)\", \"K. Navas (85)<br>O. Duarte (77)<br>B. Ru\\u00edz (77)\", \"L. Modri\\u0107 (89)<br>I. Rakiti\\u0107 (87)<br>D. Suba\\u0161i\\u0107 (85)\", \"O. Alonso (77)<br>O. Hern\\u00e1ndez (69)\", \"E. Room (74)<br>L. Bacuna (72)<br>C. Martina (71)\", \"K. Laifis (73)<br>P. Sotiriou (68)<br>V. Sielis (67)\", \"P. \\u010cech (86)<br>V. Darida (79)<br>T. Rosick\\u00fd (79)\", \"C. Bakambu (81)<br>Y. Bolasie (78)<br>G. Kakuta (76)\", \"C. Eriksen (87)<br>K. Schmeichel (83)<br>A. Christensen (81)\", \"Mariano (76)<br>Tano Bonnin (73)<br>J. Firpo (60)\", \"A. Valencia (83)<br>C. Noboa (79)<br>J. Montero (78)\", \"M. Salah (83)<br>M. Elneny (77)<br>A. Hassan (75)\", \"D. Cer\\u00e9n (70)<br>A. Alvarez (68)\", \"H. Kane (86)<br>D. Alli (84)<br>G. Cahill (84)\", \"Nsue (71)<br>A. Ngamukol (70)<br>Iban Salvador (69)\", \"H. Goitom (71)\", \"K. Vassiljev (72)<br>K. Mets (67)<br>N. Baranov (67)\", \"A. Askar (67)<br>G. Panom (64)\", \"G. Pandev (74)<br>I. Nestorovski (74)<br>S. Ristovski (74)\", \"H. Hansson (66)<br>G. R\\u00f3lantsson S\\u00f8rensen (64)<br>J. Edmundsson (63)\", \"R. Krishna (69)\", \"L. Hr\\u00e1deck\\u00fd (81)<br>P. Hetemaj (77)<br>N. Moisander (76)\", \"A. Griezmann (88)<br>H. Lloris (88)<br>N. Kant\\u00e9 (87)\", \"P. Aubameyang (88)<br>M. Lemina (77)<br>D. Ndong (74)\", \"O. Colley (74)<br>M. Barrow (72)<br>B. Sanneh (68)\", \"G. Kashia (76)<br>V. Qazaishvili (75)<br>J. Ananidze (75)\", \"M. Neuer (92)<br>T. Kroos (90)<br>J. Boateng (88)\", \"K. Boateng (80)<br>A. Ayew (79)<br>A. Gyan (79)\", \"L. Walker (64)<br>S. Wiseman (64)\", \"Sokratis (86)<br>K. Manolas (84)<br>O. Karnezis (82)\", \"A. Pierre (64)\", \"A. DeLaGarza (69)\", \"R. J\\u00e9rez (72)\", \"N. Ke\\u00efta (83)<br>I. Traor\\u00e9 (80)<br>F. Pogba (77)\", \"Gerso (74)<br>F. Mendy (72)<br>Pel\\u00e9 (72)\", \"W. Creavalle (65)<br>N. Danns (63)<br>M. Briggs (61)\", \"J. Louis (72)<br>R. Genevois (72)<br>R. Goreux (70)\", \"A. Najar (74)<br>A. Lozano (73)<br>A. Elis (72)\", \"Dai Wai-Tsun (54)\", \"P. Gul\\u00e1csi (76)<br>N. Nikoli\\u0107 (76)<br>A. Szalai (75)\", \"G. Sigur\\u00f0sson (82)<br>A. Finnbogason (76)<br>E. Hallfre\\u00f0sson (75)\", \"S. Chhetri (67)<br>L. Ralte (64)<br>S. Paul (64)\", \"S. Azmoun (77)<br>A. Jahanbakhsh (75)<br>M. Mohammadi (73)\", \"J. Meram (74)<br>A. Adnan (73)<br>B. Nouri (69)\", \"M. Dabbur (76)<br>B. Natcho (76)<br>L. Refaelov (75)\", \"G. Chiellini (89)<br>G. Buffon (89)<br>L. Bonucci (88)\", \"E. Bailly (84)<br>Y. Tour\\u00e9 (83)<br>J. Seri (82)\", \"W. Morgan (77)<br>L. Bailey (76)<br>A. Blake (75)\", \"S. Kagawa (83)<br>T. Inui (78)<br>K. Honda (78)\", \"A. Merkel (68)<br>K. Engel (66)<br>W. Evseev (64)\", \"V. Wanyama (82)<br>M. Mariga (72)<br>M. Olunga (69)\", \"Chong Te Se (72)<br>Han Kwang Song (67)<br>Pak Kwang Ryong (64)\", \"H. Son (82)<br>Koo Ja Cheol (76)<br>Yoon Bo Sang (74)\", \"M. Rashica (75)<br>B. Berisha (74)<br>V. Berisha (74)\", \"F. Al Berahim (71)<br>F. Al Hajeri (61)\", \"V. Lux (58)\", \"A. Rud\\u0146evs (73)<br>A. Va\\u0146ins (71)<br>I. Tarasovs (68)\", \"B. Jradi (69)<br>S. Saad (66)<br>H. El Helwe (62)\", \"W. Jebor (67)<br>S. Nimely (61)\", \"A. Benali (72)<br>H. Elhouni (63)\", \"M. B\\u00fcchel (73)<br>N. Hasler (66)<br>Y. Frick (56)\", \"Z. Kar\\u010demarskas (76)<br>L. Spalvis (72)<br>F. \\u010cernych (68)\", \"M. Chanot (71)<br>L. Jans (71)<br>A. Moris (67)\", \"I. Andriatsima (72)<br>L. Nomenjanahary (68)<br>C. Andriamahitsinoro (65)\", \"M. Marega (77)<br>M. Wagu\\u00e9 (74)<br>A. Niane (74)\", \"M. Beerman (63)<br>M. Muscat (62)<br>L. Gambin (61)\", \"D. Guidileye (70)<br>A. Ba (63)\", \"K. Bru (67)\", \"J. Hern\\u00e1ndez (82)<br>C. Vela (82)<br>J. Corona (81)\", \"A. Ioni\\u0163\\u0103 (75)<br>A. Epureanu (74)<br>I. Arma\\u015f (74)\", \"S. Savi\\u0107 (82)<br>S. Joveti\\u0107 (81)<br>D. Damjanovi\\u0107 (75)\", \"D. Daniels (67)<br>L. Taylor (66)<br>A. Dyer (65)\", \"M. Benatia (84)<br>H. Ziyech (81)<br>Y. Belhanda (81)\", \"Mexer (77)<br>Zainadine (74)<br>Gildo (66)\", \"M. Starke (66)<br>R. Nyambe (63)\", \"A. Robben (88)<br>K. Strootman (84)<br>V. van Dijk (83)\", \"W. Lautoa (72)<br>G. Gope-Fenepej (65)\", \"W. Reid (79)<br>C. Wood (75)<br>M. Rojas (74)\", \"M. Ma\\u00e2zou (73)<br>S. Koita (69)<br>O. Bonnes (64)\", \"V. Enyeama (80)<br>V. Moses (79)<br>O. Ndidi (77)\", \"J. Evans (79)<br>G. McAuley (77)<br>S. Davis (77)\", \"R. Jarstein (82)<br>M. Elyounoussi (78)<br>P. Skjelbred (78)\", \"A. Al-Habsi (73)\", \"C. Salom (71)<br>H. Aiesh (64)<br>M. Eid (59)\", \"A. Machado (71)<br>A. Godoy (71)<br>G. G\\u00f3mez (70)\", \"M. Almir\\u00f3n (79)<br>H. P\\u00e9rez (79)<br>A. Sanabria (78)\", \"J. Farf\\u00e1n (78)<br>A. Carrillo (77)<br>P. Hurtado (76)\", \"N. Etheridge (68)<br>S. Palla (63)<br>D. Sato (54)\", \"R. Lewandowski (91)<br>K. Glik (85)<br>L. Piszczek (83)\", \"Cristiano Ronaldo (94)<br>Pepe (86)<br>Bernardo Silva (84)\", \"J. Hernandez (66)<br>J. Saunders (66)\", \"A. Afif (68)<br>A. Fadlalla (66)<br>Y. Ahmed (65)\", \"S. Coleman (81)<br>J. McCarthy (80)<br>W. Hoolahan (77)\", \"F. Andone (79)<br>S. Radu (79)<br>C. T\\u0103t\\u0103ru\\u015fanu (78)\", \"M\\u00e1rio Fernandes (81)<br>O. Shatov (80)<br>A. Dzagoev (80)\", \"E. Benedettini (54)\", \"N. Al Abed (76)<br>O. Hawsawi (75)<br>O. Othman (74)\", \"M. Phillips (77)<br>T. Cairney (77)<br>D. Fletcher (76)\", \"S. Man\\u00e9 (84)<br>K. Koulibaly (84)<br>I. Gueye (83)\", \"N. Mati\\u0107 (83)<br>L. Fejsa (82)<br>B. Ivanovi\\u0107 (82)\", \"K. Kamara (74)<br>A. Kamara (69)<br>M. Turay (67)\", \"M. Ham\\u0161\\u00edk (87)<br>M. \\u0160krtel (81)<br>J. Kucka (79)\", \"J. Oblak (88)<br>S. Handanovi\\u010d (87)<br>K. Kampl (81)\", \"L. Abdi (68)\", \"I. Khune (77)<br>S. Tshabalala (76)<br>P. Tau (76)\", \"De Gea (90)<br>Sergio Ramos (90)<br>Thiago (88)\", \"A. Razeek (60)\", \"R. Sawyers (70)<br>A. Harris (66)<br>O. Sterling-James (57)\", \"J. Donacien (62)\", \"M. Al Dhaw (62)<br>M. Eisa (58)\", \"K. Leerdam (70)<br>G. Zuiverloon (70)<br>R. Alberg (68)\", \"I. Rako (63)\", \"Z. Ibrahimovi\\u0107 (88)<br>E. Forsberg (83)<br>M. Berg (80)\", \"R. B\\u00fcrki (84)<br>Y. Sommer (83)<br>G. Xhaka (82)\", \"O. Al Soma (78)<br>O. Al Soma (78)<br>O. Kharbin (75)\", \"Lu\\u00eds Leal (64)\", \"M. Samatta (73)<br>F. Mussa (62)\", \"C. Songkrasin (65)<br>W. Jakkit (53)\", \"M. Dossevi (74)<br>S. Gakp\\u00e9 (74)<br>F. Ayit\\u00e9 (74)\", \"K. Molino (74)<br>J. Bostock (71)<br>J. Jones (71)\", \"A. Abdennour (77)<br>Y. Benalouane (75)<br>E. Skhiri (74)\", \"O. Toprak (83)<br>A. Turan (82)<br>O. \\u00d6zyakup (80)\", \"M. Kazankov (63)\", \"M. Azira (70)<br>A. Kakuba (64)<br>M. Lorenzen (64)\", \"A. Yarmolenko (81)<br>T. Stepanenko (80)<br>Y. Rakitskyi (80)\", \"J. Brooks (80)<br>F. Johnson (79)<br>C. Pulisic (78)\", \"L. Su\\u00e1rez (92)<br>D. God\\u00edn (88)<br>E. Cavani (87)\", \"V. Denisov (80)<br>V. Afonin (71)<br>V. Galiulin (67)\", \"S. Rond\\u00f3n (80)<br>J. Mart\\u00ednez (78)<br>T. Rinc\\u00f3n (77)\", \"Luong Xuan Truong (61)\", \"G. Bale (89)<br>A. Ramsey (82)<br>A. Williams (82)\", \"C. Lungu (73)<br>S. Sunzu (71)<br>E. Kangwa (69)\", \"T. Ndoro (73)<br>M. Nakamba (73)<br>W. Katsande (73)\"], \"type\": \"choropleth\", \"z\": [3, 35, 57, 15, 5, 965, 14, 227, 266, 7, 1, 9, 272, 1, 14, 4, 30, 55, 812, 1, 33, 14, 1, 86, 55, 22, 4, 2, 375, 30, 592, 9, 22, 29, 109, 2, 11, 11, 73, 58, 346, 3, 37, 32, 2, 1630, 6, 1, 8, 2, 17, 6, 1, 62, 978, 12, 15, 31, 1140, 117, 2, 98, 1, 1, 1, 25, 16, 5, 14, 13, 1, 37, 53, 30, 17, 9, 12, 799, 101, 37, 469, 3, 7, 6, 330, 32, 2, 1, 7, 5, 2, 2, 3, 12, 8, 4, 46, 3, 2, 1, 360, 6, 25, 4, 78, 3, 2, 429, 2, 38, 3, 126, 86, 333, 1, 4, 16, 69, 30, 3, 337, 367, 2, 6, 417, 59, 306, 1, 329, 300, 129, 133, 9, 64, 65, 1, 77, 1019, 1, 3, 1, 2, 3, 1, 368, 233, 6, 1, 2, 2, 8, 9, 31, 291, 1, 4, 49, 381, 153, 5, 51, 1, 123, 7, 11]}],\n",
       "                        {\"geo\": {\"projection\": {\"type\": \"mercator\"}, \"showcoastlines\": false, \"showframe\": true}, \"template\": {\"data\": {\"bar\": [{\"error_x\": {\"color\": \"#2a3f5f\"}, \"error_y\": {\"color\": \"#2a3f5f\"}, \"marker\": {\"line\": {\"color\": \"#E5ECF6\", \"width\": 0.5}}, \"type\": \"bar\"}], \"barpolar\": [{\"marker\": {\"line\": {\"color\": \"#E5ECF6\", \"width\": 0.5}}, \"type\": \"barpolar\"}], \"carpet\": [{\"aaxis\": {\"endlinecolor\": \"#2a3f5f\", \"gridcolor\": \"white\", \"linecolor\": \"white\", \"minorgridcolor\": \"white\", \"startlinecolor\": \"#2a3f5f\"}, \"baxis\": {\"endlinecolor\": \"#2a3f5f\", \"gridcolor\": \"white\", \"linecolor\": \"white\", \"minorgridcolor\": \"white\", \"startlinecolor\": \"#2a3f5f\"}, \"type\": \"carpet\"}], \"choropleth\": [{\"colorbar\": {\"outlinewidth\": 0, \"ticks\": \"\"}, \"type\": \"choropleth\"}], \"contour\": [{\"colorbar\": {\"outlinewidth\": 0, \"ticks\": \"\"}, \"colorscale\": [[0.0, \"#0d0887\"], [0.1111111111111111, \"#46039f\"], [0.2222222222222222, \"#7201a8\"], [0.3333333333333333, \"#9c179e\"], [0.4444444444444444, \"#bd3786\"], [0.5555555555555556, \"#d8576b\"], [0.6666666666666666, \"#ed7953\"], [0.7777777777777778, \"#fb9f3a\"], [0.8888888888888888, \"#fdca26\"], [1.0, \"#f0f921\"]], \"type\": \"contour\"}], \"contourcarpet\": [{\"colorbar\": {\"outlinewidth\": 0, \"ticks\": \"\"}, \"type\": \"contourcarpet\"}], \"heatmap\": [{\"colorbar\": {\"outlinewidth\": 0, \"ticks\": \"\"}, \"colorscale\": [[0.0, \"#0d0887\"], [0.1111111111111111, \"#46039f\"], [0.2222222222222222, \"#7201a8\"], [0.3333333333333333, \"#9c179e\"], [0.4444444444444444, \"#bd3786\"], [0.5555555555555556, \"#d8576b\"], [0.6666666666666666, \"#ed7953\"], [0.7777777777777778, \"#fb9f3a\"], [0.8888888888888888, \"#fdca26\"], [1.0, \"#f0f921\"]], \"type\": \"heatmap\"}], \"heatmapgl\": [{\"colorbar\": {\"outlinewidth\": 0, \"ticks\": \"\"}, \"colorscale\": [[0.0, \"#0d0887\"], [0.1111111111111111, \"#46039f\"], [0.2222222222222222, \"#7201a8\"], [0.3333333333333333, \"#9c179e\"], [0.4444444444444444, \"#bd3786\"], [0.5555555555555556, \"#d8576b\"], [0.6666666666666666, \"#ed7953\"], [0.7777777777777778, \"#fb9f3a\"], [0.8888888888888888, \"#fdca26\"], [1.0, \"#f0f921\"]], \"type\": \"heatmapgl\"}], \"histogram\": [{\"marker\": {\"colorbar\": {\"outlinewidth\": 0, \"ticks\": \"\"}}, \"type\": \"histogram\"}], \"histogram2d\": [{\"colorbar\": {\"outlinewidth\": 0, \"ticks\": \"\"}, \"colorscale\": [[0.0, \"#0d0887\"], [0.1111111111111111, \"#46039f\"], [0.2222222222222222, \"#7201a8\"], [0.3333333333333333, \"#9c179e\"], [0.4444444444444444, \"#bd3786\"], [0.5555555555555556, \"#d8576b\"], [0.6666666666666666, \"#ed7953\"], [0.7777777777777778, \"#fb9f3a\"], [0.8888888888888888, \"#fdca26\"], [1.0, \"#f0f921\"]], \"type\": \"histogram2d\"}], \"histogram2dcontour\": [{\"colorbar\": {\"outlinewidth\": 0, \"ticks\": \"\"}, \"colorscale\": [[0.0, \"#0d0887\"], [0.1111111111111111, \"#46039f\"], [0.2222222222222222, \"#7201a8\"], [0.3333333333333333, \"#9c179e\"], [0.4444444444444444, \"#bd3786\"], [0.5555555555555556, \"#d8576b\"], [0.6666666666666666, \"#ed7953\"], [0.7777777777777778, \"#fb9f3a\"], [0.8888888888888888, \"#fdca26\"], [1.0, \"#f0f921\"]], \"type\": \"histogram2dcontour\"}], \"mesh3d\": [{\"colorbar\": {\"outlinewidth\": 0, \"ticks\": \"\"}, \"type\": \"mesh3d\"}], \"parcoords\": [{\"line\": {\"colorbar\": {\"outlinewidth\": 0, \"ticks\": \"\"}}, \"type\": \"parcoords\"}], \"pie\": [{\"automargin\": true, \"type\": \"pie\"}], \"scatter\": [{\"marker\": {\"colorbar\": {\"outlinewidth\": 0, \"ticks\": \"\"}}, \"type\": \"scatter\"}], \"scatter3d\": [{\"line\": {\"colorbar\": {\"outlinewidth\": 0, \"ticks\": \"\"}}, \"marker\": {\"colorbar\": {\"outlinewidth\": 0, \"ticks\": \"\"}}, \"type\": \"scatter3d\"}], \"scattercarpet\": [{\"marker\": {\"colorbar\": {\"outlinewidth\": 0, \"ticks\": \"\"}}, \"type\": \"scattercarpet\"}], \"scattergeo\": [{\"marker\": {\"colorbar\": {\"outlinewidth\": 0, \"ticks\": \"\"}}, \"type\": \"scattergeo\"}], \"scattergl\": [{\"marker\": {\"colorbar\": {\"outlinewidth\": 0, \"ticks\": \"\"}}, \"type\": \"scattergl\"}], \"scattermapbox\": [{\"marker\": {\"colorbar\": {\"outlinewidth\": 0, \"ticks\": \"\"}}, \"type\": \"scattermapbox\"}], \"scatterpolar\": [{\"marker\": {\"colorbar\": {\"outlinewidth\": 0, \"ticks\": \"\"}}, \"type\": \"scatterpolar\"}], \"scatterpolargl\": [{\"marker\": {\"colorbar\": {\"outlinewidth\": 0, \"ticks\": \"\"}}, \"type\": \"scatterpolargl\"}], \"scatterternary\": [{\"marker\": {\"colorbar\": {\"outlinewidth\": 0, \"ticks\": \"\"}}, \"type\": \"scatterternary\"}], \"surface\": [{\"colorbar\": {\"outlinewidth\": 0, \"ticks\": \"\"}, \"colorscale\": [[0.0, \"#0d0887\"], [0.1111111111111111, \"#46039f\"], [0.2222222222222222, \"#7201a8\"], [0.3333333333333333, \"#9c179e\"], [0.4444444444444444, \"#bd3786\"], [0.5555555555555556, \"#d8576b\"], [0.6666666666666666, \"#ed7953\"], [0.7777777777777778, \"#fb9f3a\"], [0.8888888888888888, \"#fdca26\"], [1.0, \"#f0f921\"]], \"type\": \"surface\"}], \"table\": [{\"cells\": {\"fill\": {\"color\": \"#EBF0F8\"}, \"line\": {\"color\": \"white\"}}, \"header\": {\"fill\": {\"color\": \"#C8D4E3\"}, \"line\": {\"color\": \"white\"}}, \"type\": \"table\"}]}, \"layout\": {\"annotationdefaults\": {\"arrowcolor\": \"#2a3f5f\", \"arrowhead\": 0, \"arrowwidth\": 1}, \"coloraxis\": {\"colorbar\": {\"outlinewidth\": 0, \"ticks\": \"\"}}, \"colorscale\": {\"diverging\": [[0, \"#8e0152\"], [0.1, \"#c51b7d\"], [0.2, \"#de77ae\"], [0.3, \"#f1b6da\"], [0.4, \"#fde0ef\"], [0.5, \"#f7f7f7\"], [0.6, \"#e6f5d0\"], [0.7, \"#b8e186\"], [0.8, \"#7fbc41\"], [0.9, \"#4d9221\"], [1, \"#276419\"]], \"sequential\": [[0.0, \"#0d0887\"], [0.1111111111111111, \"#46039f\"], [0.2222222222222222, \"#7201a8\"], [0.3333333333333333, \"#9c179e\"], [0.4444444444444444, \"#bd3786\"], [0.5555555555555556, \"#d8576b\"], [0.6666666666666666, \"#ed7953\"], [0.7777777777777778, \"#fb9f3a\"], [0.8888888888888888, \"#fdca26\"], [1.0, \"#f0f921\"]], \"sequentialminus\": [[0.0, \"#0d0887\"], [0.1111111111111111, \"#46039f\"], [0.2222222222222222, \"#7201a8\"], [0.3333333333333333, \"#9c179e\"], [0.4444444444444444, \"#bd3786\"], [0.5555555555555556, \"#d8576b\"], [0.6666666666666666, \"#ed7953\"], [0.7777777777777778, \"#fb9f3a\"], [0.8888888888888888, \"#fdca26\"], [1.0, \"#f0f921\"]]}, \"colorway\": [\"#636efa\", \"#EF553B\", \"#00cc96\", \"#ab63fa\", \"#FFA15A\", \"#19d3f3\", \"#FF6692\", \"#B6E880\", \"#FF97FF\", \"#FECB52\"], \"font\": {\"color\": \"#2a3f5f\"}, \"geo\": {\"bgcolor\": \"white\", \"lakecolor\": \"white\", \"landcolor\": \"#E5ECF6\", \"showlakes\": true, \"showland\": true, \"subunitcolor\": \"white\"}, \"hoverlabel\": {\"align\": \"left\"}, \"hovermode\": \"closest\", \"mapbox\": {\"style\": \"light\"}, \"paper_bgcolor\": \"white\", \"plot_bgcolor\": \"#E5ECF6\", \"polar\": {\"angularaxis\": {\"gridcolor\": \"white\", \"linecolor\": \"white\", \"ticks\": \"\"}, \"bgcolor\": \"#E5ECF6\", \"radialaxis\": {\"gridcolor\": \"white\", \"linecolor\": \"white\", \"ticks\": \"\"}}, \"scene\": {\"xaxis\": {\"backgroundcolor\": \"#E5ECF6\", \"gridcolor\": \"white\", \"gridwidth\": 2, \"linecolor\": \"white\", \"showbackground\": true, \"ticks\": \"\", \"zerolinecolor\": \"white\"}, \"yaxis\": {\"backgroundcolor\": \"#E5ECF6\", \"gridcolor\": \"white\", \"gridwidth\": 2, \"linecolor\": \"white\", \"showbackground\": true, \"ticks\": \"\", \"zerolinecolor\": \"white\"}, \"zaxis\": {\"backgroundcolor\": \"#E5ECF6\", \"gridcolor\": \"white\", \"gridwidth\": 2, \"linecolor\": \"white\", \"showbackground\": true, \"ticks\": \"\", \"zerolinecolor\": \"white\"}}, \"shapedefaults\": {\"line\": {\"color\": \"#2a3f5f\"}}, \"ternary\": {\"aaxis\": {\"gridcolor\": \"white\", \"linecolor\": \"white\", \"ticks\": \"\"}, \"baxis\": {\"gridcolor\": \"white\", \"linecolor\": \"white\", \"ticks\": \"\"}, \"bgcolor\": \"#E5ECF6\", \"caxis\": {\"gridcolor\": \"white\", \"linecolor\": \"white\", \"ticks\": \"\"}}, \"title\": {\"x\": 0.05}, \"xaxis\": {\"automargin\": true, \"gridcolor\": \"white\", \"linecolor\": \"white\", \"ticks\": \"\", \"title\": {\"standoff\": 15}, \"zerolinecolor\": \"white\", \"zerolinewidth\": 2}, \"yaxis\": {\"automargin\": true, \"gridcolor\": \"white\", \"linecolor\": \"white\", \"ticks\": \"\", \"title\": {\"standoff\": 15}, \"zerolinecolor\": \"white\", \"zerolinewidth\": 2}}}, \"title\": {\"text\": \"Total number of players per nationality\"}},\n",
       "                        {\"responsive\": true}\n",
       "                    ).then(function(){\n",
       "                            \n",
       "var gd = document.getElementById('64095c89-7ccf-4a8b-825c-3c987dab3f28');\n",
       "var x = new MutationObserver(function (mutations, observer) {{\n",
       "        var display = window.getComputedStyle(gd).display;\n",
       "        if (!display || display === 'none') {{\n",
       "            console.log([gd, 'removed!']);\n",
       "            Plotly.purge(gd);\n",
       "            observer.disconnect();\n",
       "        }}\n",
       "}});\n",
       "\n",
       "// Listen for the removal of the full notebook cells\n",
       "var notebookContainer = gd.closest('#notebook-container');\n",
       "if (notebookContainer) {{\n",
       "    x.observe(notebookContainer, {childList: true});\n",
       "}}\n",
       "\n",
       "// Listen for the clearing of the current output cell\n",
       "var outputEl = gd.closest('.output');\n",
       "if (outputEl) {{\n",
       "    x.observe(outputEl, {childList: true});\n",
       "}}\n",
       "\n",
       "                        })\n",
       "                };\n",
       "                });\n",
       "            </script>\n",
       "        </div>"
      ]
     },
     "metadata": {},
     "output_type": "display_data"
    },
    {
     "data": {
      "application/vnd.plotly.v1+json": {
       "config": {
        "linkText": "Export to plot.ly",
        "plotlyServerURL": "https://plot.ly",
        "showLink": false
       },
       "data": [
        {
         "colorbar": {
          "title": {
           "text": "Scale"
          }
         },
         "colorscale": [
          [
           0,
           "rgb(242,240,247)"
          ],
          [
           0.2,
           "rgb(218,218,235)"
          ],
          [
           0.4,
           "rgb(188,189,220)"
          ],
          [
           0.6,
           "rgb(158,154,200)"
          ],
          [
           0.8,
           "rgb(117,107,177)"
          ],
          [
           1,
           "rgb(84,39,143)"
          ]
         ],
         "locationmode": "country names",
         "locations": [
          "Afghanistan",
          "Albania",
          "Algeria",
          "Angola",
          "Antigua & Barbuda",
          "Argentina",
          "Armenia",
          "Australia",
          "Austria",
          "Azerbaijan",
          "Barbados",
          "Belarus",
          "Belgium",
          "Belize",
          "Benin",
          "Bermuda",
          "Bolivia",
          "Bosnia Herzegovina",
          "Brazil",
          "Brunei Darussalam",
          "Bulgaria",
          "Burkina Faso",
          "Burundi",
          "Cameroon",
          "Canada",
          "Cape Verde",
          "Central African Rep.",
          "Chad",
          "Chile",
          "China PR",
          "Colombia",
          "Comoros",
          "Congo",
          "Costa Rica",
          "Croatia",
          "Cuba",
          "Curacao",
          "Cyprus",
          "Czech Republic",
          "DR Congo",
          "Denmark",
          "Dominican Republic",
          "Ecuador",
          "Egypt",
          "El Salvador",
          "United Kingdom",
          "Equatorial Guinea",
          "Eritrea",
          "Estonia",
          "Ethiopia",
          "FYR Macedonia",
          "Faroe Islands",
          "Fiji",
          "Finland",
          "France",
          "Gabon",
          "Gambia",
          "Georgia",
          "Germany",
          "Ghana",
          "Gibraltar",
          "Greece",
          "Grenada",
          "Guam",
          "Guatemala",
          "Guinea",
          "Guinea Bissau",
          "Guyana",
          "Haiti",
          "Honduras",
          "Hong Kong",
          "Hungary",
          "Iceland",
          "India",
          "Iran",
          "Iraq",
          "Israel",
          "Italy",
          "Ivory Coast",
          "Jamaica",
          "Japan",
          "Kazakhstan",
          "Kenya",
          "Korea DPR",
          "Korea Republic",
          "Kosovo",
          "Kuwait",
          "Kyrgyzstan",
          "Latvia",
          "Lebanon",
          "Liberia",
          "Libya",
          "Liechtenstein",
          "Lithuania",
          "Luxembourg",
          "Madagascar",
          "Mali",
          "Malta",
          "Mauritania",
          "Mauritius",
          "Mexico",
          "Moldova",
          "Montenegro",
          "Montserrat",
          "Morocco",
          "Mozambique",
          "Namibia",
          "Netherlands",
          "New Caledonia",
          "New Zealand",
          "Niger",
          "Nigeria",
          "Northern Ireland",
          "Norway",
          "Oman",
          "Palestine",
          "Panama",
          "Paraguay",
          "Peru",
          "Philippines",
          "Poland",
          "Portugal",
          "Puerto Rico",
          "Qatar",
          "Republic of Ireland",
          "Romania",
          "Russia",
          "San Marino",
          "Saudi Arabia",
          "Scotland",
          "Senegal",
          "Serbia",
          "Sierra Leone",
          "Slovakia",
          "Slovenia",
          "Somalia",
          "South Africa",
          "Spain",
          "Sri Lanka",
          "St Kitts Nevis",
          "St Lucia",
          "Sudan",
          "Suriname",
          "Swaziland",
          "Sweden",
          "Switzerland",
          "Syria",
          "São Tomé & Príncipe",
          "Tanzania",
          "Thailand",
          "Togo",
          "Trinidad & Tobago",
          "Tunisia",
          "Turkey",
          "Turkmenistan",
          "Uganda",
          "Ukraine",
          "United States",
          "Uruguay",
          "Uzbekistan",
          "Venezuela",
          "Vietnam",
          "Wales",
          "Zambia",
          "Zimbabwe"
         ],
         "reversescale": false,
         "text": [
          "M. Kouhyar (60)<br>S. Mukhammad (59)<br>N. Husin (50)",
          "E. Hysaj (79)<br>E. Berisha (78)<br>M. Mavraj (76)",
          "R. Mahrez (83)<br>I. Slimani (82)<br>Y. Brahimi (82)",
          "Bastos (77)<br>Djalma (74)<br>Mateus (73)",
          "M. Romeo (65)<br>C. Jahraldo-Martin (60)<br>J. Parker (59)",
          "L. Messi (93)<br>G. Higuaín (90)<br>S. Agüero (89)",
          "H. Mkhitaryan (85)<br>A. Özbiliz (73)<br>Marcos Pizzelli (71)",
          "M. Ryan (77)<br>B. Jones (77)<br>A. Mooy (77)",
          "D. Alaba (86)<br>M. Arnautović (82)<br>S. Prödl (79)",
          "D. Yılmaz (70)<br>D. Nazarov (68)<br>Eddy (66)",
          "J. Forte (65)",
          "Renan Bressan (76)<br>T. Kalachev (75)<br>A. Martynovich (74)",
          "E. Hazard (90)<br>K. De Bruyne (89)<br>T. Courtois (89)",
          "M. Salazar (64)",
          "S. Mounié (76)<br>S. Sessègnon (75)<br>J. Adéoti (74)",
          "N. Wells (72)<br>R. Lambe (63)<br>Z. Lewis (60)",
          "M. Martins (75)<br>J. Campos (71)<br>P. Escobar (70)",
          "M. Pjanić (85)<br>E. Džeko (84)<br>A. Begović (82)",
          "Neymar (92)<br>Thiago Silva (88)<br>Marcelo (87)",
          "F. Bolkiah (55)",
          "I. Popov (77)<br>V. Stoyanov (74)<br>G. Milanov (73)",
          "B. Traoré (79)<br>C. Kaboré (77)<br>B. Koné (75)",
          "C. Amissi (64)",
          "J. Matip (83)<br>S. Eto'o (81)<br>C. Kameni (80)",
          "A. Hutchinson (80)<br>S. Arfield (73)<br>C. Larin (73)",
          "Zé Luís (79)<br>Garry Rodrigues (75)<br>Varela (75)",
          "C. Yambéré (70)<br>A. Youga (69)<br>E. Enza-Yamissi (68)",
          "C. Ninga (74)<br>S. Altama (62)",
          "A. Sánchez (89)<br>A. Vidal (87)<br>G. Medel (82)",
          "Zheng Zhi (76)<br>Zeng Cheng (74)<br>Gao Lin (74)",
          "J. Rodríguez (86)<br>Falcao (84)<br>C. Bacca (82)",
          "E. Ben Nabouhane (71)<br>R. Abdullah (70)<br>K. Abdallah (70)",
          "D. N'Dinga (74)<br>T. Bifouma (74)<br>C. Samba (74)",
          "K. Navas (85)<br>O. Duarte (77)<br>B. Ruíz (77)",
          "L. Modrić (89)<br>I. Rakitić (87)<br>D. Subašić (85)",
          "O. Alonso (77)<br>O. Hernández (69)",
          "E. Room (74)<br>L. Bacuna (72)<br>C. Martina (71)",
          "K. Laifis (73)<br>P. Sotiriou (68)<br>V. Sielis (67)",
          "P. Čech (86)<br>V. Darida (79)<br>T. Rosický (79)",
          "C. Bakambu (81)<br>Y. Bolasie (78)<br>G. Kakuta (76)",
          "C. Eriksen (87)<br>K. Schmeichel (83)<br>A. Christensen (81)",
          "Mariano (76)<br>Tano Bonnin (73)<br>J. Firpo (60)",
          "A. Valencia (83)<br>C. Noboa (79)<br>J. Montero (78)",
          "M. Salah (83)<br>M. Elneny (77)<br>A. Hassan (75)",
          "D. Cerén (70)<br>A. Alvarez (68)",
          "H. Kane (86)<br>D. Alli (84)<br>G. Cahill (84)",
          "Nsue (71)<br>A. Ngamukol (70)<br>Iban Salvador (69)",
          "H. Goitom (71)",
          "K. Vassiljev (72)<br>K. Mets (67)<br>N. Baranov (67)",
          "A. Askar (67)<br>G. Panom (64)",
          "G. Pandev (74)<br>I. Nestorovski (74)<br>S. Ristovski (74)",
          "H. Hansson (66)<br>G. Rólantsson Sørensen (64)<br>J. Edmundsson (63)",
          "R. Krishna (69)",
          "L. Hrádecký (81)<br>P. Hetemaj (77)<br>N. Moisander (76)",
          "A. Griezmann (88)<br>H. Lloris (88)<br>N. Kanté (87)",
          "P. Aubameyang (88)<br>M. Lemina (77)<br>D. Ndong (74)",
          "O. Colley (74)<br>M. Barrow (72)<br>B. Sanneh (68)",
          "G. Kashia (76)<br>V. Qazaishvili (75)<br>J. Ananidze (75)",
          "M. Neuer (92)<br>T. Kroos (90)<br>J. Boateng (88)",
          "K. Boateng (80)<br>A. Ayew (79)<br>A. Gyan (79)",
          "L. Walker (64)<br>S. Wiseman (64)",
          "Sokratis (86)<br>K. Manolas (84)<br>O. Karnezis (82)",
          "A. Pierre (64)",
          "A. DeLaGarza (69)",
          "R. Jérez (72)",
          "N. Keïta (83)<br>I. Traoré (80)<br>F. Pogba (77)",
          "Gerso (74)<br>F. Mendy (72)<br>Pelé (72)",
          "W. Creavalle (65)<br>N. Danns (63)<br>M. Briggs (61)",
          "J. Louis (72)<br>R. Genevois (72)<br>R. Goreux (70)",
          "A. Najar (74)<br>A. Lozano (73)<br>A. Elis (72)",
          "Dai Wai-Tsun (54)",
          "P. Gulácsi (76)<br>N. Nikolić (76)<br>A. Szalai (75)",
          "G. Sigurðsson (82)<br>A. Finnbogason (76)<br>E. Hallfreðsson (75)",
          "S. Chhetri (67)<br>L. Ralte (64)<br>S. Paul (64)",
          "S. Azmoun (77)<br>A. Jahanbakhsh (75)<br>M. Mohammadi (73)",
          "J. Meram (74)<br>A. Adnan (73)<br>B. Nouri (69)",
          "M. Dabbur (76)<br>B. Natcho (76)<br>L. Refaelov (75)",
          "G. Chiellini (89)<br>G. Buffon (89)<br>L. Bonucci (88)",
          "E. Bailly (84)<br>Y. Touré (83)<br>J. Seri (82)",
          "W. Morgan (77)<br>L. Bailey (76)<br>A. Blake (75)",
          "S. Kagawa (83)<br>T. Inui (78)<br>K. Honda (78)",
          "A. Merkel (68)<br>K. Engel (66)<br>W. Evseev (64)",
          "V. Wanyama (82)<br>M. Mariga (72)<br>M. Olunga (69)",
          "Chong Te Se (72)<br>Han Kwang Song (67)<br>Pak Kwang Ryong (64)",
          "H. Son (82)<br>Koo Ja Cheol (76)<br>Yoon Bo Sang (74)",
          "M. Rashica (75)<br>B. Berisha (74)<br>V. Berisha (74)",
          "F. Al Berahim (71)<br>F. Al Hajeri (61)",
          "V. Lux (58)",
          "A. Rudņevs (73)<br>A. Vaņins (71)<br>I. Tarasovs (68)",
          "B. Jradi (69)<br>S. Saad (66)<br>H. El Helwe (62)",
          "W. Jebor (67)<br>S. Nimely (61)",
          "A. Benali (72)<br>H. Elhouni (63)",
          "M. Büchel (73)<br>N. Hasler (66)<br>Y. Frick (56)",
          "Z. Karčemarskas (76)<br>L. Spalvis (72)<br>F. Černych (68)",
          "M. Chanot (71)<br>L. Jans (71)<br>A. Moris (67)",
          "I. Andriatsima (72)<br>L. Nomenjanahary (68)<br>C. Andriamahitsinoro (65)",
          "M. Marega (77)<br>M. Wagué (74)<br>A. Niane (74)",
          "M. Beerman (63)<br>M. Muscat (62)<br>L. Gambin (61)",
          "D. Guidileye (70)<br>A. Ba (63)",
          "K. Bru (67)",
          "J. Hernández (82)<br>C. Vela (82)<br>J. Corona (81)",
          "A. Ioniţă (75)<br>A. Epureanu (74)<br>I. Armaş (74)",
          "S. Savić (82)<br>S. Jovetić (81)<br>D. Damjanović (75)",
          "D. Daniels (67)<br>L. Taylor (66)<br>A. Dyer (65)",
          "M. Benatia (84)<br>H. Ziyech (81)<br>Y. Belhanda (81)",
          "Mexer (77)<br>Zainadine (74)<br>Gildo (66)",
          "M. Starke (66)<br>R. Nyambe (63)",
          "A. Robben (88)<br>K. Strootman (84)<br>V. van Dijk (83)",
          "W. Lautoa (72)<br>G. Gope-Fenepej (65)",
          "W. Reid (79)<br>C. Wood (75)<br>M. Rojas (74)",
          "M. Maâzou (73)<br>S. Koita (69)<br>O. Bonnes (64)",
          "V. Enyeama (80)<br>V. Moses (79)<br>O. Ndidi (77)",
          "J. Evans (79)<br>G. McAuley (77)<br>S. Davis (77)",
          "R. Jarstein (82)<br>M. Elyounoussi (78)<br>P. Skjelbred (78)",
          "A. Al-Habsi (73)",
          "C. Salom (71)<br>H. Aiesh (64)<br>M. Eid (59)",
          "A. Machado (71)<br>A. Godoy (71)<br>G. Gómez (70)",
          "M. Almirón (79)<br>H. Pérez (79)<br>A. Sanabria (78)",
          "J. Farfán (78)<br>A. Carrillo (77)<br>P. Hurtado (76)",
          "N. Etheridge (68)<br>S. Palla (63)<br>D. Sato (54)",
          "R. Lewandowski (91)<br>K. Glik (85)<br>L. Piszczek (83)",
          "Cristiano Ronaldo (94)<br>Pepe (86)<br>Bernardo Silva (84)",
          "J. Hernandez (66)<br>J. Saunders (66)",
          "A. Afif (68)<br>A. Fadlalla (66)<br>Y. Ahmed (65)",
          "S. Coleman (81)<br>J. McCarthy (80)<br>W. Hoolahan (77)",
          "F. Andone (79)<br>S. Radu (79)<br>C. Tătăruşanu (78)",
          "Mário Fernandes (81)<br>O. Shatov (80)<br>A. Dzagoev (80)",
          "E. Benedettini (54)",
          "N. Al Abed (76)<br>O. Hawsawi (75)<br>O. Othman (74)",
          "M. Phillips (77)<br>T. Cairney (77)<br>D. Fletcher (76)",
          "S. Mané (84)<br>K. Koulibaly (84)<br>I. Gueye (83)",
          "N. Matić (83)<br>L. Fejsa (82)<br>B. Ivanović (82)",
          "K. Kamara (74)<br>A. Kamara (69)<br>M. Turay (67)",
          "M. Hamšík (87)<br>M. Škrtel (81)<br>J. Kucka (79)",
          "J. Oblak (88)<br>S. Handanovič (87)<br>K. Kampl (81)",
          "L. Abdi (68)",
          "I. Khune (77)<br>S. Tshabalala (76)<br>P. Tau (76)",
          "De Gea (90)<br>Sergio Ramos (90)<br>Thiago (88)",
          "A. Razeek (60)",
          "R. Sawyers (70)<br>A. Harris (66)<br>O. Sterling-James (57)",
          "J. Donacien (62)",
          "M. Al Dhaw (62)<br>M. Eisa (58)",
          "K. Leerdam (70)<br>G. Zuiverloon (70)<br>R. Alberg (68)",
          "I. Rako (63)",
          "Z. Ibrahimović (88)<br>E. Forsberg (83)<br>M. Berg (80)",
          "R. Bürki (84)<br>Y. Sommer (83)<br>G. Xhaka (82)",
          "O. Al Soma (78)<br>O. Al Soma (78)<br>O. Kharbin (75)",
          "Luís Leal (64)",
          "M. Samatta (73)<br>F. Mussa (62)",
          "C. Songkrasin (65)<br>W. Jakkit (53)",
          "M. Dossevi (74)<br>S. Gakpé (74)<br>F. Ayité (74)",
          "K. Molino (74)<br>J. Bostock (71)<br>J. Jones (71)",
          "A. Abdennour (77)<br>Y. Benalouane (75)<br>E. Skhiri (74)",
          "O. Toprak (83)<br>A. Turan (82)<br>O. Özyakup (80)",
          "M. Kazankov (63)",
          "M. Azira (70)<br>A. Kakuba (64)<br>M. Lorenzen (64)",
          "A. Yarmolenko (81)<br>T. Stepanenko (80)<br>Y. Rakitskyi (80)",
          "J. Brooks (80)<br>F. Johnson (79)<br>C. Pulisic (78)",
          "L. Suárez (92)<br>D. Godín (88)<br>E. Cavani (87)",
          "V. Denisov (80)<br>V. Afonin (71)<br>V. Galiulin (67)",
          "S. Rondón (80)<br>J. Martínez (78)<br>T. Rincón (77)",
          "Luong Xuan Truong (61)",
          "G. Bale (89)<br>A. Ramsey (82)<br>A. Williams (82)",
          "C. Lungu (73)<br>S. Sunzu (71)<br>E. Kangwa (69)",
          "T. Ndoro (73)<br>M. Nakamba (73)<br>W. Katsande (73)"
         ],
         "type": "choropleth",
         "z": [
          56.333333333333336,
          66.25714285714285,
          70.94736842105263,
          68.26666666666667,
          58.6,
          67.76580310880829,
          67,
          62.757709251101325,
          64.45112781954887,
          64.28571428571429,
          65,
          70.77777777777777,
          68.09558823529412,
          64,
          68,
          63.25,
          65.46666666666667,
          69.27272727272727,
          70.89532019704434,
          55,
          67.12121212121212,
          68.5,
          64,
          67.65116279069767,
          64.05454545454545,
          69.27272727272727,
          67,
          68,
          70.896,
          67.6,
          65.67736486486487,
          68.33333333333333,
          65.0909090909091,
          69.65517241379311,
          69.07339449541284,
          73,
          67.72727272727273,
          62.45454545454545,
          70.17808219178082,
          67.8103448275862,
          63.309248554913296,
          69.66666666666667,
          70.51351351351352,
          69.96875,
          69,
          63.069938650306746,
          67.33333333333333,
          71,
          64.75,
          65.5,
          66.76470588235294,
          60.833333333333336,
          69,
          64.30645161290323,
          67.28629856850716,
          70.5,
          65.66666666666667,
          66.96774193548387,
          65.90087719298245,
          66.76068376068376,
          64,
          68.81632653061224,
          64,
          69,
          72,
          68.76,
          65.875,
          61.6,
          63.285714285714285,
          69.84615384615384,
          54,
          68.45945945945945,
          66.09433962264151,
          57.9,
          68.41176470588235,
          67.77777777777777,
          71.16666666666667,
          66.96620775969963,
          68.33663366336634,
          65.83783783783784,
          62.272921108742004,
          66,
          67.14285714285714,
          62.5,
          64.48787878787878,
          66.34375,
          66,
          58,
          67.42857142857143,
          62.6,
          64,
          67.5,
          65,
          64.08333333333333,
          66,
          66.75,
          67.43478260869566,
          62,
          66.5,
          67,
          65.64722222222223,
          69.66666666666667,
          68.4,
          64.5,
          69.65384615384616,
          72.33333333333333,
          64.5,
          68.06060606060606,
          68.5,
          61.973684210526315,
          68.66666666666667,
          66.76190476190476,
          62.47674418604651,
          63.03903903903904,
          73,
          63.25,
          65.6875,
          69.66666666666667,
          68.73333333333333,
          61.666666666666664,
          64.05637982195846,
          70.59945504087193,
          66,
          64.33333333333333,
          60.07434052757794,
          68.72881355932203,
          66.47058823529412,
          54,
          61.088145896656535,
          62.86666666666667,
          68.30232558139535,
          70.44360902255639,
          65.55555555555556,
          66.75,
          68.26153846153846,
          68,
          67.33766233766234,
          69.93915603532875,
          60,
          64.33333333333333,
          62,
          60,
          69.33333333333333,
          63,
          64.51086956521739,
          63.82832618025751,
          72.5,
          64,
          67.5,
          59,
          71,
          68.22222222222223,
          68.06451612903226,
          67.21305841924399,
          63,
          62.75,
          70.04081632653062,
          64.99475065616798,
          69.47712418300654,
          68.4,
          69.03921568627452,
          61,
          64.2439024390244,
          63.857142857142854,
          66.54545454545455
         ]
        }
       ],
       "layout": {
        "geo": {
         "projection": {
          "type": "mercator"
         },
         "showcoastlines": false,
         "showframe": true
        },
        "template": {
         "data": {
          "bar": [
           {
            "error_x": {
             "color": "#2a3f5f"
            },
            "error_y": {
             "color": "#2a3f5f"
            },
            "marker": {
             "line": {
              "color": "#E5ECF6",
              "width": 0.5
             }
            },
            "type": "bar"
           }
          ],
          "barpolar": [
           {
            "marker": {
             "line": {
              "color": "#E5ECF6",
              "width": 0.5
             }
            },
            "type": "barpolar"
           }
          ],
          "carpet": [
           {
            "aaxis": {
             "endlinecolor": "#2a3f5f",
             "gridcolor": "white",
             "linecolor": "white",
             "minorgridcolor": "white",
             "startlinecolor": "#2a3f5f"
            },
            "baxis": {
             "endlinecolor": "#2a3f5f",
             "gridcolor": "white",
             "linecolor": "white",
             "minorgridcolor": "white",
             "startlinecolor": "#2a3f5f"
            },
            "type": "carpet"
           }
          ],
          "choropleth": [
           {
            "colorbar": {
             "outlinewidth": 0,
             "ticks": ""
            },
            "type": "choropleth"
           }
          ],
          "contour": [
           {
            "colorbar": {
             "outlinewidth": 0,
             "ticks": ""
            },
            "colorscale": [
             [
              0,
              "#0d0887"
             ],
             [
              0.1111111111111111,
              "#46039f"
             ],
             [
              0.2222222222222222,
              "#7201a8"
             ],
             [
              0.3333333333333333,
              "#9c179e"
             ],
             [
              0.4444444444444444,
              "#bd3786"
             ],
             [
              0.5555555555555556,
              "#d8576b"
             ],
             [
              0.6666666666666666,
              "#ed7953"
             ],
             [
              0.7777777777777778,
              "#fb9f3a"
             ],
             [
              0.8888888888888888,
              "#fdca26"
             ],
             [
              1,
              "#f0f921"
             ]
            ],
            "type": "contour"
           }
          ],
          "contourcarpet": [
           {
            "colorbar": {
             "outlinewidth": 0,
             "ticks": ""
            },
            "type": "contourcarpet"
           }
          ],
          "heatmap": [
           {
            "colorbar": {
             "outlinewidth": 0,
             "ticks": ""
            },
            "colorscale": [
             [
              0,
              "#0d0887"
             ],
             [
              0.1111111111111111,
              "#46039f"
             ],
             [
              0.2222222222222222,
              "#7201a8"
             ],
             [
              0.3333333333333333,
              "#9c179e"
             ],
             [
              0.4444444444444444,
              "#bd3786"
             ],
             [
              0.5555555555555556,
              "#d8576b"
             ],
             [
              0.6666666666666666,
              "#ed7953"
             ],
             [
              0.7777777777777778,
              "#fb9f3a"
             ],
             [
              0.8888888888888888,
              "#fdca26"
             ],
             [
              1,
              "#f0f921"
             ]
            ],
            "type": "heatmap"
           }
          ],
          "heatmapgl": [
           {
            "colorbar": {
             "outlinewidth": 0,
             "ticks": ""
            },
            "colorscale": [
             [
              0,
              "#0d0887"
             ],
             [
              0.1111111111111111,
              "#46039f"
             ],
             [
              0.2222222222222222,
              "#7201a8"
             ],
             [
              0.3333333333333333,
              "#9c179e"
             ],
             [
              0.4444444444444444,
              "#bd3786"
             ],
             [
              0.5555555555555556,
              "#d8576b"
             ],
             [
              0.6666666666666666,
              "#ed7953"
             ],
             [
              0.7777777777777778,
              "#fb9f3a"
             ],
             [
              0.8888888888888888,
              "#fdca26"
             ],
             [
              1,
              "#f0f921"
             ]
            ],
            "type": "heatmapgl"
           }
          ],
          "histogram": [
           {
            "marker": {
             "colorbar": {
              "outlinewidth": 0,
              "ticks": ""
             }
            },
            "type": "histogram"
           }
          ],
          "histogram2d": [
           {
            "colorbar": {
             "outlinewidth": 0,
             "ticks": ""
            },
            "colorscale": [
             [
              0,
              "#0d0887"
             ],
             [
              0.1111111111111111,
              "#46039f"
             ],
             [
              0.2222222222222222,
              "#7201a8"
             ],
             [
              0.3333333333333333,
              "#9c179e"
             ],
             [
              0.4444444444444444,
              "#bd3786"
             ],
             [
              0.5555555555555556,
              "#d8576b"
             ],
             [
              0.6666666666666666,
              "#ed7953"
             ],
             [
              0.7777777777777778,
              "#fb9f3a"
             ],
             [
              0.8888888888888888,
              "#fdca26"
             ],
             [
              1,
              "#f0f921"
             ]
            ],
            "type": "histogram2d"
           }
          ],
          "histogram2dcontour": [
           {
            "colorbar": {
             "outlinewidth": 0,
             "ticks": ""
            },
            "colorscale": [
             [
              0,
              "#0d0887"
             ],
             [
              0.1111111111111111,
              "#46039f"
             ],
             [
              0.2222222222222222,
              "#7201a8"
             ],
             [
              0.3333333333333333,
              "#9c179e"
             ],
             [
              0.4444444444444444,
              "#bd3786"
             ],
             [
              0.5555555555555556,
              "#d8576b"
             ],
             [
              0.6666666666666666,
              "#ed7953"
             ],
             [
              0.7777777777777778,
              "#fb9f3a"
             ],
             [
              0.8888888888888888,
              "#fdca26"
             ],
             [
              1,
              "#f0f921"
             ]
            ],
            "type": "histogram2dcontour"
           }
          ],
          "mesh3d": [
           {
            "colorbar": {
             "outlinewidth": 0,
             "ticks": ""
            },
            "type": "mesh3d"
           }
          ],
          "parcoords": [
           {
            "line": {
             "colorbar": {
              "outlinewidth": 0,
              "ticks": ""
             }
            },
            "type": "parcoords"
           }
          ],
          "pie": [
           {
            "automargin": true,
            "type": "pie"
           }
          ],
          "scatter": [
           {
            "marker": {
             "colorbar": {
              "outlinewidth": 0,
              "ticks": ""
             }
            },
            "type": "scatter"
           }
          ],
          "scatter3d": [
           {
            "line": {
             "colorbar": {
              "outlinewidth": 0,
              "ticks": ""
             }
            },
            "marker": {
             "colorbar": {
              "outlinewidth": 0,
              "ticks": ""
             }
            },
            "type": "scatter3d"
           }
          ],
          "scattercarpet": [
           {
            "marker": {
             "colorbar": {
              "outlinewidth": 0,
              "ticks": ""
             }
            },
            "type": "scattercarpet"
           }
          ],
          "scattergeo": [
           {
            "marker": {
             "colorbar": {
              "outlinewidth": 0,
              "ticks": ""
             }
            },
            "type": "scattergeo"
           }
          ],
          "scattergl": [
           {
            "marker": {
             "colorbar": {
              "outlinewidth": 0,
              "ticks": ""
             }
            },
            "type": "scattergl"
           }
          ],
          "scattermapbox": [
           {
            "marker": {
             "colorbar": {
              "outlinewidth": 0,
              "ticks": ""
             }
            },
            "type": "scattermapbox"
           }
          ],
          "scatterpolar": [
           {
            "marker": {
             "colorbar": {
              "outlinewidth": 0,
              "ticks": ""
             }
            },
            "type": "scatterpolar"
           }
          ],
          "scatterpolargl": [
           {
            "marker": {
             "colorbar": {
              "outlinewidth": 0,
              "ticks": ""
             }
            },
            "type": "scatterpolargl"
           }
          ],
          "scatterternary": [
           {
            "marker": {
             "colorbar": {
              "outlinewidth": 0,
              "ticks": ""
             }
            },
            "type": "scatterternary"
           }
          ],
          "surface": [
           {
            "colorbar": {
             "outlinewidth": 0,
             "ticks": ""
            },
            "colorscale": [
             [
              0,
              "#0d0887"
             ],
             [
              0.1111111111111111,
              "#46039f"
             ],
             [
              0.2222222222222222,
              "#7201a8"
             ],
             [
              0.3333333333333333,
              "#9c179e"
             ],
             [
              0.4444444444444444,
              "#bd3786"
             ],
             [
              0.5555555555555556,
              "#d8576b"
             ],
             [
              0.6666666666666666,
              "#ed7953"
             ],
             [
              0.7777777777777778,
              "#fb9f3a"
             ],
             [
              0.8888888888888888,
              "#fdca26"
             ],
             [
              1,
              "#f0f921"
             ]
            ],
            "type": "surface"
           }
          ],
          "table": [
           {
            "cells": {
             "fill": {
              "color": "#EBF0F8"
             },
             "line": {
              "color": "white"
             }
            },
            "header": {
             "fill": {
              "color": "#C8D4E3"
             },
             "line": {
              "color": "white"
             }
            },
            "type": "table"
           }
          ]
         },
         "layout": {
          "annotationdefaults": {
           "arrowcolor": "#2a3f5f",
           "arrowhead": 0,
           "arrowwidth": 1
          },
          "coloraxis": {
           "colorbar": {
            "outlinewidth": 0,
            "ticks": ""
           }
          },
          "colorscale": {
           "diverging": [
            [
             0,
             "#8e0152"
            ],
            [
             0.1,
             "#c51b7d"
            ],
            [
             0.2,
             "#de77ae"
            ],
            [
             0.3,
             "#f1b6da"
            ],
            [
             0.4,
             "#fde0ef"
            ],
            [
             0.5,
             "#f7f7f7"
            ],
            [
             0.6,
             "#e6f5d0"
            ],
            [
             0.7,
             "#b8e186"
            ],
            [
             0.8,
             "#7fbc41"
            ],
            [
             0.9,
             "#4d9221"
            ],
            [
             1,
             "#276419"
            ]
           ],
           "sequential": [
            [
             0,
             "#0d0887"
            ],
            [
             0.1111111111111111,
             "#46039f"
            ],
            [
             0.2222222222222222,
             "#7201a8"
            ],
            [
             0.3333333333333333,
             "#9c179e"
            ],
            [
             0.4444444444444444,
             "#bd3786"
            ],
            [
             0.5555555555555556,
             "#d8576b"
            ],
            [
             0.6666666666666666,
             "#ed7953"
            ],
            [
             0.7777777777777778,
             "#fb9f3a"
            ],
            [
             0.8888888888888888,
             "#fdca26"
            ],
            [
             1,
             "#f0f921"
            ]
           ],
           "sequentialminus": [
            [
             0,
             "#0d0887"
            ],
            [
             0.1111111111111111,
             "#46039f"
            ],
            [
             0.2222222222222222,
             "#7201a8"
            ],
            [
             0.3333333333333333,
             "#9c179e"
            ],
            [
             0.4444444444444444,
             "#bd3786"
            ],
            [
             0.5555555555555556,
             "#d8576b"
            ],
            [
             0.6666666666666666,
             "#ed7953"
            ],
            [
             0.7777777777777778,
             "#fb9f3a"
            ],
            [
             0.8888888888888888,
             "#fdca26"
            ],
            [
             1,
             "#f0f921"
            ]
           ]
          },
          "colorway": [
           "#636efa",
           "#EF553B",
           "#00cc96",
           "#ab63fa",
           "#FFA15A",
           "#19d3f3",
           "#FF6692",
           "#B6E880",
           "#FF97FF",
           "#FECB52"
          ],
          "font": {
           "color": "#2a3f5f"
          },
          "geo": {
           "bgcolor": "white",
           "lakecolor": "white",
           "landcolor": "#E5ECF6",
           "showlakes": true,
           "showland": true,
           "subunitcolor": "white"
          },
          "hoverlabel": {
           "align": "left"
          },
          "hovermode": "closest",
          "mapbox": {
           "style": "light"
          },
          "paper_bgcolor": "white",
          "plot_bgcolor": "#E5ECF6",
          "polar": {
           "angularaxis": {
            "gridcolor": "white",
            "linecolor": "white",
            "ticks": ""
           },
           "bgcolor": "#E5ECF6",
           "radialaxis": {
            "gridcolor": "white",
            "linecolor": "white",
            "ticks": ""
           }
          },
          "scene": {
           "xaxis": {
            "backgroundcolor": "#E5ECF6",
            "gridcolor": "white",
            "gridwidth": 2,
            "linecolor": "white",
            "showbackground": true,
            "ticks": "",
            "zerolinecolor": "white"
           },
           "yaxis": {
            "backgroundcolor": "#E5ECF6",
            "gridcolor": "white",
            "gridwidth": 2,
            "linecolor": "white",
            "showbackground": true,
            "ticks": "",
            "zerolinecolor": "white"
           },
           "zaxis": {
            "backgroundcolor": "#E5ECF6",
            "gridcolor": "white",
            "gridwidth": 2,
            "linecolor": "white",
            "showbackground": true,
            "ticks": "",
            "zerolinecolor": "white"
           }
          },
          "shapedefaults": {
           "line": {
            "color": "#2a3f5f"
           }
          },
          "ternary": {
           "aaxis": {
            "gridcolor": "white",
            "linecolor": "white",
            "ticks": ""
           },
           "baxis": {
            "gridcolor": "white",
            "linecolor": "white",
            "ticks": ""
           },
           "bgcolor": "#E5ECF6",
           "caxis": {
            "gridcolor": "white",
            "linecolor": "white",
            "ticks": ""
           }
          },
          "title": {
           "x": 0.05
          },
          "xaxis": {
           "automargin": true,
           "gridcolor": "white",
           "linecolor": "white",
           "ticks": "",
           "title": {
            "standoff": 15
           },
           "zerolinecolor": "white",
           "zerolinewidth": 2
          },
          "yaxis": {
           "automargin": true,
           "gridcolor": "white",
           "linecolor": "white",
           "ticks": "",
           "title": {
            "standoff": 15
           },
           "zerolinecolor": "white",
           "zerolinewidth": 2
          }
         }
        },
        "title": {
         "text": "Average rating per nationality"
        }
       }
      },
      "text/html": [
       "<div>\n",
       "        \n",
       "        \n",
       "            <div id=\"98e69c4d-3fb7-4328-8db6-d6f1e900d614\" class=\"plotly-graph-div\" style=\"height:525px; width:100%;\"></div>\n",
       "            <script type=\"text/javascript\">\n",
       "                require([\"plotly\"], function(Plotly) {\n",
       "                    window.PLOTLYENV=window.PLOTLYENV || {};\n",
       "                    \n",
       "                if (document.getElementById(\"98e69c4d-3fb7-4328-8db6-d6f1e900d614\")) {\n",
       "                    Plotly.newPlot(\n",
       "                        '98e69c4d-3fb7-4328-8db6-d6f1e900d614',\n",
       "                        [{\"colorbar\": {\"title\": {\"text\": \"Scale\"}}, \"colorscale\": [[0.0, \"rgb(242,240,247)\"], [0.2, \"rgb(218,218,235)\"], [0.4, \"rgb(188,189,220)\"], [0.6, \"rgb(158,154,200)\"], [0.8, \"rgb(117,107,177)\"], [1.0, \"rgb(84,39,143)\"]], \"locationmode\": \"country names\", \"locations\": [\"Afghanistan\", \"Albania\", \"Algeria\", \"Angola\", \"Antigua & Barbuda\", \"Argentina\", \"Armenia\", \"Australia\", \"Austria\", \"Azerbaijan\", \"Barbados\", \"Belarus\", \"Belgium\", \"Belize\", \"Benin\", \"Bermuda\", \"Bolivia\", \"Bosnia Herzegovina\", \"Brazil\", \"Brunei Darussalam\", \"Bulgaria\", \"Burkina Faso\", \"Burundi\", \"Cameroon\", \"Canada\", \"Cape Verde\", \"Central African Rep.\", \"Chad\", \"Chile\", \"China PR\", \"Colombia\", \"Comoros\", \"Congo\", \"Costa Rica\", \"Croatia\", \"Cuba\", \"Curacao\", \"Cyprus\", \"Czech Republic\", \"DR Congo\", \"Denmark\", \"Dominican Republic\", \"Ecuador\", \"Egypt\", \"El Salvador\", \"United Kingdom\", \"Equatorial Guinea\", \"Eritrea\", \"Estonia\", \"Ethiopia\", \"FYR Macedonia\", \"Faroe Islands\", \"Fiji\", \"Finland\", \"France\", \"Gabon\", \"Gambia\", \"Georgia\", \"Germany\", \"Ghana\", \"Gibraltar\", \"Greece\", \"Grenada\", \"Guam\", \"Guatemala\", \"Guinea\", \"Guinea Bissau\", \"Guyana\", \"Haiti\", \"Honduras\", \"Hong Kong\", \"Hungary\", \"Iceland\", \"India\", \"Iran\", \"Iraq\", \"Israel\", \"Italy\", \"Ivory Coast\", \"Jamaica\", \"Japan\", \"Kazakhstan\", \"Kenya\", \"Korea DPR\", \"Korea Republic\", \"Kosovo\", \"Kuwait\", \"Kyrgyzstan\", \"Latvia\", \"Lebanon\", \"Liberia\", \"Libya\", \"Liechtenstein\", \"Lithuania\", \"Luxembourg\", \"Madagascar\", \"Mali\", \"Malta\", \"Mauritania\", \"Mauritius\", \"Mexico\", \"Moldova\", \"Montenegro\", \"Montserrat\", \"Morocco\", \"Mozambique\", \"Namibia\", \"Netherlands\", \"New Caledonia\", \"New Zealand\", \"Niger\", \"Nigeria\", \"Northern Ireland\", \"Norway\", \"Oman\", \"Palestine\", \"Panama\", \"Paraguay\", \"Peru\", \"Philippines\", \"Poland\", \"Portugal\", \"Puerto Rico\", \"Qatar\", \"Republic of Ireland\", \"Romania\", \"Russia\", \"San Marino\", \"Saudi Arabia\", \"Scotland\", \"Senegal\", \"Serbia\", \"Sierra Leone\", \"Slovakia\", \"Slovenia\", \"Somalia\", \"South Africa\", \"Spain\", \"Sri Lanka\", \"St Kitts Nevis\", \"St Lucia\", \"Sudan\", \"Suriname\", \"Swaziland\", \"Sweden\", \"Switzerland\", \"Syria\", \"S\\u00e3o Tom\\u00e9 & Pr\\u00edncipe\", \"Tanzania\", \"Thailand\", \"Togo\", \"Trinidad & Tobago\", \"Tunisia\", \"Turkey\", \"Turkmenistan\", \"Uganda\", \"Ukraine\", \"United States\", \"Uruguay\", \"Uzbekistan\", \"Venezuela\", \"Vietnam\", \"Wales\", \"Zambia\", \"Zimbabwe\"], \"reversescale\": false, \"text\": [\"M. Kouhyar (60)<br>S. Mukhammad (59)<br>N. Husin (50)\", \"E. Hysaj (79)<br>E. Berisha (78)<br>M. Mavraj (76)\", \"R. Mahrez (83)<br>I. Slimani (82)<br>Y. Brahimi (82)\", \"Bastos (77)<br>Djalma (74)<br>Mateus (73)\", \"M. Romeo (65)<br>C. Jahraldo-Martin (60)<br>J. Parker (59)\", \"L. Messi (93)<br>G. Higua\\u00edn (90)<br>S. Ag\\u00fcero (89)\", \"H. Mkhitaryan (85)<br>A. \\u00d6zbiliz (73)<br>Marcos Pizzelli (71)\", \"M. Ryan (77)<br>B. Jones (77)<br>A. Mooy (77)\", \"D. Alaba (86)<br>M. Arnautovi\\u0107 (82)<br>S. Pr\\u00f6dl (79)\", \"D. Y\\u0131lmaz (70)<br>D. Nazarov (68)<br>Eddy (66)\", \"J. Forte (65)\", \"Renan Bressan (76)<br>T. Kalachev (75)<br>A. Martynovich (74)\", \"E. Hazard (90)<br>K. De Bruyne (89)<br>T. Courtois (89)\", \"M. Salazar (64)\", \"S. Mouni\\u00e9 (76)<br>S. Sess\\u00e8gnon (75)<br>J. Ad\\u00e9oti (74)\", \"N. Wells (72)<br>R. Lambe (63)<br>Z. Lewis (60)\", \"M. Martins (75)<br>J. Campos (71)<br>P. Escobar (70)\", \"M. Pjani\\u0107 (85)<br>E. D\\u017eeko (84)<br>A. Begovi\\u0107 (82)\", \"Neymar (92)<br>Thiago Silva (88)<br>Marcelo (87)\", \"F. Bolkiah (55)\", \"I. Popov (77)<br>V. Stoyanov (74)<br>G. Milanov (73)\", \"B. Traor\\u00e9 (79)<br>C. Kabor\\u00e9 (77)<br>B. Kon\\u00e9 (75)\", \"C. Amissi (64)\", \"J. Matip (83)<br>S. Eto'o (81)<br>C. Kameni (80)\", \"A. Hutchinson (80)<br>S. Arfield (73)<br>C. Larin (73)\", \"Z\\u00e9 Lu\\u00eds (79)<br>Garry Rodrigues (75)<br>Varela (75)\", \"C. Yamb\\u00e9r\\u00e9 (70)<br>A. Youga (69)<br>E. Enza-Yamissi (68)\", \"C. Ninga (74)<br>S. Altama (62)\", \"A. S\\u00e1nchez (89)<br>A. Vidal (87)<br>G. Medel (82)\", \"Zheng Zhi (76)<br>Zeng Cheng (74)<br>Gao Lin (74)\", \"J. Rodr\\u00edguez (86)<br>Falcao (84)<br>C. Bacca (82)\", \"E. Ben Nabouhane (71)<br>R. Abdullah (70)<br>K. Abdallah (70)\", \"D. N'Dinga (74)<br>T. Bifouma (74)<br>C. Samba (74)\", \"K. Navas (85)<br>O. Duarte (77)<br>B. Ru\\u00edz (77)\", \"L. Modri\\u0107 (89)<br>I. Rakiti\\u0107 (87)<br>D. Suba\\u0161i\\u0107 (85)\", \"O. Alonso (77)<br>O. Hern\\u00e1ndez (69)\", \"E. Room (74)<br>L. Bacuna (72)<br>C. Martina (71)\", \"K. Laifis (73)<br>P. Sotiriou (68)<br>V. Sielis (67)\", \"P. \\u010cech (86)<br>V. Darida (79)<br>T. Rosick\\u00fd (79)\", \"C. Bakambu (81)<br>Y. Bolasie (78)<br>G. Kakuta (76)\", \"C. Eriksen (87)<br>K. Schmeichel (83)<br>A. Christensen (81)\", \"Mariano (76)<br>Tano Bonnin (73)<br>J. Firpo (60)\", \"A. Valencia (83)<br>C. Noboa (79)<br>J. Montero (78)\", \"M. Salah (83)<br>M. Elneny (77)<br>A. Hassan (75)\", \"D. Cer\\u00e9n (70)<br>A. Alvarez (68)\", \"H. Kane (86)<br>D. Alli (84)<br>G. Cahill (84)\", \"Nsue (71)<br>A. Ngamukol (70)<br>Iban Salvador (69)\", \"H. Goitom (71)\", \"K. Vassiljev (72)<br>K. Mets (67)<br>N. Baranov (67)\", \"A. Askar (67)<br>G. Panom (64)\", \"G. Pandev (74)<br>I. Nestorovski (74)<br>S. Ristovski (74)\", \"H. Hansson (66)<br>G. R\\u00f3lantsson S\\u00f8rensen (64)<br>J. Edmundsson (63)\", \"R. Krishna (69)\", \"L. Hr\\u00e1deck\\u00fd (81)<br>P. Hetemaj (77)<br>N. Moisander (76)\", \"A. Griezmann (88)<br>H. Lloris (88)<br>N. Kant\\u00e9 (87)\", \"P. Aubameyang (88)<br>M. Lemina (77)<br>D. Ndong (74)\", \"O. Colley (74)<br>M. Barrow (72)<br>B. Sanneh (68)\", \"G. Kashia (76)<br>V. Qazaishvili (75)<br>J. Ananidze (75)\", \"M. Neuer (92)<br>T. Kroos (90)<br>J. Boateng (88)\", \"K. Boateng (80)<br>A. Ayew (79)<br>A. Gyan (79)\", \"L. Walker (64)<br>S. Wiseman (64)\", \"Sokratis (86)<br>K. Manolas (84)<br>O. Karnezis (82)\", \"A. Pierre (64)\", \"A. DeLaGarza (69)\", \"R. J\\u00e9rez (72)\", \"N. Ke\\u00efta (83)<br>I. Traor\\u00e9 (80)<br>F. Pogba (77)\", \"Gerso (74)<br>F. Mendy (72)<br>Pel\\u00e9 (72)\", \"W. Creavalle (65)<br>N. Danns (63)<br>M. Briggs (61)\", \"J. Louis (72)<br>R. Genevois (72)<br>R. Goreux (70)\", \"A. Najar (74)<br>A. Lozano (73)<br>A. Elis (72)\", \"Dai Wai-Tsun (54)\", \"P. Gul\\u00e1csi (76)<br>N. Nikoli\\u0107 (76)<br>A. Szalai (75)\", \"G. Sigur\\u00f0sson (82)<br>A. Finnbogason (76)<br>E. Hallfre\\u00f0sson (75)\", \"S. Chhetri (67)<br>L. Ralte (64)<br>S. Paul (64)\", \"S. Azmoun (77)<br>A. Jahanbakhsh (75)<br>M. Mohammadi (73)\", \"J. Meram (74)<br>A. Adnan (73)<br>B. Nouri (69)\", \"M. Dabbur (76)<br>B. Natcho (76)<br>L. Refaelov (75)\", \"G. Chiellini (89)<br>G. Buffon (89)<br>L. Bonucci (88)\", \"E. Bailly (84)<br>Y. Tour\\u00e9 (83)<br>J. Seri (82)\", \"W. Morgan (77)<br>L. Bailey (76)<br>A. Blake (75)\", \"S. Kagawa (83)<br>T. Inui (78)<br>K. Honda (78)\", \"A. Merkel (68)<br>K. Engel (66)<br>W. Evseev (64)\", \"V. Wanyama (82)<br>M. Mariga (72)<br>M. Olunga (69)\", \"Chong Te Se (72)<br>Han Kwang Song (67)<br>Pak Kwang Ryong (64)\", \"H. Son (82)<br>Koo Ja Cheol (76)<br>Yoon Bo Sang (74)\", \"M. Rashica (75)<br>B. Berisha (74)<br>V. Berisha (74)\", \"F. Al Berahim (71)<br>F. Al Hajeri (61)\", \"V. Lux (58)\", \"A. Rud\\u0146evs (73)<br>A. Va\\u0146ins (71)<br>I. Tarasovs (68)\", \"B. Jradi (69)<br>S. Saad (66)<br>H. El Helwe (62)\", \"W. Jebor (67)<br>S. Nimely (61)\", \"A. Benali (72)<br>H. Elhouni (63)\", \"M. B\\u00fcchel (73)<br>N. Hasler (66)<br>Y. Frick (56)\", \"Z. Kar\\u010demarskas (76)<br>L. Spalvis (72)<br>F. \\u010cernych (68)\", \"M. Chanot (71)<br>L. Jans (71)<br>A. Moris (67)\", \"I. Andriatsima (72)<br>L. Nomenjanahary (68)<br>C. Andriamahitsinoro (65)\", \"M. Marega (77)<br>M. Wagu\\u00e9 (74)<br>A. Niane (74)\", \"M. Beerman (63)<br>M. Muscat (62)<br>L. Gambin (61)\", \"D. Guidileye (70)<br>A. Ba (63)\", \"K. Bru (67)\", \"J. Hern\\u00e1ndez (82)<br>C. Vela (82)<br>J. Corona (81)\", \"A. Ioni\\u0163\\u0103 (75)<br>A. Epureanu (74)<br>I. Arma\\u015f (74)\", \"S. Savi\\u0107 (82)<br>S. Joveti\\u0107 (81)<br>D. Damjanovi\\u0107 (75)\", \"D. Daniels (67)<br>L. Taylor (66)<br>A. Dyer (65)\", \"M. Benatia (84)<br>H. Ziyech (81)<br>Y. Belhanda (81)\", \"Mexer (77)<br>Zainadine (74)<br>Gildo (66)\", \"M. Starke (66)<br>R. Nyambe (63)\", \"A. Robben (88)<br>K. Strootman (84)<br>V. van Dijk (83)\", \"W. Lautoa (72)<br>G. Gope-Fenepej (65)\", \"W. Reid (79)<br>C. Wood (75)<br>M. Rojas (74)\", \"M. Ma\\u00e2zou (73)<br>S. Koita (69)<br>O. Bonnes (64)\", \"V. Enyeama (80)<br>V. Moses (79)<br>O. Ndidi (77)\", \"J. Evans (79)<br>G. McAuley (77)<br>S. Davis (77)\", \"R. Jarstein (82)<br>M. Elyounoussi (78)<br>P. Skjelbred (78)\", \"A. Al-Habsi (73)\", \"C. Salom (71)<br>H. Aiesh (64)<br>M. Eid (59)\", \"A. Machado (71)<br>A. Godoy (71)<br>G. G\\u00f3mez (70)\", \"M. Almir\\u00f3n (79)<br>H. P\\u00e9rez (79)<br>A. Sanabria (78)\", \"J. Farf\\u00e1n (78)<br>A. Carrillo (77)<br>P. Hurtado (76)\", \"N. Etheridge (68)<br>S. Palla (63)<br>D. Sato (54)\", \"R. Lewandowski (91)<br>K. Glik (85)<br>L. Piszczek (83)\", \"Cristiano Ronaldo (94)<br>Pepe (86)<br>Bernardo Silva (84)\", \"J. Hernandez (66)<br>J. Saunders (66)\", \"A. Afif (68)<br>A. Fadlalla (66)<br>Y. Ahmed (65)\", \"S. Coleman (81)<br>J. McCarthy (80)<br>W. Hoolahan (77)\", \"F. Andone (79)<br>S. Radu (79)<br>C. T\\u0103t\\u0103ru\\u015fanu (78)\", \"M\\u00e1rio Fernandes (81)<br>O. Shatov (80)<br>A. Dzagoev (80)\", \"E. Benedettini (54)\", \"N. Al Abed (76)<br>O. Hawsawi (75)<br>O. Othman (74)\", \"M. Phillips (77)<br>T. Cairney (77)<br>D. Fletcher (76)\", \"S. Man\\u00e9 (84)<br>K. Koulibaly (84)<br>I. Gueye (83)\", \"N. Mati\\u0107 (83)<br>L. Fejsa (82)<br>B. Ivanovi\\u0107 (82)\", \"K. Kamara (74)<br>A. Kamara (69)<br>M. Turay (67)\", \"M. Ham\\u0161\\u00edk (87)<br>M. \\u0160krtel (81)<br>J. Kucka (79)\", \"J. Oblak (88)<br>S. Handanovi\\u010d (87)<br>K. Kampl (81)\", \"L. Abdi (68)\", \"I. Khune (77)<br>S. Tshabalala (76)<br>P. Tau (76)\", \"De Gea (90)<br>Sergio Ramos (90)<br>Thiago (88)\", \"A. Razeek (60)\", \"R. Sawyers (70)<br>A. Harris (66)<br>O. Sterling-James (57)\", \"J. Donacien (62)\", \"M. Al Dhaw (62)<br>M. Eisa (58)\", \"K. Leerdam (70)<br>G. Zuiverloon (70)<br>R. Alberg (68)\", \"I. Rako (63)\", \"Z. Ibrahimovi\\u0107 (88)<br>E. Forsberg (83)<br>M. Berg (80)\", \"R. B\\u00fcrki (84)<br>Y. Sommer (83)<br>G. Xhaka (82)\", \"O. Al Soma (78)<br>O. Al Soma (78)<br>O. Kharbin (75)\", \"Lu\\u00eds Leal (64)\", \"M. Samatta (73)<br>F. Mussa (62)\", \"C. Songkrasin (65)<br>W. Jakkit (53)\", \"M. Dossevi (74)<br>S. Gakp\\u00e9 (74)<br>F. Ayit\\u00e9 (74)\", \"K. Molino (74)<br>J. Bostock (71)<br>J. Jones (71)\", \"A. Abdennour (77)<br>Y. Benalouane (75)<br>E. Skhiri (74)\", \"O. Toprak (83)<br>A. Turan (82)<br>O. \\u00d6zyakup (80)\", \"M. Kazankov (63)\", \"M. Azira (70)<br>A. Kakuba (64)<br>M. Lorenzen (64)\", \"A. Yarmolenko (81)<br>T. Stepanenko (80)<br>Y. Rakitskyi (80)\", \"J. Brooks (80)<br>F. Johnson (79)<br>C. Pulisic (78)\", \"L. Su\\u00e1rez (92)<br>D. God\\u00edn (88)<br>E. Cavani (87)\", \"V. Denisov (80)<br>V. Afonin (71)<br>V. Galiulin (67)\", \"S. Rond\\u00f3n (80)<br>J. Mart\\u00ednez (78)<br>T. Rinc\\u00f3n (77)\", \"Luong Xuan Truong (61)\", \"G. Bale (89)<br>A. Ramsey (82)<br>A. Williams (82)\", \"C. Lungu (73)<br>S. Sunzu (71)<br>E. Kangwa (69)\", \"T. Ndoro (73)<br>M. Nakamba (73)<br>W. Katsande (73)\"], \"type\": \"choropleth\", \"z\": [56.333333333333336, 66.25714285714285, 70.94736842105263, 68.26666666666667, 58.6, 67.76580310880829, 67.0, 62.757709251101325, 64.45112781954887, 64.28571428571429, 65.0, 70.77777777777777, 68.09558823529412, 64.0, 68.0, 63.25, 65.46666666666667, 69.27272727272727, 70.89532019704434, 55.0, 67.12121212121212, 68.5, 64.0, 67.65116279069767, 64.05454545454545, 69.27272727272727, 67.0, 68.0, 70.896, 67.6, 65.67736486486487, 68.33333333333333, 65.0909090909091, 69.65517241379311, 69.07339449541284, 73.0, 67.72727272727273, 62.45454545454545, 70.17808219178082, 67.8103448275862, 63.309248554913296, 69.66666666666667, 70.51351351351352, 69.96875, 69.0, 63.069938650306746, 67.33333333333333, 71.0, 64.75, 65.5, 66.76470588235294, 60.833333333333336, 69.0, 64.30645161290323, 67.28629856850716, 70.5, 65.66666666666667, 66.96774193548387, 65.90087719298245, 66.76068376068376, 64.0, 68.81632653061224, 64.0, 69.0, 72.0, 68.76, 65.875, 61.6, 63.285714285714285, 69.84615384615384, 54.0, 68.45945945945945, 66.09433962264151, 57.9, 68.41176470588235, 67.77777777777777, 71.16666666666667, 66.96620775969963, 68.33663366336634, 65.83783783783784, 62.272921108742004, 66.0, 67.14285714285714, 62.5, 64.48787878787878, 66.34375, 66.0, 58.0, 67.42857142857143, 62.6, 64.0, 67.5, 65.0, 64.08333333333333, 66.0, 66.75, 67.43478260869566, 62.0, 66.5, 67.0, 65.64722222222223, 69.66666666666667, 68.4, 64.5, 69.65384615384616, 72.33333333333333, 64.5, 68.06060606060606, 68.5, 61.973684210526315, 68.66666666666667, 66.76190476190476, 62.47674418604651, 63.03903903903904, 73.0, 63.25, 65.6875, 69.66666666666667, 68.73333333333333, 61.666666666666664, 64.05637982195846, 70.59945504087193, 66.0, 64.33333333333333, 60.07434052757794, 68.72881355932203, 66.47058823529412, 54.0, 61.088145896656535, 62.86666666666667, 68.30232558139535, 70.44360902255639, 65.55555555555556, 66.75, 68.26153846153846, 68.0, 67.33766233766234, 69.93915603532875, 60.0, 64.33333333333333, 62.0, 60.0, 69.33333333333333, 63.0, 64.51086956521739, 63.82832618025751, 72.5, 64.0, 67.5, 59.0, 71.0, 68.22222222222223, 68.06451612903226, 67.21305841924399, 63.0, 62.75, 70.04081632653062, 64.99475065616798, 69.47712418300654, 68.4, 69.03921568627452, 61.0, 64.2439024390244, 63.857142857142854, 66.54545454545455]}],\n",
       "                        {\"geo\": {\"projection\": {\"type\": \"mercator\"}, \"showcoastlines\": false, \"showframe\": true}, \"template\": {\"data\": {\"bar\": [{\"error_x\": {\"color\": \"#2a3f5f\"}, \"error_y\": {\"color\": \"#2a3f5f\"}, \"marker\": {\"line\": {\"color\": \"#E5ECF6\", \"width\": 0.5}}, \"type\": \"bar\"}], \"barpolar\": [{\"marker\": {\"line\": {\"color\": \"#E5ECF6\", \"width\": 0.5}}, \"type\": \"barpolar\"}], \"carpet\": [{\"aaxis\": {\"endlinecolor\": \"#2a3f5f\", \"gridcolor\": \"white\", \"linecolor\": \"white\", \"minorgridcolor\": \"white\", \"startlinecolor\": \"#2a3f5f\"}, \"baxis\": {\"endlinecolor\": \"#2a3f5f\", \"gridcolor\": \"white\", \"linecolor\": \"white\", \"minorgridcolor\": \"white\", \"startlinecolor\": \"#2a3f5f\"}, \"type\": \"carpet\"}], \"choropleth\": [{\"colorbar\": {\"outlinewidth\": 0, \"ticks\": \"\"}, \"type\": \"choropleth\"}], \"contour\": [{\"colorbar\": {\"outlinewidth\": 0, \"ticks\": \"\"}, \"colorscale\": [[0.0, \"#0d0887\"], [0.1111111111111111, \"#46039f\"], [0.2222222222222222, \"#7201a8\"], [0.3333333333333333, \"#9c179e\"], [0.4444444444444444, \"#bd3786\"], [0.5555555555555556, \"#d8576b\"], [0.6666666666666666, \"#ed7953\"], [0.7777777777777778, \"#fb9f3a\"], [0.8888888888888888, \"#fdca26\"], [1.0, \"#f0f921\"]], \"type\": \"contour\"}], \"contourcarpet\": [{\"colorbar\": {\"outlinewidth\": 0, \"ticks\": \"\"}, \"type\": \"contourcarpet\"}], \"heatmap\": [{\"colorbar\": {\"outlinewidth\": 0, \"ticks\": \"\"}, \"colorscale\": [[0.0, \"#0d0887\"], [0.1111111111111111, \"#46039f\"], [0.2222222222222222, \"#7201a8\"], [0.3333333333333333, \"#9c179e\"], [0.4444444444444444, \"#bd3786\"], [0.5555555555555556, \"#d8576b\"], [0.6666666666666666, \"#ed7953\"], [0.7777777777777778, \"#fb9f3a\"], [0.8888888888888888, \"#fdca26\"], [1.0, \"#f0f921\"]], \"type\": \"heatmap\"}], \"heatmapgl\": [{\"colorbar\": {\"outlinewidth\": 0, \"ticks\": \"\"}, \"colorscale\": [[0.0, \"#0d0887\"], [0.1111111111111111, \"#46039f\"], [0.2222222222222222, \"#7201a8\"], [0.3333333333333333, \"#9c179e\"], [0.4444444444444444, \"#bd3786\"], [0.5555555555555556, \"#d8576b\"], [0.6666666666666666, \"#ed7953\"], [0.7777777777777778, \"#fb9f3a\"], [0.8888888888888888, \"#fdca26\"], [1.0, \"#f0f921\"]], \"type\": \"heatmapgl\"}], \"histogram\": [{\"marker\": {\"colorbar\": {\"outlinewidth\": 0, \"ticks\": \"\"}}, \"type\": \"histogram\"}], \"histogram2d\": [{\"colorbar\": {\"outlinewidth\": 0, \"ticks\": \"\"}, \"colorscale\": [[0.0, \"#0d0887\"], [0.1111111111111111, \"#46039f\"], [0.2222222222222222, \"#7201a8\"], [0.3333333333333333, \"#9c179e\"], [0.4444444444444444, \"#bd3786\"], [0.5555555555555556, \"#d8576b\"], [0.6666666666666666, \"#ed7953\"], [0.7777777777777778, \"#fb9f3a\"], [0.8888888888888888, \"#fdca26\"], [1.0, \"#f0f921\"]], \"type\": \"histogram2d\"}], \"histogram2dcontour\": [{\"colorbar\": {\"outlinewidth\": 0, \"ticks\": \"\"}, \"colorscale\": [[0.0, \"#0d0887\"], [0.1111111111111111, \"#46039f\"], [0.2222222222222222, \"#7201a8\"], [0.3333333333333333, \"#9c179e\"], [0.4444444444444444, \"#bd3786\"], [0.5555555555555556, \"#d8576b\"], [0.6666666666666666, \"#ed7953\"], [0.7777777777777778, \"#fb9f3a\"], [0.8888888888888888, \"#fdca26\"], [1.0, \"#f0f921\"]], \"type\": \"histogram2dcontour\"}], \"mesh3d\": [{\"colorbar\": {\"outlinewidth\": 0, \"ticks\": \"\"}, \"type\": \"mesh3d\"}], \"parcoords\": [{\"line\": {\"colorbar\": {\"outlinewidth\": 0, \"ticks\": \"\"}}, \"type\": \"parcoords\"}], \"pie\": [{\"automargin\": true, \"type\": \"pie\"}], \"scatter\": [{\"marker\": {\"colorbar\": {\"outlinewidth\": 0, \"ticks\": \"\"}}, \"type\": \"scatter\"}], \"scatter3d\": [{\"line\": {\"colorbar\": {\"outlinewidth\": 0, \"ticks\": \"\"}}, \"marker\": {\"colorbar\": {\"outlinewidth\": 0, \"ticks\": \"\"}}, \"type\": \"scatter3d\"}], \"scattercarpet\": [{\"marker\": {\"colorbar\": {\"outlinewidth\": 0, \"ticks\": \"\"}}, \"type\": \"scattercarpet\"}], \"scattergeo\": [{\"marker\": {\"colorbar\": {\"outlinewidth\": 0, \"ticks\": \"\"}}, \"type\": \"scattergeo\"}], \"scattergl\": [{\"marker\": {\"colorbar\": {\"outlinewidth\": 0, \"ticks\": \"\"}}, \"type\": \"scattergl\"}], \"scattermapbox\": [{\"marker\": {\"colorbar\": {\"outlinewidth\": 0, \"ticks\": \"\"}}, \"type\": \"scattermapbox\"}], \"scatterpolar\": [{\"marker\": {\"colorbar\": {\"outlinewidth\": 0, \"ticks\": \"\"}}, \"type\": \"scatterpolar\"}], \"scatterpolargl\": [{\"marker\": {\"colorbar\": {\"outlinewidth\": 0, \"ticks\": \"\"}}, \"type\": \"scatterpolargl\"}], \"scatterternary\": [{\"marker\": {\"colorbar\": {\"outlinewidth\": 0, \"ticks\": \"\"}}, \"type\": \"scatterternary\"}], \"surface\": [{\"colorbar\": {\"outlinewidth\": 0, \"ticks\": \"\"}, \"colorscale\": [[0.0, \"#0d0887\"], [0.1111111111111111, \"#46039f\"], [0.2222222222222222, \"#7201a8\"], [0.3333333333333333, \"#9c179e\"], [0.4444444444444444, \"#bd3786\"], [0.5555555555555556, \"#d8576b\"], [0.6666666666666666, \"#ed7953\"], [0.7777777777777778, \"#fb9f3a\"], [0.8888888888888888, \"#fdca26\"], [1.0, \"#f0f921\"]], \"type\": \"surface\"}], \"table\": [{\"cells\": {\"fill\": {\"color\": \"#EBF0F8\"}, \"line\": {\"color\": \"white\"}}, \"header\": {\"fill\": {\"color\": \"#C8D4E3\"}, \"line\": {\"color\": \"white\"}}, \"type\": \"table\"}]}, \"layout\": {\"annotationdefaults\": {\"arrowcolor\": \"#2a3f5f\", \"arrowhead\": 0, \"arrowwidth\": 1}, \"coloraxis\": {\"colorbar\": {\"outlinewidth\": 0, \"ticks\": \"\"}}, \"colorscale\": {\"diverging\": [[0, \"#8e0152\"], [0.1, \"#c51b7d\"], [0.2, \"#de77ae\"], [0.3, \"#f1b6da\"], [0.4, \"#fde0ef\"], [0.5, \"#f7f7f7\"], [0.6, \"#e6f5d0\"], [0.7, \"#b8e186\"], [0.8, \"#7fbc41\"], [0.9, \"#4d9221\"], [1, \"#276419\"]], \"sequential\": [[0.0, \"#0d0887\"], [0.1111111111111111, \"#46039f\"], [0.2222222222222222, \"#7201a8\"], [0.3333333333333333, \"#9c179e\"], [0.4444444444444444, \"#bd3786\"], [0.5555555555555556, \"#d8576b\"], [0.6666666666666666, \"#ed7953\"], [0.7777777777777778, \"#fb9f3a\"], [0.8888888888888888, \"#fdca26\"], [1.0, \"#f0f921\"]], \"sequentialminus\": [[0.0, \"#0d0887\"], [0.1111111111111111, \"#46039f\"], [0.2222222222222222, \"#7201a8\"], [0.3333333333333333, \"#9c179e\"], [0.4444444444444444, \"#bd3786\"], [0.5555555555555556, \"#d8576b\"], [0.6666666666666666, \"#ed7953\"], [0.7777777777777778, \"#fb9f3a\"], [0.8888888888888888, \"#fdca26\"], [1.0, \"#f0f921\"]]}, \"colorway\": [\"#636efa\", \"#EF553B\", \"#00cc96\", \"#ab63fa\", \"#FFA15A\", \"#19d3f3\", \"#FF6692\", \"#B6E880\", \"#FF97FF\", \"#FECB52\"], \"font\": {\"color\": \"#2a3f5f\"}, \"geo\": {\"bgcolor\": \"white\", \"lakecolor\": \"white\", \"landcolor\": \"#E5ECF6\", \"showlakes\": true, \"showland\": true, \"subunitcolor\": \"white\"}, \"hoverlabel\": {\"align\": \"left\"}, \"hovermode\": \"closest\", \"mapbox\": {\"style\": \"light\"}, \"paper_bgcolor\": \"white\", \"plot_bgcolor\": \"#E5ECF6\", \"polar\": {\"angularaxis\": {\"gridcolor\": \"white\", \"linecolor\": \"white\", \"ticks\": \"\"}, \"bgcolor\": \"#E5ECF6\", \"radialaxis\": {\"gridcolor\": \"white\", \"linecolor\": \"white\", \"ticks\": \"\"}}, \"scene\": {\"xaxis\": {\"backgroundcolor\": \"#E5ECF6\", \"gridcolor\": \"white\", \"gridwidth\": 2, \"linecolor\": \"white\", \"showbackground\": true, \"ticks\": \"\", \"zerolinecolor\": \"white\"}, \"yaxis\": {\"backgroundcolor\": \"#E5ECF6\", \"gridcolor\": \"white\", \"gridwidth\": 2, \"linecolor\": \"white\", \"showbackground\": true, \"ticks\": \"\", \"zerolinecolor\": \"white\"}, \"zaxis\": {\"backgroundcolor\": \"#E5ECF6\", \"gridcolor\": \"white\", \"gridwidth\": 2, \"linecolor\": \"white\", \"showbackground\": true, \"ticks\": \"\", \"zerolinecolor\": \"white\"}}, \"shapedefaults\": {\"line\": {\"color\": \"#2a3f5f\"}}, \"ternary\": {\"aaxis\": {\"gridcolor\": \"white\", \"linecolor\": \"white\", \"ticks\": \"\"}, \"baxis\": {\"gridcolor\": \"white\", \"linecolor\": \"white\", \"ticks\": \"\"}, \"bgcolor\": \"#E5ECF6\", \"caxis\": {\"gridcolor\": \"white\", \"linecolor\": \"white\", \"ticks\": \"\"}}, \"title\": {\"x\": 0.05}, \"xaxis\": {\"automargin\": true, \"gridcolor\": \"white\", \"linecolor\": \"white\", \"ticks\": \"\", \"title\": {\"standoff\": 15}, \"zerolinecolor\": \"white\", \"zerolinewidth\": 2}, \"yaxis\": {\"automargin\": true, \"gridcolor\": \"white\", \"linecolor\": \"white\", \"ticks\": \"\", \"title\": {\"standoff\": 15}, \"zerolinecolor\": \"white\", \"zerolinewidth\": 2}}}, \"title\": {\"text\": \"Average rating per nationality\"}},\n",
       "                        {\"responsive\": true}\n",
       "                    ).then(function(){\n",
       "                            \n",
       "var gd = document.getElementById('98e69c4d-3fb7-4328-8db6-d6f1e900d614');\n",
       "var x = new MutationObserver(function (mutations, observer) {{\n",
       "        var display = window.getComputedStyle(gd).display;\n",
       "        if (!display || display === 'none') {{\n",
       "            console.log([gd, 'removed!']);\n",
       "            Plotly.purge(gd);\n",
       "            observer.disconnect();\n",
       "        }}\n",
       "}});\n",
       "\n",
       "// Listen for the removal of the full notebook cells\n",
       "var notebookContainer = gd.closest('#notebook-container');\n",
       "if (notebookContainer) {{\n",
       "    x.observe(notebookContainer, {childList: true});\n",
       "}}\n",
       "\n",
       "// Listen for the clearing of the current output cell\n",
       "var outputEl = gd.closest('.output');\n",
       "if (outputEl) {{\n",
       "    x.observe(outputEl, {childList: true});\n",
       "}}\n",
       "\n",
       "                        })\n",
       "                };\n",
       "                });\n",
       "            </script>\n",
       "        </div>"
      ]
     },
     "metadata": {},
     "output_type": "display_data"
    },
    {
     "data": {
      "application/vnd.plotly.v1+json": {
       "config": {
        "linkText": "Export to plot.ly",
        "plotlyServerURL": "https://plot.ly",
        "showLink": false
       },
       "data": [
        {
         "colorbar": {
          "title": {
           "text": "Scale"
          }
         },
         "colorscale": [
          [
           0,
           "rgb(242,240,247)"
          ],
          [
           0.2,
           "rgb(218,218,235)"
          ],
          [
           0.4,
           "rgb(188,189,220)"
          ],
          [
           0.6,
           "rgb(158,154,200)"
          ],
          [
           0.8,
           "rgb(117,107,177)"
          ],
          [
           1,
           "rgb(84,39,143)"
          ]
         ],
         "locationmode": "country names",
         "locations": [
          "Afghanistan",
          "Albania",
          "Algeria",
          "Angola",
          "Antigua & Barbuda",
          "Argentina",
          "Armenia",
          "Australia",
          "Austria",
          "Azerbaijan",
          "Barbados",
          "Belarus",
          "Belgium",
          "Belize",
          "Benin",
          "Bermuda",
          "Bolivia",
          "Bosnia Herzegovina",
          "Brazil",
          "Brunei Darussalam",
          "Bulgaria",
          "Burkina Faso",
          "Burundi",
          "Cameroon",
          "Canada",
          "Cape Verde",
          "Central African Rep.",
          "Chad",
          "Chile",
          "China PR",
          "Colombia",
          "Comoros",
          "Congo",
          "Costa Rica",
          "Croatia",
          "Cuba",
          "Curacao",
          "Cyprus",
          "Czech Republic",
          "DR Congo",
          "Denmark",
          "Dominican Republic",
          "Ecuador",
          "Egypt",
          "El Salvador",
          "United Kingdom",
          "Equatorial Guinea",
          "Eritrea",
          "Estonia",
          "Ethiopia",
          "FYR Macedonia",
          "Faroe Islands",
          "Fiji",
          "Finland",
          "France",
          "Gabon",
          "Gambia",
          "Georgia",
          "Germany",
          "Ghana",
          "Gibraltar",
          "Greece",
          "Grenada",
          "Guam",
          "Guatemala",
          "Guinea",
          "Guinea Bissau",
          "Guyana",
          "Haiti",
          "Honduras",
          "Hong Kong",
          "Hungary",
          "Iceland",
          "India",
          "Iran",
          "Iraq",
          "Israel",
          "Italy",
          "Ivory Coast",
          "Jamaica",
          "Japan",
          "Kazakhstan",
          "Kenya",
          "Korea DPR",
          "Korea Republic",
          "Kosovo",
          "Kuwait",
          "Kyrgyzstan",
          "Latvia",
          "Lebanon",
          "Liberia",
          "Libya",
          "Liechtenstein",
          "Lithuania",
          "Luxembourg",
          "Madagascar",
          "Mali",
          "Malta",
          "Mauritania",
          "Mauritius",
          "Mexico",
          "Moldova",
          "Montenegro",
          "Montserrat",
          "Morocco",
          "Mozambique",
          "Namibia",
          "Netherlands",
          "New Caledonia",
          "New Zealand",
          "Niger",
          "Nigeria",
          "Northern Ireland",
          "Norway",
          "Oman",
          "Palestine",
          "Panama",
          "Paraguay",
          "Peru",
          "Philippines",
          "Poland",
          "Portugal",
          "Puerto Rico",
          "Qatar",
          "Republic of Ireland",
          "Romania",
          "Russia",
          "San Marino",
          "Saudi Arabia",
          "Scotland",
          "Senegal",
          "Serbia",
          "Sierra Leone",
          "Slovakia",
          "Slovenia",
          "Somalia",
          "South Africa",
          "Spain",
          "Sri Lanka",
          "St Kitts Nevis",
          "St Lucia",
          "Sudan",
          "Suriname",
          "Swaziland",
          "Sweden",
          "Switzerland",
          "Syria",
          "São Tomé & Príncipe",
          "Tanzania",
          "Thailand",
          "Togo",
          "Trinidad & Tobago",
          "Tunisia",
          "Turkey",
          "Turkmenistan",
          "Uganda",
          "Ukraine",
          "United States",
          "Uruguay",
          "Uzbekistan",
          "Venezuela",
          "Vietnam",
          "Wales",
          "Zambia",
          "Zimbabwe"
         ],
         "reversescale": false,
         "text": [
          "M. Kouhyar (60)<br>S. Mukhammad (59)<br>N. Husin (50)",
          "E. Hysaj (79)<br>E. Berisha (78)<br>M. Mavraj (76)",
          "R. Mahrez (83)<br>I. Slimani (82)<br>Y. Brahimi (82)",
          "Bastos (77)<br>Djalma (74)<br>Mateus (73)",
          "M. Romeo (65)<br>C. Jahraldo-Martin (60)<br>J. Parker (59)",
          "L. Messi (93)<br>G. Higuaín (90)<br>S. Agüero (89)",
          "H. Mkhitaryan (85)<br>A. Özbiliz (73)<br>Marcos Pizzelli (71)",
          "M. Ryan (77)<br>B. Jones (77)<br>A. Mooy (77)",
          "D. Alaba (86)<br>M. Arnautović (82)<br>S. Prödl (79)",
          "D. Yılmaz (70)<br>D. Nazarov (68)<br>Eddy (66)",
          "J. Forte (65)",
          "Renan Bressan (76)<br>T. Kalachev (75)<br>A. Martynovich (74)",
          "E. Hazard (90)<br>K. De Bruyne (89)<br>T. Courtois (89)",
          "M. Salazar (64)",
          "S. Mounié (76)<br>S. Sessègnon (75)<br>J. Adéoti (74)",
          "N. Wells (72)<br>R. Lambe (63)<br>Z. Lewis (60)",
          "M. Martins (75)<br>J. Campos (71)<br>P. Escobar (70)",
          "M. Pjanić (85)<br>E. Džeko (84)<br>A. Begović (82)",
          "Neymar (92)<br>Thiago Silva (88)<br>Marcelo (87)",
          "F. Bolkiah (55)",
          "I. Popov (77)<br>V. Stoyanov (74)<br>G. Milanov (73)",
          "B. Traoré (79)<br>C. Kaboré (77)<br>B. Koné (75)",
          "C. Amissi (64)",
          "J. Matip (83)<br>S. Eto'o (81)<br>C. Kameni (80)",
          "A. Hutchinson (80)<br>S. Arfield (73)<br>C. Larin (73)",
          "Zé Luís (79)<br>Garry Rodrigues (75)<br>Varela (75)",
          "C. Yambéré (70)<br>A. Youga (69)<br>E. Enza-Yamissi (68)",
          "C. Ninga (74)<br>S. Altama (62)",
          "A. Sánchez (89)<br>A. Vidal (87)<br>G. Medel (82)",
          "Zheng Zhi (76)<br>Zeng Cheng (74)<br>Gao Lin (74)",
          "J. Rodríguez (86)<br>Falcao (84)<br>C. Bacca (82)",
          "E. Ben Nabouhane (71)<br>R. Abdullah (70)<br>K. Abdallah (70)",
          "D. N'Dinga (74)<br>T. Bifouma (74)<br>C. Samba (74)",
          "K. Navas (85)<br>O. Duarte (77)<br>B. Ruíz (77)",
          "L. Modrić (89)<br>I. Rakitić (87)<br>D. Subašić (85)",
          "O. Alonso (77)<br>O. Hernández (69)",
          "E. Room (74)<br>L. Bacuna (72)<br>C. Martina (71)",
          "K. Laifis (73)<br>P. Sotiriou (68)<br>V. Sielis (67)",
          "P. Čech (86)<br>V. Darida (79)<br>T. Rosický (79)",
          "C. Bakambu (81)<br>Y. Bolasie (78)<br>G. Kakuta (76)",
          "C. Eriksen (87)<br>K. Schmeichel (83)<br>A. Christensen (81)",
          "Mariano (76)<br>Tano Bonnin (73)<br>J. Firpo (60)",
          "A. Valencia (83)<br>C. Noboa (79)<br>J. Montero (78)",
          "M. Salah (83)<br>M. Elneny (77)<br>A. Hassan (75)",
          "D. Cerén (70)<br>A. Alvarez (68)",
          "H. Kane (86)<br>D. Alli (84)<br>G. Cahill (84)",
          "Nsue (71)<br>A. Ngamukol (70)<br>Iban Salvador (69)",
          "H. Goitom (71)",
          "K. Vassiljev (72)<br>K. Mets (67)<br>N. Baranov (67)",
          "A. Askar (67)<br>G. Panom (64)",
          "G. Pandev (74)<br>I. Nestorovski (74)<br>S. Ristovski (74)",
          "H. Hansson (66)<br>G. Rólantsson Sørensen (64)<br>J. Edmundsson (63)",
          "R. Krishna (69)",
          "L. Hrádecký (81)<br>P. Hetemaj (77)<br>N. Moisander (76)",
          "A. Griezmann (88)<br>H. Lloris (88)<br>N. Kanté (87)",
          "P. Aubameyang (88)<br>M. Lemina (77)<br>D. Ndong (74)",
          "O. Colley (74)<br>M. Barrow (72)<br>B. Sanneh (68)",
          "G. Kashia (76)<br>V. Qazaishvili (75)<br>J. Ananidze (75)",
          "M. Neuer (92)<br>T. Kroos (90)<br>J. Boateng (88)",
          "K. Boateng (80)<br>A. Ayew (79)<br>A. Gyan (79)",
          "L. Walker (64)<br>S. Wiseman (64)",
          "Sokratis (86)<br>K. Manolas (84)<br>O. Karnezis (82)",
          "A. Pierre (64)",
          "A. DeLaGarza (69)",
          "R. Jérez (72)",
          "N. Keïta (83)<br>I. Traoré (80)<br>F. Pogba (77)",
          "Gerso (74)<br>F. Mendy (72)<br>Pelé (72)",
          "W. Creavalle (65)<br>N. Danns (63)<br>M. Briggs (61)",
          "J. Louis (72)<br>R. Genevois (72)<br>R. Goreux (70)",
          "A. Najar (74)<br>A. Lozano (73)<br>A. Elis (72)",
          "Dai Wai-Tsun (54)",
          "P. Gulácsi (76)<br>N. Nikolić (76)<br>A. Szalai (75)",
          "G. Sigurðsson (82)<br>A. Finnbogason (76)<br>E. Hallfreðsson (75)",
          "S. Chhetri (67)<br>L. Ralte (64)<br>S. Paul (64)",
          "S. Azmoun (77)<br>A. Jahanbakhsh (75)<br>M. Mohammadi (73)",
          "J. Meram (74)<br>A. Adnan (73)<br>B. Nouri (69)",
          "M. Dabbur (76)<br>B. Natcho (76)<br>L. Refaelov (75)",
          "G. Chiellini (89)<br>G. Buffon (89)<br>L. Bonucci (88)",
          "E. Bailly (84)<br>Y. Touré (83)<br>J. Seri (82)",
          "W. Morgan (77)<br>L. Bailey (76)<br>A. Blake (75)",
          "S. Kagawa (83)<br>T. Inui (78)<br>K. Honda (78)",
          "A. Merkel (68)<br>K. Engel (66)<br>W. Evseev (64)",
          "V. Wanyama (82)<br>M. Mariga (72)<br>M. Olunga (69)",
          "Chong Te Se (72)<br>Han Kwang Song (67)<br>Pak Kwang Ryong (64)",
          "H. Son (82)<br>Koo Ja Cheol (76)<br>Yoon Bo Sang (74)",
          "M. Rashica (75)<br>B. Berisha (74)<br>V. Berisha (74)",
          "F. Al Berahim (71)<br>F. Al Hajeri (61)",
          "V. Lux (58)",
          "A. Rudņevs (73)<br>A. Vaņins (71)<br>I. Tarasovs (68)",
          "B. Jradi (69)<br>S. Saad (66)<br>H. El Helwe (62)",
          "W. Jebor (67)<br>S. Nimely (61)",
          "A. Benali (72)<br>H. Elhouni (63)",
          "M. Büchel (73)<br>N. Hasler (66)<br>Y. Frick (56)",
          "Z. Karčemarskas (76)<br>L. Spalvis (72)<br>F. Černych (68)",
          "M. Chanot (71)<br>L. Jans (71)<br>A. Moris (67)",
          "I. Andriatsima (72)<br>L. Nomenjanahary (68)<br>C. Andriamahitsinoro (65)",
          "M. Marega (77)<br>M. Wagué (74)<br>A. Niane (74)",
          "M. Beerman (63)<br>M. Muscat (62)<br>L. Gambin (61)",
          "D. Guidileye (70)<br>A. Ba (63)",
          "K. Bru (67)",
          "J. Hernández (82)<br>C. Vela (82)<br>J. Corona (81)",
          "A. Ioniţă (75)<br>A. Epureanu (74)<br>I. Armaş (74)",
          "S. Savić (82)<br>S. Jovetić (81)<br>D. Damjanović (75)",
          "D. Daniels (67)<br>L. Taylor (66)<br>A. Dyer (65)",
          "M. Benatia (84)<br>H. Ziyech (81)<br>Y. Belhanda (81)",
          "Mexer (77)<br>Zainadine (74)<br>Gildo (66)",
          "M. Starke (66)<br>R. Nyambe (63)",
          "A. Robben (88)<br>K. Strootman (84)<br>V. van Dijk (83)",
          "W. Lautoa (72)<br>G. Gope-Fenepej (65)",
          "W. Reid (79)<br>C. Wood (75)<br>M. Rojas (74)",
          "M. Maâzou (73)<br>S. Koita (69)<br>O. Bonnes (64)",
          "V. Enyeama (80)<br>V. Moses (79)<br>O. Ndidi (77)",
          "J. Evans (79)<br>G. McAuley (77)<br>S. Davis (77)",
          "R. Jarstein (82)<br>M. Elyounoussi (78)<br>P. Skjelbred (78)",
          "A. Al-Habsi (73)",
          "C. Salom (71)<br>H. Aiesh (64)<br>M. Eid (59)",
          "A. Machado (71)<br>A. Godoy (71)<br>G. Gómez (70)",
          "M. Almirón (79)<br>H. Pérez (79)<br>A. Sanabria (78)",
          "J. Farfán (78)<br>A. Carrillo (77)<br>P. Hurtado (76)",
          "N. Etheridge (68)<br>S. Palla (63)<br>D. Sato (54)",
          "R. Lewandowski (91)<br>K. Glik (85)<br>L. Piszczek (83)",
          "Cristiano Ronaldo (94)<br>Pepe (86)<br>Bernardo Silva (84)",
          "J. Hernandez (66)<br>J. Saunders (66)",
          "A. Afif (68)<br>A. Fadlalla (66)<br>Y. Ahmed (65)",
          "S. Coleman (81)<br>J. McCarthy (80)<br>W. Hoolahan (77)",
          "F. Andone (79)<br>S. Radu (79)<br>C. Tătăruşanu (78)",
          "Mário Fernandes (81)<br>O. Shatov (80)<br>A. Dzagoev (80)",
          "E. Benedettini (54)",
          "N. Al Abed (76)<br>O. Hawsawi (75)<br>O. Othman (74)",
          "M. Phillips (77)<br>T. Cairney (77)<br>D. Fletcher (76)",
          "S. Mané (84)<br>K. Koulibaly (84)<br>I. Gueye (83)",
          "N. Matić (83)<br>L. Fejsa (82)<br>B. Ivanović (82)",
          "K. Kamara (74)<br>A. Kamara (69)<br>M. Turay (67)",
          "M. Hamšík (87)<br>M. Škrtel (81)<br>J. Kucka (79)",
          "J. Oblak (88)<br>S. Handanovič (87)<br>K. Kampl (81)",
          "L. Abdi (68)",
          "I. Khune (77)<br>S. Tshabalala (76)<br>P. Tau (76)",
          "De Gea (90)<br>Sergio Ramos (90)<br>Thiago (88)",
          "A. Razeek (60)",
          "R. Sawyers (70)<br>A. Harris (66)<br>O. Sterling-James (57)",
          "J. Donacien (62)",
          "M. Al Dhaw (62)<br>M. Eisa (58)",
          "K. Leerdam (70)<br>G. Zuiverloon (70)<br>R. Alberg (68)",
          "I. Rako (63)",
          "Z. Ibrahimović (88)<br>E. Forsberg (83)<br>M. Berg (80)",
          "R. Bürki (84)<br>Y. Sommer (83)<br>G. Xhaka (82)",
          "O. Al Soma (78)<br>O. Al Soma (78)<br>O. Kharbin (75)",
          "Luís Leal (64)",
          "M. Samatta (73)<br>F. Mussa (62)",
          "C. Songkrasin (65)<br>W. Jakkit (53)",
          "M. Dossevi (74)<br>S. Gakpé (74)<br>F. Ayité (74)",
          "K. Molino (74)<br>J. Bostock (71)<br>J. Jones (71)",
          "A. Abdennour (77)<br>Y. Benalouane (75)<br>E. Skhiri (74)",
          "O. Toprak (83)<br>A. Turan (82)<br>O. Özyakup (80)",
          "M. Kazankov (63)",
          "M. Azira (70)<br>A. Kakuba (64)<br>M. Lorenzen (64)",
          "A. Yarmolenko (81)<br>T. Stepanenko (80)<br>Y. Rakitskyi (80)",
          "J. Brooks (80)<br>F. Johnson (79)<br>C. Pulisic (78)",
          "L. Suárez (92)<br>D. Godín (88)<br>E. Cavani (87)",
          "V. Denisov (80)<br>V. Afonin (71)<br>V. Galiulin (67)",
          "S. Rondón (80)<br>J. Martínez (78)<br>T. Rincón (77)",
          "Luong Xuan Truong (61)",
          "G. Bale (89)<br>A. Ramsey (82)<br>A. Williams (82)",
          "C. Lungu (73)<br>S. Sunzu (71)<br>E. Kangwa (69)",
          "T. Ndoro (73)<br>M. Nakamba (73)<br>W. Katsande (73)"
         ],
         "type": "choropleth",
         "z": [
          60,
          79,
          83,
          77,
          65,
          93,
          85,
          77,
          86,
          70,
          65,
          76,
          90,
          64,
          76,
          72,
          75,
          85,
          92,
          55,
          77,
          79,
          64,
          83,
          80,
          79,
          70,
          74,
          89,
          76,
          86,
          71,
          74,
          85,
          89,
          77,
          74,
          73,
          86,
          81,
          87,
          76,
          83,
          83,
          70,
          86,
          71,
          71,
          72,
          67,
          74,
          66,
          69,
          81,
          88,
          88,
          74,
          76,
          92,
          80,
          64,
          86,
          64,
          69,
          72,
          83,
          74,
          65,
          72,
          74,
          54,
          76,
          82,
          67,
          77,
          74,
          76,
          89,
          84,
          77,
          83,
          68,
          82,
          72,
          82,
          75,
          71,
          58,
          73,
          69,
          67,
          72,
          73,
          76,
          71,
          72,
          77,
          63,
          70,
          67,
          82,
          75,
          82,
          67,
          84,
          77,
          66,
          88,
          72,
          79,
          73,
          80,
          79,
          82,
          73,
          71,
          71,
          79,
          78,
          68,
          91,
          94,
          66,
          68,
          81,
          79,
          81,
          54,
          76,
          77,
          84,
          83,
          74,
          87,
          88,
          68,
          77,
          90,
          60,
          70,
          62,
          62,
          70,
          63,
          88,
          84,
          78,
          64,
          73,
          65,
          74,
          74,
          77,
          83,
          63,
          70,
          81,
          80,
          92,
          80,
          80,
          61,
          89,
          73,
          73
         ]
        }
       ],
       "layout": {
        "geo": {
         "projection": {
          "type": "mercator"
         },
         "showcoastlines": false,
         "showframe": true
        },
        "template": {
         "data": {
          "bar": [
           {
            "error_x": {
             "color": "#2a3f5f"
            },
            "error_y": {
             "color": "#2a3f5f"
            },
            "marker": {
             "line": {
              "color": "#E5ECF6",
              "width": 0.5
             }
            },
            "type": "bar"
           }
          ],
          "barpolar": [
           {
            "marker": {
             "line": {
              "color": "#E5ECF6",
              "width": 0.5
             }
            },
            "type": "barpolar"
           }
          ],
          "carpet": [
           {
            "aaxis": {
             "endlinecolor": "#2a3f5f",
             "gridcolor": "white",
             "linecolor": "white",
             "minorgridcolor": "white",
             "startlinecolor": "#2a3f5f"
            },
            "baxis": {
             "endlinecolor": "#2a3f5f",
             "gridcolor": "white",
             "linecolor": "white",
             "minorgridcolor": "white",
             "startlinecolor": "#2a3f5f"
            },
            "type": "carpet"
           }
          ],
          "choropleth": [
           {
            "colorbar": {
             "outlinewidth": 0,
             "ticks": ""
            },
            "type": "choropleth"
           }
          ],
          "contour": [
           {
            "colorbar": {
             "outlinewidth": 0,
             "ticks": ""
            },
            "colorscale": [
             [
              0,
              "#0d0887"
             ],
             [
              0.1111111111111111,
              "#46039f"
             ],
             [
              0.2222222222222222,
              "#7201a8"
             ],
             [
              0.3333333333333333,
              "#9c179e"
             ],
             [
              0.4444444444444444,
              "#bd3786"
             ],
             [
              0.5555555555555556,
              "#d8576b"
             ],
             [
              0.6666666666666666,
              "#ed7953"
             ],
             [
              0.7777777777777778,
              "#fb9f3a"
             ],
             [
              0.8888888888888888,
              "#fdca26"
             ],
             [
              1,
              "#f0f921"
             ]
            ],
            "type": "contour"
           }
          ],
          "contourcarpet": [
           {
            "colorbar": {
             "outlinewidth": 0,
             "ticks": ""
            },
            "type": "contourcarpet"
           }
          ],
          "heatmap": [
           {
            "colorbar": {
             "outlinewidth": 0,
             "ticks": ""
            },
            "colorscale": [
             [
              0,
              "#0d0887"
             ],
             [
              0.1111111111111111,
              "#46039f"
             ],
             [
              0.2222222222222222,
              "#7201a8"
             ],
             [
              0.3333333333333333,
              "#9c179e"
             ],
             [
              0.4444444444444444,
              "#bd3786"
             ],
             [
              0.5555555555555556,
              "#d8576b"
             ],
             [
              0.6666666666666666,
              "#ed7953"
             ],
             [
              0.7777777777777778,
              "#fb9f3a"
             ],
             [
              0.8888888888888888,
              "#fdca26"
             ],
             [
              1,
              "#f0f921"
             ]
            ],
            "type": "heatmap"
           }
          ],
          "heatmapgl": [
           {
            "colorbar": {
             "outlinewidth": 0,
             "ticks": ""
            },
            "colorscale": [
             [
              0,
              "#0d0887"
             ],
             [
              0.1111111111111111,
              "#46039f"
             ],
             [
              0.2222222222222222,
              "#7201a8"
             ],
             [
              0.3333333333333333,
              "#9c179e"
             ],
             [
              0.4444444444444444,
              "#bd3786"
             ],
             [
              0.5555555555555556,
              "#d8576b"
             ],
             [
              0.6666666666666666,
              "#ed7953"
             ],
             [
              0.7777777777777778,
              "#fb9f3a"
             ],
             [
              0.8888888888888888,
              "#fdca26"
             ],
             [
              1,
              "#f0f921"
             ]
            ],
            "type": "heatmapgl"
           }
          ],
          "histogram": [
           {
            "marker": {
             "colorbar": {
              "outlinewidth": 0,
              "ticks": ""
             }
            },
            "type": "histogram"
           }
          ],
          "histogram2d": [
           {
            "colorbar": {
             "outlinewidth": 0,
             "ticks": ""
            },
            "colorscale": [
             [
              0,
              "#0d0887"
             ],
             [
              0.1111111111111111,
              "#46039f"
             ],
             [
              0.2222222222222222,
              "#7201a8"
             ],
             [
              0.3333333333333333,
              "#9c179e"
             ],
             [
              0.4444444444444444,
              "#bd3786"
             ],
             [
              0.5555555555555556,
              "#d8576b"
             ],
             [
              0.6666666666666666,
              "#ed7953"
             ],
             [
              0.7777777777777778,
              "#fb9f3a"
             ],
             [
              0.8888888888888888,
              "#fdca26"
             ],
             [
              1,
              "#f0f921"
             ]
            ],
            "type": "histogram2d"
           }
          ],
          "histogram2dcontour": [
           {
            "colorbar": {
             "outlinewidth": 0,
             "ticks": ""
            },
            "colorscale": [
             [
              0,
              "#0d0887"
             ],
             [
              0.1111111111111111,
              "#46039f"
             ],
             [
              0.2222222222222222,
              "#7201a8"
             ],
             [
              0.3333333333333333,
              "#9c179e"
             ],
             [
              0.4444444444444444,
              "#bd3786"
             ],
             [
              0.5555555555555556,
              "#d8576b"
             ],
             [
              0.6666666666666666,
              "#ed7953"
             ],
             [
              0.7777777777777778,
              "#fb9f3a"
             ],
             [
              0.8888888888888888,
              "#fdca26"
             ],
             [
              1,
              "#f0f921"
             ]
            ],
            "type": "histogram2dcontour"
           }
          ],
          "mesh3d": [
           {
            "colorbar": {
             "outlinewidth": 0,
             "ticks": ""
            },
            "type": "mesh3d"
           }
          ],
          "parcoords": [
           {
            "line": {
             "colorbar": {
              "outlinewidth": 0,
              "ticks": ""
             }
            },
            "type": "parcoords"
           }
          ],
          "pie": [
           {
            "automargin": true,
            "type": "pie"
           }
          ],
          "scatter": [
           {
            "marker": {
             "colorbar": {
              "outlinewidth": 0,
              "ticks": ""
             }
            },
            "type": "scatter"
           }
          ],
          "scatter3d": [
           {
            "line": {
             "colorbar": {
              "outlinewidth": 0,
              "ticks": ""
             }
            },
            "marker": {
             "colorbar": {
              "outlinewidth": 0,
              "ticks": ""
             }
            },
            "type": "scatter3d"
           }
          ],
          "scattercarpet": [
           {
            "marker": {
             "colorbar": {
              "outlinewidth": 0,
              "ticks": ""
             }
            },
            "type": "scattercarpet"
           }
          ],
          "scattergeo": [
           {
            "marker": {
             "colorbar": {
              "outlinewidth": 0,
              "ticks": ""
             }
            },
            "type": "scattergeo"
           }
          ],
          "scattergl": [
           {
            "marker": {
             "colorbar": {
              "outlinewidth": 0,
              "ticks": ""
             }
            },
            "type": "scattergl"
           }
          ],
          "scattermapbox": [
           {
            "marker": {
             "colorbar": {
              "outlinewidth": 0,
              "ticks": ""
             }
            },
            "type": "scattermapbox"
           }
          ],
          "scatterpolar": [
           {
            "marker": {
             "colorbar": {
              "outlinewidth": 0,
              "ticks": ""
             }
            },
            "type": "scatterpolar"
           }
          ],
          "scatterpolargl": [
           {
            "marker": {
             "colorbar": {
              "outlinewidth": 0,
              "ticks": ""
             }
            },
            "type": "scatterpolargl"
           }
          ],
          "scatterternary": [
           {
            "marker": {
             "colorbar": {
              "outlinewidth": 0,
              "ticks": ""
             }
            },
            "type": "scatterternary"
           }
          ],
          "surface": [
           {
            "colorbar": {
             "outlinewidth": 0,
             "ticks": ""
            },
            "colorscale": [
             [
              0,
              "#0d0887"
             ],
             [
              0.1111111111111111,
              "#46039f"
             ],
             [
              0.2222222222222222,
              "#7201a8"
             ],
             [
              0.3333333333333333,
              "#9c179e"
             ],
             [
              0.4444444444444444,
              "#bd3786"
             ],
             [
              0.5555555555555556,
              "#d8576b"
             ],
             [
              0.6666666666666666,
              "#ed7953"
             ],
             [
              0.7777777777777778,
              "#fb9f3a"
             ],
             [
              0.8888888888888888,
              "#fdca26"
             ],
             [
              1,
              "#f0f921"
             ]
            ],
            "type": "surface"
           }
          ],
          "table": [
           {
            "cells": {
             "fill": {
              "color": "#EBF0F8"
             },
             "line": {
              "color": "white"
             }
            },
            "header": {
             "fill": {
              "color": "#C8D4E3"
             },
             "line": {
              "color": "white"
             }
            },
            "type": "table"
           }
          ]
         },
         "layout": {
          "annotationdefaults": {
           "arrowcolor": "#2a3f5f",
           "arrowhead": 0,
           "arrowwidth": 1
          },
          "coloraxis": {
           "colorbar": {
            "outlinewidth": 0,
            "ticks": ""
           }
          },
          "colorscale": {
           "diverging": [
            [
             0,
             "#8e0152"
            ],
            [
             0.1,
             "#c51b7d"
            ],
            [
             0.2,
             "#de77ae"
            ],
            [
             0.3,
             "#f1b6da"
            ],
            [
             0.4,
             "#fde0ef"
            ],
            [
             0.5,
             "#f7f7f7"
            ],
            [
             0.6,
             "#e6f5d0"
            ],
            [
             0.7,
             "#b8e186"
            ],
            [
             0.8,
             "#7fbc41"
            ],
            [
             0.9,
             "#4d9221"
            ],
            [
             1,
             "#276419"
            ]
           ],
           "sequential": [
            [
             0,
             "#0d0887"
            ],
            [
             0.1111111111111111,
             "#46039f"
            ],
            [
             0.2222222222222222,
             "#7201a8"
            ],
            [
             0.3333333333333333,
             "#9c179e"
            ],
            [
             0.4444444444444444,
             "#bd3786"
            ],
            [
             0.5555555555555556,
             "#d8576b"
            ],
            [
             0.6666666666666666,
             "#ed7953"
            ],
            [
             0.7777777777777778,
             "#fb9f3a"
            ],
            [
             0.8888888888888888,
             "#fdca26"
            ],
            [
             1,
             "#f0f921"
            ]
           ],
           "sequentialminus": [
            [
             0,
             "#0d0887"
            ],
            [
             0.1111111111111111,
             "#46039f"
            ],
            [
             0.2222222222222222,
             "#7201a8"
            ],
            [
             0.3333333333333333,
             "#9c179e"
            ],
            [
             0.4444444444444444,
             "#bd3786"
            ],
            [
             0.5555555555555556,
             "#d8576b"
            ],
            [
             0.6666666666666666,
             "#ed7953"
            ],
            [
             0.7777777777777778,
             "#fb9f3a"
            ],
            [
             0.8888888888888888,
             "#fdca26"
            ],
            [
             1,
             "#f0f921"
            ]
           ]
          },
          "colorway": [
           "#636efa",
           "#EF553B",
           "#00cc96",
           "#ab63fa",
           "#FFA15A",
           "#19d3f3",
           "#FF6692",
           "#B6E880",
           "#FF97FF",
           "#FECB52"
          ],
          "font": {
           "color": "#2a3f5f"
          },
          "geo": {
           "bgcolor": "white",
           "lakecolor": "white",
           "landcolor": "#E5ECF6",
           "showlakes": true,
           "showland": true,
           "subunitcolor": "white"
          },
          "hoverlabel": {
           "align": "left"
          },
          "hovermode": "closest",
          "mapbox": {
           "style": "light"
          },
          "paper_bgcolor": "white",
          "plot_bgcolor": "#E5ECF6",
          "polar": {
           "angularaxis": {
            "gridcolor": "white",
            "linecolor": "white",
            "ticks": ""
           },
           "bgcolor": "#E5ECF6",
           "radialaxis": {
            "gridcolor": "white",
            "linecolor": "white",
            "ticks": ""
           }
          },
          "scene": {
           "xaxis": {
            "backgroundcolor": "#E5ECF6",
            "gridcolor": "white",
            "gridwidth": 2,
            "linecolor": "white",
            "showbackground": true,
            "ticks": "",
            "zerolinecolor": "white"
           },
           "yaxis": {
            "backgroundcolor": "#E5ECF6",
            "gridcolor": "white",
            "gridwidth": 2,
            "linecolor": "white",
            "showbackground": true,
            "ticks": "",
            "zerolinecolor": "white"
           },
           "zaxis": {
            "backgroundcolor": "#E5ECF6",
            "gridcolor": "white",
            "gridwidth": 2,
            "linecolor": "white",
            "showbackground": true,
            "ticks": "",
            "zerolinecolor": "white"
           }
          },
          "shapedefaults": {
           "line": {
            "color": "#2a3f5f"
           }
          },
          "ternary": {
           "aaxis": {
            "gridcolor": "white",
            "linecolor": "white",
            "ticks": ""
           },
           "baxis": {
            "gridcolor": "white",
            "linecolor": "white",
            "ticks": ""
           },
           "bgcolor": "#E5ECF6",
           "caxis": {
            "gridcolor": "white",
            "linecolor": "white",
            "ticks": ""
           }
          },
          "title": {
           "x": 0.05
          },
          "xaxis": {
           "automargin": true,
           "gridcolor": "white",
           "linecolor": "white",
           "ticks": "",
           "title": {
            "standoff": 15
           },
           "zerolinecolor": "white",
           "zerolinewidth": 2
          },
          "yaxis": {
           "automargin": true,
           "gridcolor": "white",
           "linecolor": "white",
           "ticks": "",
           "title": {
            "standoff": 15
           },
           "zerolinecolor": "white",
           "zerolinewidth": 2
          }
         }
        },
        "title": {
         "text": "Maximum rating per nationality"
        }
       }
      },
      "text/html": [
       "<div>\n",
       "        \n",
       "        \n",
       "            <div id=\"d8abae4c-be5b-41ec-81f6-7bf713698d96\" class=\"plotly-graph-div\" style=\"height:525px; width:100%;\"></div>\n",
       "            <script type=\"text/javascript\">\n",
       "                require([\"plotly\"], function(Plotly) {\n",
       "                    window.PLOTLYENV=window.PLOTLYENV || {};\n",
       "                    \n",
       "                if (document.getElementById(\"d8abae4c-be5b-41ec-81f6-7bf713698d96\")) {\n",
       "                    Plotly.newPlot(\n",
       "                        'd8abae4c-be5b-41ec-81f6-7bf713698d96',\n",
       "                        [{\"colorbar\": {\"title\": {\"text\": \"Scale\"}}, \"colorscale\": [[0.0, \"rgb(242,240,247)\"], [0.2, \"rgb(218,218,235)\"], [0.4, \"rgb(188,189,220)\"], [0.6, \"rgb(158,154,200)\"], [0.8, \"rgb(117,107,177)\"], [1.0, \"rgb(84,39,143)\"]], \"locationmode\": \"country names\", \"locations\": [\"Afghanistan\", \"Albania\", \"Algeria\", \"Angola\", \"Antigua & Barbuda\", \"Argentina\", \"Armenia\", \"Australia\", \"Austria\", \"Azerbaijan\", \"Barbados\", \"Belarus\", \"Belgium\", \"Belize\", \"Benin\", \"Bermuda\", \"Bolivia\", \"Bosnia Herzegovina\", \"Brazil\", \"Brunei Darussalam\", \"Bulgaria\", \"Burkina Faso\", \"Burundi\", \"Cameroon\", \"Canada\", \"Cape Verde\", \"Central African Rep.\", \"Chad\", \"Chile\", \"China PR\", \"Colombia\", \"Comoros\", \"Congo\", \"Costa Rica\", \"Croatia\", \"Cuba\", \"Curacao\", \"Cyprus\", \"Czech Republic\", \"DR Congo\", \"Denmark\", \"Dominican Republic\", \"Ecuador\", \"Egypt\", \"El Salvador\", \"United Kingdom\", \"Equatorial Guinea\", \"Eritrea\", \"Estonia\", \"Ethiopia\", \"FYR Macedonia\", \"Faroe Islands\", \"Fiji\", \"Finland\", \"France\", \"Gabon\", \"Gambia\", \"Georgia\", \"Germany\", \"Ghana\", \"Gibraltar\", \"Greece\", \"Grenada\", \"Guam\", \"Guatemala\", \"Guinea\", \"Guinea Bissau\", \"Guyana\", \"Haiti\", \"Honduras\", \"Hong Kong\", \"Hungary\", \"Iceland\", \"India\", \"Iran\", \"Iraq\", \"Israel\", \"Italy\", \"Ivory Coast\", \"Jamaica\", \"Japan\", \"Kazakhstan\", \"Kenya\", \"Korea DPR\", \"Korea Republic\", \"Kosovo\", \"Kuwait\", \"Kyrgyzstan\", \"Latvia\", \"Lebanon\", \"Liberia\", \"Libya\", \"Liechtenstein\", \"Lithuania\", \"Luxembourg\", \"Madagascar\", \"Mali\", \"Malta\", \"Mauritania\", \"Mauritius\", \"Mexico\", \"Moldova\", \"Montenegro\", \"Montserrat\", \"Morocco\", \"Mozambique\", \"Namibia\", \"Netherlands\", \"New Caledonia\", \"New Zealand\", \"Niger\", \"Nigeria\", \"Northern Ireland\", \"Norway\", \"Oman\", \"Palestine\", \"Panama\", \"Paraguay\", \"Peru\", \"Philippines\", \"Poland\", \"Portugal\", \"Puerto Rico\", \"Qatar\", \"Republic of Ireland\", \"Romania\", \"Russia\", \"San Marino\", \"Saudi Arabia\", \"Scotland\", \"Senegal\", \"Serbia\", \"Sierra Leone\", \"Slovakia\", \"Slovenia\", \"Somalia\", \"South Africa\", \"Spain\", \"Sri Lanka\", \"St Kitts Nevis\", \"St Lucia\", \"Sudan\", \"Suriname\", \"Swaziland\", \"Sweden\", \"Switzerland\", \"Syria\", \"S\\u00e3o Tom\\u00e9 & Pr\\u00edncipe\", \"Tanzania\", \"Thailand\", \"Togo\", \"Trinidad & Tobago\", \"Tunisia\", \"Turkey\", \"Turkmenistan\", \"Uganda\", \"Ukraine\", \"United States\", \"Uruguay\", \"Uzbekistan\", \"Venezuela\", \"Vietnam\", \"Wales\", \"Zambia\", \"Zimbabwe\"], \"reversescale\": false, \"text\": [\"M. Kouhyar (60)<br>S. Mukhammad (59)<br>N. Husin (50)\", \"E. Hysaj (79)<br>E. Berisha (78)<br>M. Mavraj (76)\", \"R. Mahrez (83)<br>I. Slimani (82)<br>Y. Brahimi (82)\", \"Bastos (77)<br>Djalma (74)<br>Mateus (73)\", \"M. Romeo (65)<br>C. Jahraldo-Martin (60)<br>J. Parker (59)\", \"L. Messi (93)<br>G. Higua\\u00edn (90)<br>S. Ag\\u00fcero (89)\", \"H. Mkhitaryan (85)<br>A. \\u00d6zbiliz (73)<br>Marcos Pizzelli (71)\", \"M. Ryan (77)<br>B. Jones (77)<br>A. Mooy (77)\", \"D. Alaba (86)<br>M. Arnautovi\\u0107 (82)<br>S. Pr\\u00f6dl (79)\", \"D. Y\\u0131lmaz (70)<br>D. Nazarov (68)<br>Eddy (66)\", \"J. Forte (65)\", \"Renan Bressan (76)<br>T. Kalachev (75)<br>A. Martynovich (74)\", \"E. Hazard (90)<br>K. De Bruyne (89)<br>T. Courtois (89)\", \"M. Salazar (64)\", \"S. Mouni\\u00e9 (76)<br>S. Sess\\u00e8gnon (75)<br>J. Ad\\u00e9oti (74)\", \"N. Wells (72)<br>R. Lambe (63)<br>Z. Lewis (60)\", \"M. Martins (75)<br>J. Campos (71)<br>P. Escobar (70)\", \"M. Pjani\\u0107 (85)<br>E. D\\u017eeko (84)<br>A. Begovi\\u0107 (82)\", \"Neymar (92)<br>Thiago Silva (88)<br>Marcelo (87)\", \"F. Bolkiah (55)\", \"I. Popov (77)<br>V. Stoyanov (74)<br>G. Milanov (73)\", \"B. Traor\\u00e9 (79)<br>C. Kabor\\u00e9 (77)<br>B. Kon\\u00e9 (75)\", \"C. Amissi (64)\", \"J. Matip (83)<br>S. Eto'o (81)<br>C. Kameni (80)\", \"A. Hutchinson (80)<br>S. Arfield (73)<br>C. Larin (73)\", \"Z\\u00e9 Lu\\u00eds (79)<br>Garry Rodrigues (75)<br>Varela (75)\", \"C. Yamb\\u00e9r\\u00e9 (70)<br>A. Youga (69)<br>E. Enza-Yamissi (68)\", \"C. Ninga (74)<br>S. Altama (62)\", \"A. S\\u00e1nchez (89)<br>A. Vidal (87)<br>G. Medel (82)\", \"Zheng Zhi (76)<br>Zeng Cheng (74)<br>Gao Lin (74)\", \"J. Rodr\\u00edguez (86)<br>Falcao (84)<br>C. Bacca (82)\", \"E. Ben Nabouhane (71)<br>R. Abdullah (70)<br>K. Abdallah (70)\", \"D. N'Dinga (74)<br>T. Bifouma (74)<br>C. Samba (74)\", \"K. Navas (85)<br>O. Duarte (77)<br>B. Ru\\u00edz (77)\", \"L. Modri\\u0107 (89)<br>I. Rakiti\\u0107 (87)<br>D. Suba\\u0161i\\u0107 (85)\", \"O. Alonso (77)<br>O. Hern\\u00e1ndez (69)\", \"E. Room (74)<br>L. Bacuna (72)<br>C. Martina (71)\", \"K. Laifis (73)<br>P. Sotiriou (68)<br>V. Sielis (67)\", \"P. \\u010cech (86)<br>V. Darida (79)<br>T. Rosick\\u00fd (79)\", \"C. Bakambu (81)<br>Y. Bolasie (78)<br>G. Kakuta (76)\", \"C. Eriksen (87)<br>K. Schmeichel (83)<br>A. Christensen (81)\", \"Mariano (76)<br>Tano Bonnin (73)<br>J. Firpo (60)\", \"A. Valencia (83)<br>C. Noboa (79)<br>J. Montero (78)\", \"M. Salah (83)<br>M. Elneny (77)<br>A. Hassan (75)\", \"D. Cer\\u00e9n (70)<br>A. Alvarez (68)\", \"H. Kane (86)<br>D. Alli (84)<br>G. Cahill (84)\", \"Nsue (71)<br>A. Ngamukol (70)<br>Iban Salvador (69)\", \"H. Goitom (71)\", \"K. Vassiljev (72)<br>K. Mets (67)<br>N. Baranov (67)\", \"A. Askar (67)<br>G. Panom (64)\", \"G. Pandev (74)<br>I. Nestorovski (74)<br>S. Ristovski (74)\", \"H. Hansson (66)<br>G. R\\u00f3lantsson S\\u00f8rensen (64)<br>J. Edmundsson (63)\", \"R. Krishna (69)\", \"L. Hr\\u00e1deck\\u00fd (81)<br>P. Hetemaj (77)<br>N. Moisander (76)\", \"A. Griezmann (88)<br>H. Lloris (88)<br>N. Kant\\u00e9 (87)\", \"P. Aubameyang (88)<br>M. Lemina (77)<br>D. Ndong (74)\", \"O. Colley (74)<br>M. Barrow (72)<br>B. Sanneh (68)\", \"G. Kashia (76)<br>V. Qazaishvili (75)<br>J. Ananidze (75)\", \"M. Neuer (92)<br>T. Kroos (90)<br>J. Boateng (88)\", \"K. Boateng (80)<br>A. Ayew (79)<br>A. Gyan (79)\", \"L. Walker (64)<br>S. Wiseman (64)\", \"Sokratis (86)<br>K. Manolas (84)<br>O. Karnezis (82)\", \"A. Pierre (64)\", \"A. DeLaGarza (69)\", \"R. J\\u00e9rez (72)\", \"N. Ke\\u00efta (83)<br>I. Traor\\u00e9 (80)<br>F. Pogba (77)\", \"Gerso (74)<br>F. Mendy (72)<br>Pel\\u00e9 (72)\", \"W. Creavalle (65)<br>N. Danns (63)<br>M. Briggs (61)\", \"J. Louis (72)<br>R. Genevois (72)<br>R. Goreux (70)\", \"A. Najar (74)<br>A. Lozano (73)<br>A. Elis (72)\", \"Dai Wai-Tsun (54)\", \"P. Gul\\u00e1csi (76)<br>N. Nikoli\\u0107 (76)<br>A. Szalai (75)\", \"G. Sigur\\u00f0sson (82)<br>A. Finnbogason (76)<br>E. Hallfre\\u00f0sson (75)\", \"S. Chhetri (67)<br>L. Ralte (64)<br>S. Paul (64)\", \"S. Azmoun (77)<br>A. Jahanbakhsh (75)<br>M. Mohammadi (73)\", \"J. Meram (74)<br>A. Adnan (73)<br>B. Nouri (69)\", \"M. Dabbur (76)<br>B. Natcho (76)<br>L. Refaelov (75)\", \"G. Chiellini (89)<br>G. Buffon (89)<br>L. Bonucci (88)\", \"E. Bailly (84)<br>Y. Tour\\u00e9 (83)<br>J. Seri (82)\", \"W. Morgan (77)<br>L. Bailey (76)<br>A. Blake (75)\", \"S. Kagawa (83)<br>T. Inui (78)<br>K. Honda (78)\", \"A. Merkel (68)<br>K. Engel (66)<br>W. Evseev (64)\", \"V. Wanyama (82)<br>M. Mariga (72)<br>M. Olunga (69)\", \"Chong Te Se (72)<br>Han Kwang Song (67)<br>Pak Kwang Ryong (64)\", \"H. Son (82)<br>Koo Ja Cheol (76)<br>Yoon Bo Sang (74)\", \"M. Rashica (75)<br>B. Berisha (74)<br>V. Berisha (74)\", \"F. Al Berahim (71)<br>F. Al Hajeri (61)\", \"V. Lux (58)\", \"A. Rud\\u0146evs (73)<br>A. Va\\u0146ins (71)<br>I. Tarasovs (68)\", \"B. Jradi (69)<br>S. Saad (66)<br>H. El Helwe (62)\", \"W. Jebor (67)<br>S. Nimely (61)\", \"A. Benali (72)<br>H. Elhouni (63)\", \"M. B\\u00fcchel (73)<br>N. Hasler (66)<br>Y. Frick (56)\", \"Z. Kar\\u010demarskas (76)<br>L. Spalvis (72)<br>F. \\u010cernych (68)\", \"M. Chanot (71)<br>L. Jans (71)<br>A. Moris (67)\", \"I. Andriatsima (72)<br>L. Nomenjanahary (68)<br>C. Andriamahitsinoro (65)\", \"M. Marega (77)<br>M. Wagu\\u00e9 (74)<br>A. Niane (74)\", \"M. Beerman (63)<br>M. Muscat (62)<br>L. Gambin (61)\", \"D. Guidileye (70)<br>A. Ba (63)\", \"K. Bru (67)\", \"J. Hern\\u00e1ndez (82)<br>C. Vela (82)<br>J. Corona (81)\", \"A. Ioni\\u0163\\u0103 (75)<br>A. Epureanu (74)<br>I. Arma\\u015f (74)\", \"S. Savi\\u0107 (82)<br>S. Joveti\\u0107 (81)<br>D. Damjanovi\\u0107 (75)\", \"D. Daniels (67)<br>L. Taylor (66)<br>A. Dyer (65)\", \"M. Benatia (84)<br>H. Ziyech (81)<br>Y. Belhanda (81)\", \"Mexer (77)<br>Zainadine (74)<br>Gildo (66)\", \"M. Starke (66)<br>R. Nyambe (63)\", \"A. Robben (88)<br>K. Strootman (84)<br>V. van Dijk (83)\", \"W. Lautoa (72)<br>G. Gope-Fenepej (65)\", \"W. Reid (79)<br>C. Wood (75)<br>M. Rojas (74)\", \"M. Ma\\u00e2zou (73)<br>S. Koita (69)<br>O. Bonnes (64)\", \"V. Enyeama (80)<br>V. Moses (79)<br>O. Ndidi (77)\", \"J. Evans (79)<br>G. McAuley (77)<br>S. Davis (77)\", \"R. Jarstein (82)<br>M. Elyounoussi (78)<br>P. Skjelbred (78)\", \"A. Al-Habsi (73)\", \"C. Salom (71)<br>H. Aiesh (64)<br>M. Eid (59)\", \"A. Machado (71)<br>A. Godoy (71)<br>G. G\\u00f3mez (70)\", \"M. Almir\\u00f3n (79)<br>H. P\\u00e9rez (79)<br>A. Sanabria (78)\", \"J. Farf\\u00e1n (78)<br>A. Carrillo (77)<br>P. Hurtado (76)\", \"N. Etheridge (68)<br>S. Palla (63)<br>D. Sato (54)\", \"R. Lewandowski (91)<br>K. Glik (85)<br>L. Piszczek (83)\", \"Cristiano Ronaldo (94)<br>Pepe (86)<br>Bernardo Silva (84)\", \"J. Hernandez (66)<br>J. Saunders (66)\", \"A. Afif (68)<br>A. Fadlalla (66)<br>Y. Ahmed (65)\", \"S. Coleman (81)<br>J. McCarthy (80)<br>W. Hoolahan (77)\", \"F. Andone (79)<br>S. Radu (79)<br>C. T\\u0103t\\u0103ru\\u015fanu (78)\", \"M\\u00e1rio Fernandes (81)<br>O. Shatov (80)<br>A. Dzagoev (80)\", \"E. Benedettini (54)\", \"N. Al Abed (76)<br>O. Hawsawi (75)<br>O. Othman (74)\", \"M. Phillips (77)<br>T. Cairney (77)<br>D. Fletcher (76)\", \"S. Man\\u00e9 (84)<br>K. Koulibaly (84)<br>I. Gueye (83)\", \"N. Mati\\u0107 (83)<br>L. Fejsa (82)<br>B. Ivanovi\\u0107 (82)\", \"K. Kamara (74)<br>A. Kamara (69)<br>M. Turay (67)\", \"M. Ham\\u0161\\u00edk (87)<br>M. \\u0160krtel (81)<br>J. Kucka (79)\", \"J. Oblak (88)<br>S. Handanovi\\u010d (87)<br>K. Kampl (81)\", \"L. Abdi (68)\", \"I. Khune (77)<br>S. Tshabalala (76)<br>P. Tau (76)\", \"De Gea (90)<br>Sergio Ramos (90)<br>Thiago (88)\", \"A. Razeek (60)\", \"R. Sawyers (70)<br>A. Harris (66)<br>O. Sterling-James (57)\", \"J. Donacien (62)\", \"M. Al Dhaw (62)<br>M. Eisa (58)\", \"K. Leerdam (70)<br>G. Zuiverloon (70)<br>R. Alberg (68)\", \"I. Rako (63)\", \"Z. Ibrahimovi\\u0107 (88)<br>E. Forsberg (83)<br>M. Berg (80)\", \"R. B\\u00fcrki (84)<br>Y. Sommer (83)<br>G. Xhaka (82)\", \"O. Al Soma (78)<br>O. Al Soma (78)<br>O. Kharbin (75)\", \"Lu\\u00eds Leal (64)\", \"M. Samatta (73)<br>F. Mussa (62)\", \"C. Songkrasin (65)<br>W. Jakkit (53)\", \"M. Dossevi (74)<br>S. Gakp\\u00e9 (74)<br>F. Ayit\\u00e9 (74)\", \"K. Molino (74)<br>J. Bostock (71)<br>J. Jones (71)\", \"A. Abdennour (77)<br>Y. Benalouane (75)<br>E. Skhiri (74)\", \"O. Toprak (83)<br>A. Turan (82)<br>O. \\u00d6zyakup (80)\", \"M. Kazankov (63)\", \"M. Azira (70)<br>A. Kakuba (64)<br>M. Lorenzen (64)\", \"A. Yarmolenko (81)<br>T. Stepanenko (80)<br>Y. Rakitskyi (80)\", \"J. Brooks (80)<br>F. Johnson (79)<br>C. Pulisic (78)\", \"L. Su\\u00e1rez (92)<br>D. God\\u00edn (88)<br>E. Cavani (87)\", \"V. Denisov (80)<br>V. Afonin (71)<br>V. Galiulin (67)\", \"S. Rond\\u00f3n (80)<br>J. Mart\\u00ednez (78)<br>T. Rinc\\u00f3n (77)\", \"Luong Xuan Truong (61)\", \"G. Bale (89)<br>A. Ramsey (82)<br>A. Williams (82)\", \"C. Lungu (73)<br>S. Sunzu (71)<br>E. Kangwa (69)\", \"T. Ndoro (73)<br>M. Nakamba (73)<br>W. Katsande (73)\"], \"type\": \"choropleth\", \"z\": [60, 79, 83, 77, 65, 93, 85, 77, 86, 70, 65, 76, 90, 64, 76, 72, 75, 85, 92, 55, 77, 79, 64, 83, 80, 79, 70, 74, 89, 76, 86, 71, 74, 85, 89, 77, 74, 73, 86, 81, 87, 76, 83, 83, 70, 86, 71, 71, 72, 67, 74, 66, 69, 81, 88, 88, 74, 76, 92, 80, 64, 86, 64, 69, 72, 83, 74, 65, 72, 74, 54, 76, 82, 67, 77, 74, 76, 89, 84, 77, 83, 68, 82, 72, 82, 75, 71, 58, 73, 69, 67, 72, 73, 76, 71, 72, 77, 63, 70, 67, 82, 75, 82, 67, 84, 77, 66, 88, 72, 79, 73, 80, 79, 82, 73, 71, 71, 79, 78, 68, 91, 94, 66, 68, 81, 79, 81, 54, 76, 77, 84, 83, 74, 87, 88, 68, 77, 90, 60, 70, 62, 62, 70, 63, 88, 84, 78, 64, 73, 65, 74, 74, 77, 83, 63, 70, 81, 80, 92, 80, 80, 61, 89, 73, 73]}],\n",
       "                        {\"geo\": {\"projection\": {\"type\": \"mercator\"}, \"showcoastlines\": false, \"showframe\": true}, \"template\": {\"data\": {\"bar\": [{\"error_x\": {\"color\": \"#2a3f5f\"}, \"error_y\": {\"color\": \"#2a3f5f\"}, \"marker\": {\"line\": {\"color\": \"#E5ECF6\", \"width\": 0.5}}, \"type\": \"bar\"}], \"barpolar\": [{\"marker\": {\"line\": {\"color\": \"#E5ECF6\", \"width\": 0.5}}, \"type\": \"barpolar\"}], \"carpet\": [{\"aaxis\": {\"endlinecolor\": \"#2a3f5f\", \"gridcolor\": \"white\", \"linecolor\": \"white\", \"minorgridcolor\": \"white\", \"startlinecolor\": \"#2a3f5f\"}, \"baxis\": {\"endlinecolor\": \"#2a3f5f\", \"gridcolor\": \"white\", \"linecolor\": \"white\", \"minorgridcolor\": \"white\", \"startlinecolor\": \"#2a3f5f\"}, \"type\": \"carpet\"}], \"choropleth\": [{\"colorbar\": {\"outlinewidth\": 0, \"ticks\": \"\"}, \"type\": \"choropleth\"}], \"contour\": [{\"colorbar\": {\"outlinewidth\": 0, \"ticks\": \"\"}, \"colorscale\": [[0.0, \"#0d0887\"], [0.1111111111111111, \"#46039f\"], [0.2222222222222222, \"#7201a8\"], [0.3333333333333333, \"#9c179e\"], [0.4444444444444444, \"#bd3786\"], [0.5555555555555556, \"#d8576b\"], [0.6666666666666666, \"#ed7953\"], [0.7777777777777778, \"#fb9f3a\"], [0.8888888888888888, \"#fdca26\"], [1.0, \"#f0f921\"]], \"type\": \"contour\"}], \"contourcarpet\": [{\"colorbar\": {\"outlinewidth\": 0, \"ticks\": \"\"}, \"type\": \"contourcarpet\"}], \"heatmap\": [{\"colorbar\": {\"outlinewidth\": 0, \"ticks\": \"\"}, \"colorscale\": [[0.0, \"#0d0887\"], [0.1111111111111111, \"#46039f\"], [0.2222222222222222, \"#7201a8\"], [0.3333333333333333, \"#9c179e\"], [0.4444444444444444, \"#bd3786\"], [0.5555555555555556, \"#d8576b\"], [0.6666666666666666, \"#ed7953\"], [0.7777777777777778, \"#fb9f3a\"], [0.8888888888888888, \"#fdca26\"], [1.0, \"#f0f921\"]], \"type\": \"heatmap\"}], \"heatmapgl\": [{\"colorbar\": {\"outlinewidth\": 0, \"ticks\": \"\"}, \"colorscale\": [[0.0, \"#0d0887\"], [0.1111111111111111, \"#46039f\"], [0.2222222222222222, \"#7201a8\"], [0.3333333333333333, \"#9c179e\"], [0.4444444444444444, \"#bd3786\"], [0.5555555555555556, \"#d8576b\"], [0.6666666666666666, \"#ed7953\"], [0.7777777777777778, \"#fb9f3a\"], [0.8888888888888888, \"#fdca26\"], [1.0, \"#f0f921\"]], \"type\": \"heatmapgl\"}], \"histogram\": [{\"marker\": {\"colorbar\": {\"outlinewidth\": 0, \"ticks\": \"\"}}, \"type\": \"histogram\"}], \"histogram2d\": [{\"colorbar\": {\"outlinewidth\": 0, \"ticks\": \"\"}, \"colorscale\": [[0.0, \"#0d0887\"], [0.1111111111111111, \"#46039f\"], [0.2222222222222222, \"#7201a8\"], [0.3333333333333333, \"#9c179e\"], [0.4444444444444444, \"#bd3786\"], [0.5555555555555556, \"#d8576b\"], [0.6666666666666666, \"#ed7953\"], [0.7777777777777778, \"#fb9f3a\"], [0.8888888888888888, \"#fdca26\"], [1.0, \"#f0f921\"]], \"type\": \"histogram2d\"}], \"histogram2dcontour\": [{\"colorbar\": {\"outlinewidth\": 0, \"ticks\": \"\"}, \"colorscale\": [[0.0, \"#0d0887\"], [0.1111111111111111, \"#46039f\"], [0.2222222222222222, \"#7201a8\"], [0.3333333333333333, \"#9c179e\"], [0.4444444444444444, \"#bd3786\"], [0.5555555555555556, \"#d8576b\"], [0.6666666666666666, \"#ed7953\"], [0.7777777777777778, \"#fb9f3a\"], [0.8888888888888888, \"#fdca26\"], [1.0, \"#f0f921\"]], \"type\": \"histogram2dcontour\"}], \"mesh3d\": [{\"colorbar\": {\"outlinewidth\": 0, \"ticks\": \"\"}, \"type\": \"mesh3d\"}], \"parcoords\": [{\"line\": {\"colorbar\": {\"outlinewidth\": 0, \"ticks\": \"\"}}, \"type\": \"parcoords\"}], \"pie\": [{\"automargin\": true, \"type\": \"pie\"}], \"scatter\": [{\"marker\": {\"colorbar\": {\"outlinewidth\": 0, \"ticks\": \"\"}}, \"type\": \"scatter\"}], \"scatter3d\": [{\"line\": {\"colorbar\": {\"outlinewidth\": 0, \"ticks\": \"\"}}, \"marker\": {\"colorbar\": {\"outlinewidth\": 0, \"ticks\": \"\"}}, \"type\": \"scatter3d\"}], \"scattercarpet\": [{\"marker\": {\"colorbar\": {\"outlinewidth\": 0, \"ticks\": \"\"}}, \"type\": \"scattercarpet\"}], \"scattergeo\": [{\"marker\": {\"colorbar\": {\"outlinewidth\": 0, \"ticks\": \"\"}}, \"type\": \"scattergeo\"}], \"scattergl\": [{\"marker\": {\"colorbar\": {\"outlinewidth\": 0, \"ticks\": \"\"}}, \"type\": \"scattergl\"}], \"scattermapbox\": [{\"marker\": {\"colorbar\": {\"outlinewidth\": 0, \"ticks\": \"\"}}, \"type\": \"scattermapbox\"}], \"scatterpolar\": [{\"marker\": {\"colorbar\": {\"outlinewidth\": 0, \"ticks\": \"\"}}, \"type\": \"scatterpolar\"}], \"scatterpolargl\": [{\"marker\": {\"colorbar\": {\"outlinewidth\": 0, \"ticks\": \"\"}}, \"type\": \"scatterpolargl\"}], \"scatterternary\": [{\"marker\": {\"colorbar\": {\"outlinewidth\": 0, \"ticks\": \"\"}}, \"type\": \"scatterternary\"}], \"surface\": [{\"colorbar\": {\"outlinewidth\": 0, \"ticks\": \"\"}, \"colorscale\": [[0.0, \"#0d0887\"], [0.1111111111111111, \"#46039f\"], [0.2222222222222222, \"#7201a8\"], [0.3333333333333333, \"#9c179e\"], [0.4444444444444444, \"#bd3786\"], [0.5555555555555556, \"#d8576b\"], [0.6666666666666666, \"#ed7953\"], [0.7777777777777778, \"#fb9f3a\"], [0.8888888888888888, \"#fdca26\"], [1.0, \"#f0f921\"]], \"type\": \"surface\"}], \"table\": [{\"cells\": {\"fill\": {\"color\": \"#EBF0F8\"}, \"line\": {\"color\": \"white\"}}, \"header\": {\"fill\": {\"color\": \"#C8D4E3\"}, \"line\": {\"color\": \"white\"}}, \"type\": \"table\"}]}, \"layout\": {\"annotationdefaults\": {\"arrowcolor\": \"#2a3f5f\", \"arrowhead\": 0, \"arrowwidth\": 1}, \"coloraxis\": {\"colorbar\": {\"outlinewidth\": 0, \"ticks\": \"\"}}, \"colorscale\": {\"diverging\": [[0, \"#8e0152\"], [0.1, \"#c51b7d\"], [0.2, \"#de77ae\"], [0.3, \"#f1b6da\"], [0.4, \"#fde0ef\"], [0.5, \"#f7f7f7\"], [0.6, \"#e6f5d0\"], [0.7, \"#b8e186\"], [0.8, \"#7fbc41\"], [0.9, \"#4d9221\"], [1, \"#276419\"]], \"sequential\": [[0.0, \"#0d0887\"], [0.1111111111111111, \"#46039f\"], [0.2222222222222222, \"#7201a8\"], [0.3333333333333333, \"#9c179e\"], [0.4444444444444444, \"#bd3786\"], [0.5555555555555556, \"#d8576b\"], [0.6666666666666666, \"#ed7953\"], [0.7777777777777778, \"#fb9f3a\"], [0.8888888888888888, \"#fdca26\"], [1.0, \"#f0f921\"]], \"sequentialminus\": [[0.0, \"#0d0887\"], [0.1111111111111111, \"#46039f\"], [0.2222222222222222, \"#7201a8\"], [0.3333333333333333, \"#9c179e\"], [0.4444444444444444, \"#bd3786\"], [0.5555555555555556, \"#d8576b\"], [0.6666666666666666, \"#ed7953\"], [0.7777777777777778, \"#fb9f3a\"], [0.8888888888888888, \"#fdca26\"], [1.0, \"#f0f921\"]]}, \"colorway\": [\"#636efa\", \"#EF553B\", \"#00cc96\", \"#ab63fa\", \"#FFA15A\", \"#19d3f3\", \"#FF6692\", \"#B6E880\", \"#FF97FF\", \"#FECB52\"], \"font\": {\"color\": \"#2a3f5f\"}, \"geo\": {\"bgcolor\": \"white\", \"lakecolor\": \"white\", \"landcolor\": \"#E5ECF6\", \"showlakes\": true, \"showland\": true, \"subunitcolor\": \"white\"}, \"hoverlabel\": {\"align\": \"left\"}, \"hovermode\": \"closest\", \"mapbox\": {\"style\": \"light\"}, \"paper_bgcolor\": \"white\", \"plot_bgcolor\": \"#E5ECF6\", \"polar\": {\"angularaxis\": {\"gridcolor\": \"white\", \"linecolor\": \"white\", \"ticks\": \"\"}, \"bgcolor\": \"#E5ECF6\", \"radialaxis\": {\"gridcolor\": \"white\", \"linecolor\": \"white\", \"ticks\": \"\"}}, \"scene\": {\"xaxis\": {\"backgroundcolor\": \"#E5ECF6\", \"gridcolor\": \"white\", \"gridwidth\": 2, \"linecolor\": \"white\", \"showbackground\": true, \"ticks\": \"\", \"zerolinecolor\": \"white\"}, \"yaxis\": {\"backgroundcolor\": \"#E5ECF6\", \"gridcolor\": \"white\", \"gridwidth\": 2, \"linecolor\": \"white\", \"showbackground\": true, \"ticks\": \"\", \"zerolinecolor\": \"white\"}, \"zaxis\": {\"backgroundcolor\": \"#E5ECF6\", \"gridcolor\": \"white\", \"gridwidth\": 2, \"linecolor\": \"white\", \"showbackground\": true, \"ticks\": \"\", \"zerolinecolor\": \"white\"}}, \"shapedefaults\": {\"line\": {\"color\": \"#2a3f5f\"}}, \"ternary\": {\"aaxis\": {\"gridcolor\": \"white\", \"linecolor\": \"white\", \"ticks\": \"\"}, \"baxis\": {\"gridcolor\": \"white\", \"linecolor\": \"white\", \"ticks\": \"\"}, \"bgcolor\": \"#E5ECF6\", \"caxis\": {\"gridcolor\": \"white\", \"linecolor\": \"white\", \"ticks\": \"\"}}, \"title\": {\"x\": 0.05}, \"xaxis\": {\"automargin\": true, \"gridcolor\": \"white\", \"linecolor\": \"white\", \"ticks\": \"\", \"title\": {\"standoff\": 15}, \"zerolinecolor\": \"white\", \"zerolinewidth\": 2}, \"yaxis\": {\"automargin\": true, \"gridcolor\": \"white\", \"linecolor\": \"white\", \"ticks\": \"\", \"title\": {\"standoff\": 15}, \"zerolinecolor\": \"white\", \"zerolinewidth\": 2}}}, \"title\": {\"text\": \"Maximum rating per nationality\"}},\n",
       "                        {\"responsive\": true}\n",
       "                    ).then(function(){\n",
       "                            \n",
       "var gd = document.getElementById('d8abae4c-be5b-41ec-81f6-7bf713698d96');\n",
       "var x = new MutationObserver(function (mutations, observer) {{\n",
       "        var display = window.getComputedStyle(gd).display;\n",
       "        if (!display || display === 'none') {{\n",
       "            console.log([gd, 'removed!']);\n",
       "            Plotly.purge(gd);\n",
       "            observer.disconnect();\n",
       "        }}\n",
       "}});\n",
       "\n",
       "// Listen for the removal of the full notebook cells\n",
       "var notebookContainer = gd.closest('#notebook-container');\n",
       "if (notebookContainer) {{\n",
       "    x.observe(notebookContainer, {childList: true});\n",
       "}}\n",
       "\n",
       "// Listen for the clearing of the current output cell\n",
       "var outputEl = gd.closest('.output');\n",
       "if (outputEl) {{\n",
       "    x.observe(outputEl, {childList: true});\n",
       "}}\n",
       "\n",
       "                        })\n",
       "                };\n",
       "                });\n",
       "            </script>\n",
       "        </div>"
      ]
     },
     "metadata": {},
     "output_type": "display_data"
    },
    {
     "data": {
      "application/vnd.plotly.v1+json": {
       "config": {
        "linkText": "Export to plot.ly",
        "plotlyServerURL": "https://plot.ly",
        "showLink": false
       },
       "data": [
        {
         "colorbar": {
          "title": {
           "text": "Scale"
          }
         },
         "colorscale": [
          [
           0,
           "rgb(242,240,247)"
          ],
          [
           0.2,
           "rgb(218,218,235)"
          ],
          [
           0.4,
           "rgb(188,189,220)"
          ],
          [
           0.6,
           "rgb(158,154,200)"
          ],
          [
           0.8,
           "rgb(117,107,177)"
          ],
          [
           1,
           "rgb(84,39,143)"
          ]
         ],
         "locationmode": "country names",
         "locations": [
          "Afghanistan",
          "Albania",
          "Algeria",
          "Angola",
          "Antigua & Barbuda",
          "Argentina",
          "Armenia",
          "Australia",
          "Austria",
          "Azerbaijan",
          "Barbados",
          "Belarus",
          "Belgium",
          "Belize",
          "Benin",
          "Bermuda",
          "Bolivia",
          "Bosnia Herzegovina",
          "Brazil",
          "Brunei Darussalam",
          "Bulgaria",
          "Burkina Faso",
          "Burundi",
          "Cameroon",
          "Canada",
          "Cape Verde",
          "Central African Rep.",
          "Chad",
          "Chile",
          "China PR",
          "Colombia",
          "Comoros",
          "Congo",
          "Costa Rica",
          "Croatia",
          "Cuba",
          "Curacao",
          "Cyprus",
          "Czech Republic",
          "DR Congo",
          "Denmark",
          "Dominican Republic",
          "Ecuador",
          "Egypt",
          "El Salvador",
          "United Kingdom",
          "Equatorial Guinea",
          "Eritrea",
          "Estonia",
          "Ethiopia",
          "FYR Macedonia",
          "Faroe Islands",
          "Fiji",
          "Finland",
          "France",
          "Gabon",
          "Gambia",
          "Georgia",
          "Germany",
          "Ghana",
          "Gibraltar",
          "Greece",
          "Grenada",
          "Guam",
          "Guatemala",
          "Guinea",
          "Guinea Bissau",
          "Guyana",
          "Haiti",
          "Honduras",
          "Hong Kong",
          "Hungary",
          "Iceland",
          "India",
          "Iran",
          "Iraq",
          "Israel",
          "Italy",
          "Ivory Coast",
          "Jamaica",
          "Japan",
          "Kazakhstan",
          "Kenya",
          "Korea DPR",
          "Korea Republic",
          "Kosovo",
          "Kuwait",
          "Kyrgyzstan",
          "Latvia",
          "Lebanon",
          "Liberia",
          "Libya",
          "Liechtenstein",
          "Lithuania",
          "Luxembourg",
          "Madagascar",
          "Mali",
          "Malta",
          "Mauritania",
          "Mauritius",
          "Mexico",
          "Moldova",
          "Montenegro",
          "Montserrat",
          "Morocco",
          "Mozambique",
          "Namibia",
          "Netherlands",
          "New Caledonia",
          "New Zealand",
          "Niger",
          "Nigeria",
          "Northern Ireland",
          "Norway",
          "Oman",
          "Palestine",
          "Panama",
          "Paraguay",
          "Peru",
          "Philippines",
          "Poland",
          "Portugal",
          "Puerto Rico",
          "Qatar",
          "Republic of Ireland",
          "Romania",
          "Russia",
          "San Marino",
          "Saudi Arabia",
          "Scotland",
          "Senegal",
          "Serbia",
          "Sierra Leone",
          "Slovakia",
          "Slovenia",
          "Somalia",
          "South Africa",
          "Spain",
          "Sri Lanka",
          "St Kitts Nevis",
          "St Lucia",
          "Sudan",
          "Suriname",
          "Swaziland",
          "Sweden",
          "Switzerland",
          "Syria",
          "São Tomé & Príncipe",
          "Tanzania",
          "Thailand",
          "Togo",
          "Trinidad & Tobago",
          "Tunisia",
          "Turkey",
          "Turkmenistan",
          "Uganda",
          "Ukraine",
          "United States",
          "Uruguay",
          "Uzbekistan",
          "Venezuela",
          "Vietnam",
          "Wales",
          "Zambia",
          "Zimbabwe"
         ],
         "reversescale": false,
         "text": [
          "M. Kouhyar (74)<br>N. Husin (65)<br>S. Mukhammad (60)",
          "E. Hysaj (83)<br>E. Berisha (79)<br>M. Mavraj (76)",
          "R. Mahrez (84)<br>I. Slimani (82)<br>Y. Brahimi (82)",
          "Bastos (82)<br>Djalma (74)<br>Mateus (73)",
          "M. Romeo (76)<br>C. Jahraldo-Martin (66)<br>J. Parker (62)",
          "L. Messi (93)<br>G. Higuaín (90)<br>S. Agüero (89)",
          "H. Mkhitaryan (85)<br>A. Özbiliz (73)<br>Marcos Pizzelli (71)",
          "M. Ryan (80)<br>A. Mooy (78)<br>B. Jones (77)",
          "D. Alaba (88)<br>M. Arnautović (82)<br>S. Prödl (79)",
          "Eddy (72)<br>D. Yılmaz (70)<br>D. Nazarov (68)",
          "J. Forte (65)",
          "Renan Bressan (76)<br>T. Kalachev (75)<br>A. Martynovich (74)",
          "K. De Bruyne (92)<br>T. Courtois (92)<br>E. Hazard (91)",
          "M. Salazar (69)",
          "S. Mounié (83)<br>S. Sessègnon (75)<br>J. Adéoti (75)",
          "N. Wells (73)<br>Z. Lewis (69)<br>R. Lambe (64)",
          "M. Martins (75)<br>J. Campos (71)<br>P. Escobar (70)",
          "M. Pjanić (86)<br>E. Džeko (84)<br>A. Begović (82)",
          "Neymar (94)<br>Thiago Silva (88)<br>Marcelo (87)",
          "F. Bolkiah (69)",
          "I. Popov (77)<br>G. Milanov (75)<br>V. Stoyanov (74)",
          "B. Traoré (85)<br>C. Kaboré (77)<br>B. Koné (75)",
          "C. Amissi (64)",
          "J. Matip (85)<br>S. Eto'o (81)<br>C. Kameni (80)",
          "C. Larin (81)<br>A. Hutchinson (80)<br>S. Arfield (73)",
          "Zé Luís (81)<br>Garry Rodrigues (76)<br>Varela (75)",
          "A. Youga (75)<br>C. Yambéré (74)<br>E. Enza-Yamissi (68)",
          "C. Ninga (79)<br>S. Altama (65)",
          "A. Sánchez (89)<br>A. Vidal (87)<br>G. Medel (82)",
          "Zheng Zhi (76)<br>Zeng Cheng (74)<br>Gao Lin (74)",
          "J. Rodríguez (89)<br>Falcao (84)<br>C. Bacca (82)",
          "R. Abdullah (74)<br>E. Ben Nabouhane (71)<br>K. Abdallah (70)",
          "T. Bifouma (78)<br>D. N'Dinga (74)<br>C. Samba (74)",
          "K. Navas (85)<br>O. Duarte (77)<br>B. Ruíz (77)",
          "L. Modrić (89)<br>I. Rakitić (87)<br>D. Subašić (85)",
          "O. Alonso (77)<br>O. Hernández (74)",
          "E. Room (75)<br>L. Bacuna (75)<br>C. Martina (71)",
          "K. Laifis (78)<br>P. Sotiriou (73)<br>V. Sielis (67)",
          "P. Čech (86)<br>V. Darida (80)<br>T. Rosický (79)",
          "C. Bakambu (84)<br>Y. Bolasie (78)<br>G. Kakuta (76)",
          "C. Eriksen (91)<br>A. Christensen (89)<br>K. Schmeichel (84)",
          "Mariano (82)<br>Tano Bonnin (75)<br>J. Firpo (70)",
          "A. Valencia (83)<br>C. Noboa (79)<br>J. Montero (78)",
          "M. Salah (86)<br>M. Elneny (81)<br>A. Hassan (79)",
          "D. Cerén (70)<br>A. Alvarez (68)",
          "H. Kane (90)<br>D. Alli (90)<br>G. Cahill (84)",
          "Iban Salvador (79)<br>Nsue (71)<br>A. Ngamukol (70)",
          "H. Goitom (71)",
          "K. Vassiljev (72)<br>K. Mets (72)<br>N. Baranov (72)",
          "G. Panom (72)<br>A. Askar (67)",
          "S. Ristovski (77)<br>I. Nestorovski (75)<br>G. Pandev (74)",
          "H. Hansson (69)<br>G. Rólantsson Sørensen (67)<br>J. Edmundsson (66)",
          "R. Krishna (69)",
          "L. Hrádecký (83)<br>P. Hetemaj (77)<br>N. Moisander (76)",
          "A. Griezmann (91)<br>N. Kanté (90)<br>H. Lloris (88)",
          "P. Aubameyang (88)<br>M. Lemina (83)<br>D. Ndong (81)",
          "B. Sanneh (81)<br>O. Colley (80)<br>M. Barrow (76)",
          "V. Qazaishvili (79)<br>J. Ananidze (78)<br>G. Kashia (76)",
          "M. Neuer (92)<br>T. Kroos (90)<br>J. Boateng (88)",
          "K. Boateng (80)<br>A. Ayew (79)<br>A. Gyan (79)",
          "L. Walker (64)<br>S. Wiseman (64)",
          "Sokratis (86)<br>K. Manolas (86)<br>O. Karnezis (82)",
          "A. Pierre (73)",
          "A. DeLaGarza (69)",
          "R. Jérez (72)",
          "N. Keïta (88)<br>I. Traoré (80)<br>F. Pogba (80)",
          "Gerso (75)<br>Pelé (74)<br>F. Mendy (72)",
          "W. Creavalle (67)<br>N. Danns (63)<br>M. Briggs (63)",
          "J. Louis (77)<br>R. Genevois (72)<br>R. Goreux (70)",
          "A. Elis (80)<br>A. Lozano (79)<br>A. Najar (78)",
          "Dai Wai-Tsun (77)",
          "P. Gulácsi (77)<br>N. Nikolić (76)<br>A. Szalai (75)",
          "G. Sigurðsson (82)<br>A. Finnbogason (76)<br>E. Hallfreðsson (75)",
          "S. Chhetri (67)<br>L. Ralte (67)<br>S. Paul (64)",
          "S. Azmoun (85)<br>M. Mohammadi (80)<br>A. Jahanbakhsh (79)",
          "A. Adnan (79)<br>J. Meram (74)<br>B. Nouri (69)",
          "M. Dabbur (79)<br>B. Natcho (76)<br>L. Refaelov (75)",
          "G. Chiellini (89)<br>G. Buffon (89)<br>L. Bonucci (88)",
          "E. Bailly (89)<br>Y. Touré (83)<br>J. Seri (83)",
          "L. Bailey (86)<br>A. Blake (80)<br>W. Morgan (77)",
          "S. Kagawa (83)<br>T. Inui (78)<br>K. Honda (78)",
          "A. Merkel (72)<br>K. Engel (66)<br>W. Evseev (66)",
          "V. Wanyama (85)<br>M. Olunga (77)<br>M. Mariga (72)",
          "Han Kwang Song (86)<br>Chong Te Se (72)<br>Pak Kwang Ryong (67)",
          "H. Son (85)<br>Yoon Bo Sang (80)<br>Koo Ja Cheol (76)",
          "M. Rashica (83)<br>V. Berisha (79)<br>B. Berisha (74)",
          "F. Al Berahim (71)<br>F. Al Hajeri (65)",
          "V. Lux (58)",
          "A. Rudņevs (73)<br>A. Vaņins (71)<br>I. Tarasovs (69)",
          "B. Jradi (73)<br>S. Saad (69)<br>H. El Helwe (68)",
          "S. Nimely (75)<br>W. Jebor (69)",
          "A. Benali (75)<br>H. Elhouni (70)",
          "M. Büchel (76)<br>Y. Frick (70)<br>N. Hasler (69)",
          "L. Spalvis (81)<br>Z. Karčemarskas (76)<br>F. Černych (68)",
          "L. Jans (74)<br>M. Chanot (71)<br>A. Moris (69)",
          "I. Andriatsima (72)<br>L. Nomenjanahary (68)<br>C. Andriamahitsinoro (65)",
          "M. Marega (77)<br>M. Wagué (77)<br>A. Niane (76)",
          "M. Beerman (80)<br>L. Gambin (66)<br>M. Muscat (62)",
          "D. Guidileye (72)<br>A. Ba (69)",
          "K. Bru (67)",
          "J. Corona (85)<br>J. Hernández (82)<br>C. Vela (82)",
          "A. Ioniţă (75)<br>A. Epureanu (74)<br>I. Armaş (74)",
          "S. Savić (86)<br>S. Jovetić (82)<br>D. Damjanović (75)",
          "D. Daniels (74)<br>L. Taylor (67)<br>A. Dyer (66)",
          "H. Ziyech (85)<br>M. Benatia (84)<br>Y. Belhanda (81)",
          "Mexer (78)<br>Gildo (75)<br>Zainadine (74)",
          "R. Nyambe (78)<br>M. Starke (67)",
          "A. Robben (88)<br>V. van Dijk (86)<br>K. Strootman (85)",
          "W. Lautoa (72)<br>G. Gope-Fenepej (65)",
          "W. Reid (80)<br>C. Wood (78)<br>M. Rojas (76)",
          "S. Koita (75)<br>M. Maâzou (73)<br>O. Bonnes (64)",
          "O. Ndidi (86)<br>V. Moses (81)<br>V. Enyeama (80)",
          "J. Evans (79)<br>G. McAuley (77)<br>S. Davis (77)",
          "M. Elyounoussi (84)<br>R. Jarstein (82)<br>P. Skjelbred (78)",
          "A. Al-Habsi (73)",
          "C. Salom (71)<br>H. Aiesh (71)<br>M. Eid (65)",
          "A. Godoy (74)<br>A. Machado (71)<br>G. Gómez (70)",
          "A. Sanabria (86)<br>M. Almirón (83)<br>H. Pérez (79)",
          "J. Farfán (78)<br>A. Carrillo (78)<br>P. Hurtado (76)",
          "N. Etheridge (70)<br>S. Palla (63)<br>D. Sato (63)",
          "R. Lewandowski (91)<br>K. Glik (85)<br>L. Piszczek (83)",
          "Cristiano Ronaldo (94)<br>Bernardo Silva (91)<br>Pepe (86)",
          "J. Hernandez (66)<br>J. Saunders (66)",
          "A. Afif (77)<br>A. Fadlalla (72)<br>Y. Ahmed (70)",
          "J. McCarthy (83)<br>S. Coleman (81)<br>W. Hoolahan (77)",
          "F. Andone (84)<br>S. Radu (79)<br>C. Tătăruşanu (78)",
          "Mário Fernandes (82)<br>A. Dzagoev (81)<br>O. Shatov (80)",
          "E. Benedettini (62)",
          "N. Al Abed (76)<br>O. Hawsawi (75)<br>O. Othman (74)",
          "T. Cairney (80)<br>M. Phillips (78)<br>D. Fletcher (76)",
          "S. Mané (87)<br>K. Koulibaly (87)<br>I. Gueye (84)",
          "N. Matić (83)<br>L. Fejsa (82)<br>B. Ivanović (82)",
          "M. Turay (75)<br>K. Kamara (74)<br>A. Kamara (74)",
          "M. Hamšík (87)<br>M. Škrtel (81)<br>J. Kucka (79)",
          "J. Oblak (93)<br>S. Handanovič (87)<br>K. Kampl (83)",
          "L. Abdi (68)",
          "P. Tau (78)<br>I. Khune (77)<br>S. Tshabalala (76)",
          "De Gea (92)<br>Sergio Ramos (90)<br>Thiago (90)",
          "A. Razeek (70)",
          "R. Sawyers (73)<br>A. Harris (66)<br>O. Sterling-James (63)",
          "J. Donacien (67)",
          "M. Al Dhaw (67)<br>M. Eisa (66)",
          "K. Leerdam (71)<br>G. Zuiverloon (70)<br>R. Alberg (68)",
          "I. Rako (72)",
          "Z. Ibrahimović (88)<br>E. Forsberg (85)<br>M. Berg (80)",
          "R. Bürki (86)<br>G. Xhaka (85)<br>Y. Sommer (84)",
          "O. Kharbin (81)<br>O. Al Soma (78)<br>O. Al Soma (78)",
          "Luís Leal (64)",
          "M. Samatta (78)<br>F. Mussa (73)",
          "W. Jakkit (69)<br>C. Songkrasin (68)",
          "M. Dossevi (74)<br>S. Gakpé (74)<br>F. Ayité (74)",
          "J. Bostock (76)<br>K. Molino (75)<br>J. Jones (74)",
          "E. Skhiri (80)<br>A. Abdennour (79)<br>Y. Benalouane (75)",
          "O. Özyakup (85)<br>O. Toprak (84)<br>A. Turan (82)",
          "M. Kazankov (63)",
          "M. Lorenzen (71)<br>M. Azira (70)<br>A. Kakuba (66)",
          "Y. Rakitskyi (82)<br>A. Yarmolenko (81)<br>T. Stepanenko (81)",
          "C. Pulisic (89)<br>J. Brooks (85)<br>F. Johnson (79)",
          "L. Suárez (92)<br>D. Godín (88)<br>E. Cavani (87)",
          "V. Denisov (80)<br>V. Afonin (71)<br>V. Galiulin (67)",
          "J. Martínez (81)<br>S. Rondón (80)<br>T. Rincón (77)",
          "Luong Xuan Truong (67)",
          "G. Bale (89)<br>A. Ramsey (83)<br>A. Williams (82)",
          "C. Lungu (74)<br>E. Kangwa (74)<br>S. Sunzu (72)",
          "M. Nakamba (79)<br>T. Ndoro (73)<br>W. Katsande (73)"
         ],
         "type": "choropleth",
         "z": [
          74,
          84,
          85,
          84,
          76,
          93,
          85,
          80,
          88,
          75,
          65,
          76,
          92,
          69,
          83,
          73,
          78,
          86,
          94,
          69,
          81,
          85,
          64,
          85,
          81,
          81,
          75,
          79,
          89,
          78,
          89,
          74,
          78,
          85,
          89,
          77,
          75,
          79,
          87,
          84,
          91,
          82,
          83,
          86,
          70,
          90,
          79,
          71,
          72,
          72,
          81,
          70,
          69,
          83,
          94,
          88,
          81,
          82,
          92,
          84,
          64,
          86,
          73,
          69,
          72,
          88,
          83,
          67,
          77,
          80,
          77,
          85,
          82,
          74,
          85,
          79,
          79,
          94,
          89,
          86,
          83,
          72,
          85,
          86,
          85,
          83,
          71,
          58,
          74,
          73,
          75,
          75,
          76,
          81,
          85,
          72,
          81,
          80,
          72,
          67,
          85,
          75,
          86,
          74,
          85,
          78,
          78,
          89,
          72,
          80,
          75,
          86,
          81,
          86,
          73,
          71,
          74,
          86,
          79,
          70,
          91,
          94,
          66,
          77,
          83,
          84,
          84,
          62,
          82,
          85,
          90,
          86,
          76,
          87,
          93,
          68,
          81,
          92,
          70,
          73,
          67,
          67,
          71,
          72,
          88,
          88,
          81,
          64,
          78,
          69,
          77,
          78,
          82,
          85,
          63,
          71,
          82,
          89,
          92,
          80,
          87,
          67,
          89,
          76,
          79
         ]
        }
       ],
       "layout": {
        "geo": {
         "projection": {
          "type": "mercator"
         },
         "showcoastlines": false,
         "showframe": true
        },
        "template": {
         "data": {
          "bar": [
           {
            "error_x": {
             "color": "#2a3f5f"
            },
            "error_y": {
             "color": "#2a3f5f"
            },
            "marker": {
             "line": {
              "color": "#E5ECF6",
              "width": 0.5
             }
            },
            "type": "bar"
           }
          ],
          "barpolar": [
           {
            "marker": {
             "line": {
              "color": "#E5ECF6",
              "width": 0.5
             }
            },
            "type": "barpolar"
           }
          ],
          "carpet": [
           {
            "aaxis": {
             "endlinecolor": "#2a3f5f",
             "gridcolor": "white",
             "linecolor": "white",
             "minorgridcolor": "white",
             "startlinecolor": "#2a3f5f"
            },
            "baxis": {
             "endlinecolor": "#2a3f5f",
             "gridcolor": "white",
             "linecolor": "white",
             "minorgridcolor": "white",
             "startlinecolor": "#2a3f5f"
            },
            "type": "carpet"
           }
          ],
          "choropleth": [
           {
            "colorbar": {
             "outlinewidth": 0,
             "ticks": ""
            },
            "type": "choropleth"
           }
          ],
          "contour": [
           {
            "colorbar": {
             "outlinewidth": 0,
             "ticks": ""
            },
            "colorscale": [
             [
              0,
              "#0d0887"
             ],
             [
              0.1111111111111111,
              "#46039f"
             ],
             [
              0.2222222222222222,
              "#7201a8"
             ],
             [
              0.3333333333333333,
              "#9c179e"
             ],
             [
              0.4444444444444444,
              "#bd3786"
             ],
             [
              0.5555555555555556,
              "#d8576b"
             ],
             [
              0.6666666666666666,
              "#ed7953"
             ],
             [
              0.7777777777777778,
              "#fb9f3a"
             ],
             [
              0.8888888888888888,
              "#fdca26"
             ],
             [
              1,
              "#f0f921"
             ]
            ],
            "type": "contour"
           }
          ],
          "contourcarpet": [
           {
            "colorbar": {
             "outlinewidth": 0,
             "ticks": ""
            },
            "type": "contourcarpet"
           }
          ],
          "heatmap": [
           {
            "colorbar": {
             "outlinewidth": 0,
             "ticks": ""
            },
            "colorscale": [
             [
              0,
              "#0d0887"
             ],
             [
              0.1111111111111111,
              "#46039f"
             ],
             [
              0.2222222222222222,
              "#7201a8"
             ],
             [
              0.3333333333333333,
              "#9c179e"
             ],
             [
              0.4444444444444444,
              "#bd3786"
             ],
             [
              0.5555555555555556,
              "#d8576b"
             ],
             [
              0.6666666666666666,
              "#ed7953"
             ],
             [
              0.7777777777777778,
              "#fb9f3a"
             ],
             [
              0.8888888888888888,
              "#fdca26"
             ],
             [
              1,
              "#f0f921"
             ]
            ],
            "type": "heatmap"
           }
          ],
          "heatmapgl": [
           {
            "colorbar": {
             "outlinewidth": 0,
             "ticks": ""
            },
            "colorscale": [
             [
              0,
              "#0d0887"
             ],
             [
              0.1111111111111111,
              "#46039f"
             ],
             [
              0.2222222222222222,
              "#7201a8"
             ],
             [
              0.3333333333333333,
              "#9c179e"
             ],
             [
              0.4444444444444444,
              "#bd3786"
             ],
             [
              0.5555555555555556,
              "#d8576b"
             ],
             [
              0.6666666666666666,
              "#ed7953"
             ],
             [
              0.7777777777777778,
              "#fb9f3a"
             ],
             [
              0.8888888888888888,
              "#fdca26"
             ],
             [
              1,
              "#f0f921"
             ]
            ],
            "type": "heatmapgl"
           }
          ],
          "histogram": [
           {
            "marker": {
             "colorbar": {
              "outlinewidth": 0,
              "ticks": ""
             }
            },
            "type": "histogram"
           }
          ],
          "histogram2d": [
           {
            "colorbar": {
             "outlinewidth": 0,
             "ticks": ""
            },
            "colorscale": [
             [
              0,
              "#0d0887"
             ],
             [
              0.1111111111111111,
              "#46039f"
             ],
             [
              0.2222222222222222,
              "#7201a8"
             ],
             [
              0.3333333333333333,
              "#9c179e"
             ],
             [
              0.4444444444444444,
              "#bd3786"
             ],
             [
              0.5555555555555556,
              "#d8576b"
             ],
             [
              0.6666666666666666,
              "#ed7953"
             ],
             [
              0.7777777777777778,
              "#fb9f3a"
             ],
             [
              0.8888888888888888,
              "#fdca26"
             ],
             [
              1,
              "#f0f921"
             ]
            ],
            "type": "histogram2d"
           }
          ],
          "histogram2dcontour": [
           {
            "colorbar": {
             "outlinewidth": 0,
             "ticks": ""
            },
            "colorscale": [
             [
              0,
              "#0d0887"
             ],
             [
              0.1111111111111111,
              "#46039f"
             ],
             [
              0.2222222222222222,
              "#7201a8"
             ],
             [
              0.3333333333333333,
              "#9c179e"
             ],
             [
              0.4444444444444444,
              "#bd3786"
             ],
             [
              0.5555555555555556,
              "#d8576b"
             ],
             [
              0.6666666666666666,
              "#ed7953"
             ],
             [
              0.7777777777777778,
              "#fb9f3a"
             ],
             [
              0.8888888888888888,
              "#fdca26"
             ],
             [
              1,
              "#f0f921"
             ]
            ],
            "type": "histogram2dcontour"
           }
          ],
          "mesh3d": [
           {
            "colorbar": {
             "outlinewidth": 0,
             "ticks": ""
            },
            "type": "mesh3d"
           }
          ],
          "parcoords": [
           {
            "line": {
             "colorbar": {
              "outlinewidth": 0,
              "ticks": ""
             }
            },
            "type": "parcoords"
           }
          ],
          "pie": [
           {
            "automargin": true,
            "type": "pie"
           }
          ],
          "scatter": [
           {
            "marker": {
             "colorbar": {
              "outlinewidth": 0,
              "ticks": ""
             }
            },
            "type": "scatter"
           }
          ],
          "scatter3d": [
           {
            "line": {
             "colorbar": {
              "outlinewidth": 0,
              "ticks": ""
             }
            },
            "marker": {
             "colorbar": {
              "outlinewidth": 0,
              "ticks": ""
             }
            },
            "type": "scatter3d"
           }
          ],
          "scattercarpet": [
           {
            "marker": {
             "colorbar": {
              "outlinewidth": 0,
              "ticks": ""
             }
            },
            "type": "scattercarpet"
           }
          ],
          "scattergeo": [
           {
            "marker": {
             "colorbar": {
              "outlinewidth": 0,
              "ticks": ""
             }
            },
            "type": "scattergeo"
           }
          ],
          "scattergl": [
           {
            "marker": {
             "colorbar": {
              "outlinewidth": 0,
              "ticks": ""
             }
            },
            "type": "scattergl"
           }
          ],
          "scattermapbox": [
           {
            "marker": {
             "colorbar": {
              "outlinewidth": 0,
              "ticks": ""
             }
            },
            "type": "scattermapbox"
           }
          ],
          "scatterpolar": [
           {
            "marker": {
             "colorbar": {
              "outlinewidth": 0,
              "ticks": ""
             }
            },
            "type": "scatterpolar"
           }
          ],
          "scatterpolargl": [
           {
            "marker": {
             "colorbar": {
              "outlinewidth": 0,
              "ticks": ""
             }
            },
            "type": "scatterpolargl"
           }
          ],
          "scatterternary": [
           {
            "marker": {
             "colorbar": {
              "outlinewidth": 0,
              "ticks": ""
             }
            },
            "type": "scatterternary"
           }
          ],
          "surface": [
           {
            "colorbar": {
             "outlinewidth": 0,
             "ticks": ""
            },
            "colorscale": [
             [
              0,
              "#0d0887"
             ],
             [
              0.1111111111111111,
              "#46039f"
             ],
             [
              0.2222222222222222,
              "#7201a8"
             ],
             [
              0.3333333333333333,
              "#9c179e"
             ],
             [
              0.4444444444444444,
              "#bd3786"
             ],
             [
              0.5555555555555556,
              "#d8576b"
             ],
             [
              0.6666666666666666,
              "#ed7953"
             ],
             [
              0.7777777777777778,
              "#fb9f3a"
             ],
             [
              0.8888888888888888,
              "#fdca26"
             ],
             [
              1,
              "#f0f921"
             ]
            ],
            "type": "surface"
           }
          ],
          "table": [
           {
            "cells": {
             "fill": {
              "color": "#EBF0F8"
             },
             "line": {
              "color": "white"
             }
            },
            "header": {
             "fill": {
              "color": "#C8D4E3"
             },
             "line": {
              "color": "white"
             }
            },
            "type": "table"
           }
          ]
         },
         "layout": {
          "annotationdefaults": {
           "arrowcolor": "#2a3f5f",
           "arrowhead": 0,
           "arrowwidth": 1
          },
          "coloraxis": {
           "colorbar": {
            "outlinewidth": 0,
            "ticks": ""
           }
          },
          "colorscale": {
           "diverging": [
            [
             0,
             "#8e0152"
            ],
            [
             0.1,
             "#c51b7d"
            ],
            [
             0.2,
             "#de77ae"
            ],
            [
             0.3,
             "#f1b6da"
            ],
            [
             0.4,
             "#fde0ef"
            ],
            [
             0.5,
             "#f7f7f7"
            ],
            [
             0.6,
             "#e6f5d0"
            ],
            [
             0.7,
             "#b8e186"
            ],
            [
             0.8,
             "#7fbc41"
            ],
            [
             0.9,
             "#4d9221"
            ],
            [
             1,
             "#276419"
            ]
           ],
           "sequential": [
            [
             0,
             "#0d0887"
            ],
            [
             0.1111111111111111,
             "#46039f"
            ],
            [
             0.2222222222222222,
             "#7201a8"
            ],
            [
             0.3333333333333333,
             "#9c179e"
            ],
            [
             0.4444444444444444,
             "#bd3786"
            ],
            [
             0.5555555555555556,
             "#d8576b"
            ],
            [
             0.6666666666666666,
             "#ed7953"
            ],
            [
             0.7777777777777778,
             "#fb9f3a"
            ],
            [
             0.8888888888888888,
             "#fdca26"
            ],
            [
             1,
             "#f0f921"
            ]
           ],
           "sequentialminus": [
            [
             0,
             "#0d0887"
            ],
            [
             0.1111111111111111,
             "#46039f"
            ],
            [
             0.2222222222222222,
             "#7201a8"
            ],
            [
             0.3333333333333333,
             "#9c179e"
            ],
            [
             0.4444444444444444,
             "#bd3786"
            ],
            [
             0.5555555555555556,
             "#d8576b"
            ],
            [
             0.6666666666666666,
             "#ed7953"
            ],
            [
             0.7777777777777778,
             "#fb9f3a"
            ],
            [
             0.8888888888888888,
             "#fdca26"
            ],
            [
             1,
             "#f0f921"
            ]
           ]
          },
          "colorway": [
           "#636efa",
           "#EF553B",
           "#00cc96",
           "#ab63fa",
           "#FFA15A",
           "#19d3f3",
           "#FF6692",
           "#B6E880",
           "#FF97FF",
           "#FECB52"
          ],
          "font": {
           "color": "#2a3f5f"
          },
          "geo": {
           "bgcolor": "white",
           "lakecolor": "white",
           "landcolor": "#E5ECF6",
           "showlakes": true,
           "showland": true,
           "subunitcolor": "white"
          },
          "hoverlabel": {
           "align": "left"
          },
          "hovermode": "closest",
          "mapbox": {
           "style": "light"
          },
          "paper_bgcolor": "white",
          "plot_bgcolor": "#E5ECF6",
          "polar": {
           "angularaxis": {
            "gridcolor": "white",
            "linecolor": "white",
            "ticks": ""
           },
           "bgcolor": "#E5ECF6",
           "radialaxis": {
            "gridcolor": "white",
            "linecolor": "white",
            "ticks": ""
           }
          },
          "scene": {
           "xaxis": {
            "backgroundcolor": "#E5ECF6",
            "gridcolor": "white",
            "gridwidth": 2,
            "linecolor": "white",
            "showbackground": true,
            "ticks": "",
            "zerolinecolor": "white"
           },
           "yaxis": {
            "backgroundcolor": "#E5ECF6",
            "gridcolor": "white",
            "gridwidth": 2,
            "linecolor": "white",
            "showbackground": true,
            "ticks": "",
            "zerolinecolor": "white"
           },
           "zaxis": {
            "backgroundcolor": "#E5ECF6",
            "gridcolor": "white",
            "gridwidth": 2,
            "linecolor": "white",
            "showbackground": true,
            "ticks": "",
            "zerolinecolor": "white"
           }
          },
          "shapedefaults": {
           "line": {
            "color": "#2a3f5f"
           }
          },
          "ternary": {
           "aaxis": {
            "gridcolor": "white",
            "linecolor": "white",
            "ticks": ""
           },
           "baxis": {
            "gridcolor": "white",
            "linecolor": "white",
            "ticks": ""
           },
           "bgcolor": "#E5ECF6",
           "caxis": {
            "gridcolor": "white",
            "linecolor": "white",
            "ticks": ""
           }
          },
          "title": {
           "x": 0.05
          },
          "xaxis": {
           "automargin": true,
           "gridcolor": "white",
           "linecolor": "white",
           "ticks": "",
           "title": {
            "standoff": 15
           },
           "zerolinecolor": "white",
           "zerolinewidth": 2
          },
          "yaxis": {
           "automargin": true,
           "gridcolor": "white",
           "linecolor": "white",
           "ticks": "",
           "title": {
            "standoff": 15
           },
           "zerolinecolor": "white",
           "zerolinewidth": 2
          }
         }
        },
        "title": {
         "text": "Maximum potential per nationality"
        }
       }
      },
      "text/html": [
       "<div>\n",
       "        \n",
       "        \n",
       "            <div id=\"959f56a4-4791-4cf8-88b0-60b1bdde457f\" class=\"plotly-graph-div\" style=\"height:525px; width:100%;\"></div>\n",
       "            <script type=\"text/javascript\">\n",
       "                require([\"plotly\"], function(Plotly) {\n",
       "                    window.PLOTLYENV=window.PLOTLYENV || {};\n",
       "                    \n",
       "                if (document.getElementById(\"959f56a4-4791-4cf8-88b0-60b1bdde457f\")) {\n",
       "                    Plotly.newPlot(\n",
       "                        '959f56a4-4791-4cf8-88b0-60b1bdde457f',\n",
       "                        [{\"colorbar\": {\"title\": {\"text\": \"Scale\"}}, \"colorscale\": [[0.0, \"rgb(242,240,247)\"], [0.2, \"rgb(218,218,235)\"], [0.4, \"rgb(188,189,220)\"], [0.6, \"rgb(158,154,200)\"], [0.8, \"rgb(117,107,177)\"], [1.0, \"rgb(84,39,143)\"]], \"locationmode\": \"country names\", \"locations\": [\"Afghanistan\", \"Albania\", \"Algeria\", \"Angola\", \"Antigua & Barbuda\", \"Argentina\", \"Armenia\", \"Australia\", \"Austria\", \"Azerbaijan\", \"Barbados\", \"Belarus\", \"Belgium\", \"Belize\", \"Benin\", \"Bermuda\", \"Bolivia\", \"Bosnia Herzegovina\", \"Brazil\", \"Brunei Darussalam\", \"Bulgaria\", \"Burkina Faso\", \"Burundi\", \"Cameroon\", \"Canada\", \"Cape Verde\", \"Central African Rep.\", \"Chad\", \"Chile\", \"China PR\", \"Colombia\", \"Comoros\", \"Congo\", \"Costa Rica\", \"Croatia\", \"Cuba\", \"Curacao\", \"Cyprus\", \"Czech Republic\", \"DR Congo\", \"Denmark\", \"Dominican Republic\", \"Ecuador\", \"Egypt\", \"El Salvador\", \"United Kingdom\", \"Equatorial Guinea\", \"Eritrea\", \"Estonia\", \"Ethiopia\", \"FYR Macedonia\", \"Faroe Islands\", \"Fiji\", \"Finland\", \"France\", \"Gabon\", \"Gambia\", \"Georgia\", \"Germany\", \"Ghana\", \"Gibraltar\", \"Greece\", \"Grenada\", \"Guam\", \"Guatemala\", \"Guinea\", \"Guinea Bissau\", \"Guyana\", \"Haiti\", \"Honduras\", \"Hong Kong\", \"Hungary\", \"Iceland\", \"India\", \"Iran\", \"Iraq\", \"Israel\", \"Italy\", \"Ivory Coast\", \"Jamaica\", \"Japan\", \"Kazakhstan\", \"Kenya\", \"Korea DPR\", \"Korea Republic\", \"Kosovo\", \"Kuwait\", \"Kyrgyzstan\", \"Latvia\", \"Lebanon\", \"Liberia\", \"Libya\", \"Liechtenstein\", \"Lithuania\", \"Luxembourg\", \"Madagascar\", \"Mali\", \"Malta\", \"Mauritania\", \"Mauritius\", \"Mexico\", \"Moldova\", \"Montenegro\", \"Montserrat\", \"Morocco\", \"Mozambique\", \"Namibia\", \"Netherlands\", \"New Caledonia\", \"New Zealand\", \"Niger\", \"Nigeria\", \"Northern Ireland\", \"Norway\", \"Oman\", \"Palestine\", \"Panama\", \"Paraguay\", \"Peru\", \"Philippines\", \"Poland\", \"Portugal\", \"Puerto Rico\", \"Qatar\", \"Republic of Ireland\", \"Romania\", \"Russia\", \"San Marino\", \"Saudi Arabia\", \"Scotland\", \"Senegal\", \"Serbia\", \"Sierra Leone\", \"Slovakia\", \"Slovenia\", \"Somalia\", \"South Africa\", \"Spain\", \"Sri Lanka\", \"St Kitts Nevis\", \"St Lucia\", \"Sudan\", \"Suriname\", \"Swaziland\", \"Sweden\", \"Switzerland\", \"Syria\", \"S\\u00e3o Tom\\u00e9 & Pr\\u00edncipe\", \"Tanzania\", \"Thailand\", \"Togo\", \"Trinidad & Tobago\", \"Tunisia\", \"Turkey\", \"Turkmenistan\", \"Uganda\", \"Ukraine\", \"United States\", \"Uruguay\", \"Uzbekistan\", \"Venezuela\", \"Vietnam\", \"Wales\", \"Zambia\", \"Zimbabwe\"], \"reversescale\": false, \"text\": [\"M. Kouhyar (74)<br>N. Husin (65)<br>S. Mukhammad (60)\", \"E. Hysaj (83)<br>E. Berisha (79)<br>M. Mavraj (76)\", \"R. Mahrez (84)<br>I. Slimani (82)<br>Y. Brahimi (82)\", \"Bastos (82)<br>Djalma (74)<br>Mateus (73)\", \"M. Romeo (76)<br>C. Jahraldo-Martin (66)<br>J. Parker (62)\", \"L. Messi (93)<br>G. Higua\\u00edn (90)<br>S. Ag\\u00fcero (89)\", \"H. Mkhitaryan (85)<br>A. \\u00d6zbiliz (73)<br>Marcos Pizzelli (71)\", \"M. Ryan (80)<br>A. Mooy (78)<br>B. Jones (77)\", \"D. Alaba (88)<br>M. Arnautovi\\u0107 (82)<br>S. Pr\\u00f6dl (79)\", \"Eddy (72)<br>D. Y\\u0131lmaz (70)<br>D. Nazarov (68)\", \"J. Forte (65)\", \"Renan Bressan (76)<br>T. Kalachev (75)<br>A. Martynovich (74)\", \"K. De Bruyne (92)<br>T. Courtois (92)<br>E. Hazard (91)\", \"M. Salazar (69)\", \"S. Mouni\\u00e9 (83)<br>S. Sess\\u00e8gnon (75)<br>J. Ad\\u00e9oti (75)\", \"N. Wells (73)<br>Z. Lewis (69)<br>R. Lambe (64)\", \"M. Martins (75)<br>J. Campos (71)<br>P. Escobar (70)\", \"M. Pjani\\u0107 (86)<br>E. D\\u017eeko (84)<br>A. Begovi\\u0107 (82)\", \"Neymar (94)<br>Thiago Silva (88)<br>Marcelo (87)\", \"F. Bolkiah (69)\", \"I. Popov (77)<br>G. Milanov (75)<br>V. Stoyanov (74)\", \"B. Traor\\u00e9 (85)<br>C. Kabor\\u00e9 (77)<br>B. Kon\\u00e9 (75)\", \"C. Amissi (64)\", \"J. Matip (85)<br>S. Eto'o (81)<br>C. Kameni (80)\", \"C. Larin (81)<br>A. Hutchinson (80)<br>S. Arfield (73)\", \"Z\\u00e9 Lu\\u00eds (81)<br>Garry Rodrigues (76)<br>Varela (75)\", \"A. Youga (75)<br>C. Yamb\\u00e9r\\u00e9 (74)<br>E. Enza-Yamissi (68)\", \"C. Ninga (79)<br>S. Altama (65)\", \"A. S\\u00e1nchez (89)<br>A. Vidal (87)<br>G. Medel (82)\", \"Zheng Zhi (76)<br>Zeng Cheng (74)<br>Gao Lin (74)\", \"J. Rodr\\u00edguez (89)<br>Falcao (84)<br>C. Bacca (82)\", \"R. Abdullah (74)<br>E. Ben Nabouhane (71)<br>K. Abdallah (70)\", \"T. Bifouma (78)<br>D. N'Dinga (74)<br>C. Samba (74)\", \"K. Navas (85)<br>O. Duarte (77)<br>B. Ru\\u00edz (77)\", \"L. Modri\\u0107 (89)<br>I. Rakiti\\u0107 (87)<br>D. Suba\\u0161i\\u0107 (85)\", \"O. Alonso (77)<br>O. Hern\\u00e1ndez (74)\", \"E. Room (75)<br>L. Bacuna (75)<br>C. Martina (71)\", \"K. Laifis (78)<br>P. Sotiriou (73)<br>V. Sielis (67)\", \"P. \\u010cech (86)<br>V. Darida (80)<br>T. Rosick\\u00fd (79)\", \"C. Bakambu (84)<br>Y. Bolasie (78)<br>G. Kakuta (76)\", \"C. Eriksen (91)<br>A. Christensen (89)<br>K. Schmeichel (84)\", \"Mariano (82)<br>Tano Bonnin (75)<br>J. Firpo (70)\", \"A. Valencia (83)<br>C. Noboa (79)<br>J. Montero (78)\", \"M. Salah (86)<br>M. Elneny (81)<br>A. Hassan (79)\", \"D. Cer\\u00e9n (70)<br>A. Alvarez (68)\", \"H. Kane (90)<br>D. Alli (90)<br>G. Cahill (84)\", \"Iban Salvador (79)<br>Nsue (71)<br>A. Ngamukol (70)\", \"H. Goitom (71)\", \"K. Vassiljev (72)<br>K. Mets (72)<br>N. Baranov (72)\", \"G. Panom (72)<br>A. Askar (67)\", \"S. Ristovski (77)<br>I. Nestorovski (75)<br>G. Pandev (74)\", \"H. Hansson (69)<br>G. R\\u00f3lantsson S\\u00f8rensen (67)<br>J. Edmundsson (66)\", \"R. Krishna (69)\", \"L. Hr\\u00e1deck\\u00fd (83)<br>P. Hetemaj (77)<br>N. Moisander (76)\", \"A. Griezmann (91)<br>N. Kant\\u00e9 (90)<br>H. Lloris (88)\", \"P. Aubameyang (88)<br>M. Lemina (83)<br>D. Ndong (81)\", \"B. Sanneh (81)<br>O. Colley (80)<br>M. Barrow (76)\", \"V. Qazaishvili (79)<br>J. Ananidze (78)<br>G. Kashia (76)\", \"M. Neuer (92)<br>T. Kroos (90)<br>J. Boateng (88)\", \"K. Boateng (80)<br>A. Ayew (79)<br>A. Gyan (79)\", \"L. Walker (64)<br>S. Wiseman (64)\", \"Sokratis (86)<br>K. Manolas (86)<br>O. Karnezis (82)\", \"A. Pierre (73)\", \"A. DeLaGarza (69)\", \"R. J\\u00e9rez (72)\", \"N. Ke\\u00efta (88)<br>I. Traor\\u00e9 (80)<br>F. Pogba (80)\", \"Gerso (75)<br>Pel\\u00e9 (74)<br>F. Mendy (72)\", \"W. Creavalle (67)<br>N. Danns (63)<br>M. Briggs (63)\", \"J. Louis (77)<br>R. Genevois (72)<br>R. Goreux (70)\", \"A. Elis (80)<br>A. Lozano (79)<br>A. Najar (78)\", \"Dai Wai-Tsun (77)\", \"P. Gul\\u00e1csi (77)<br>N. Nikoli\\u0107 (76)<br>A. Szalai (75)\", \"G. Sigur\\u00f0sson (82)<br>A. Finnbogason (76)<br>E. Hallfre\\u00f0sson (75)\", \"S. Chhetri (67)<br>L. Ralte (67)<br>S. Paul (64)\", \"S. Azmoun (85)<br>M. Mohammadi (80)<br>A. Jahanbakhsh (79)\", \"A. Adnan (79)<br>J. Meram (74)<br>B. Nouri (69)\", \"M. Dabbur (79)<br>B. Natcho (76)<br>L. Refaelov (75)\", \"G. Chiellini (89)<br>G. Buffon (89)<br>L. Bonucci (88)\", \"E. Bailly (89)<br>Y. Tour\\u00e9 (83)<br>J. Seri (83)\", \"L. Bailey (86)<br>A. Blake (80)<br>W. Morgan (77)\", \"S. Kagawa (83)<br>T. Inui (78)<br>K. Honda (78)\", \"A. Merkel (72)<br>K. Engel (66)<br>W. Evseev (66)\", \"V. Wanyama (85)<br>M. Olunga (77)<br>M. Mariga (72)\", \"Han Kwang Song (86)<br>Chong Te Se (72)<br>Pak Kwang Ryong (67)\", \"H. Son (85)<br>Yoon Bo Sang (80)<br>Koo Ja Cheol (76)\", \"M. Rashica (83)<br>V. Berisha (79)<br>B. Berisha (74)\", \"F. Al Berahim (71)<br>F. Al Hajeri (65)\", \"V. Lux (58)\", \"A. Rud\\u0146evs (73)<br>A. Va\\u0146ins (71)<br>I. Tarasovs (69)\", \"B. Jradi (73)<br>S. Saad (69)<br>H. El Helwe (68)\", \"S. Nimely (75)<br>W. Jebor (69)\", \"A. Benali (75)<br>H. Elhouni (70)\", \"M. B\\u00fcchel (76)<br>Y. Frick (70)<br>N. Hasler (69)\", \"L. Spalvis (81)<br>Z. Kar\\u010demarskas (76)<br>F. \\u010cernych (68)\", \"L. Jans (74)<br>M. Chanot (71)<br>A. Moris (69)\", \"I. Andriatsima (72)<br>L. Nomenjanahary (68)<br>C. Andriamahitsinoro (65)\", \"M. Marega (77)<br>M. Wagu\\u00e9 (77)<br>A. Niane (76)\", \"M. Beerman (80)<br>L. Gambin (66)<br>M. Muscat (62)\", \"D. Guidileye (72)<br>A. Ba (69)\", \"K. Bru (67)\", \"J. Corona (85)<br>J. Hern\\u00e1ndez (82)<br>C. Vela (82)\", \"A. Ioni\\u0163\\u0103 (75)<br>A. Epureanu (74)<br>I. Arma\\u015f (74)\", \"S. Savi\\u0107 (86)<br>S. Joveti\\u0107 (82)<br>D. Damjanovi\\u0107 (75)\", \"D. Daniels (74)<br>L. Taylor (67)<br>A. Dyer (66)\", \"H. Ziyech (85)<br>M. Benatia (84)<br>Y. Belhanda (81)\", \"Mexer (78)<br>Gildo (75)<br>Zainadine (74)\", \"R. Nyambe (78)<br>M. Starke (67)\", \"A. Robben (88)<br>V. van Dijk (86)<br>K. Strootman (85)\", \"W. Lautoa (72)<br>G. Gope-Fenepej (65)\", \"W. Reid (80)<br>C. Wood (78)<br>M. Rojas (76)\", \"S. Koita (75)<br>M. Ma\\u00e2zou (73)<br>O. Bonnes (64)\", \"O. Ndidi (86)<br>V. Moses (81)<br>V. Enyeama (80)\", \"J. Evans (79)<br>G. McAuley (77)<br>S. Davis (77)\", \"M. Elyounoussi (84)<br>R. Jarstein (82)<br>P. Skjelbred (78)\", \"A. Al-Habsi (73)\", \"C. Salom (71)<br>H. Aiesh (71)<br>M. Eid (65)\", \"A. Godoy (74)<br>A. Machado (71)<br>G. G\\u00f3mez (70)\", \"A. Sanabria (86)<br>M. Almir\\u00f3n (83)<br>H. P\\u00e9rez (79)\", \"J. Farf\\u00e1n (78)<br>A. Carrillo (78)<br>P. Hurtado (76)\", \"N. Etheridge (70)<br>S. Palla (63)<br>D. Sato (63)\", \"R. Lewandowski (91)<br>K. Glik (85)<br>L. Piszczek (83)\", \"Cristiano Ronaldo (94)<br>Bernardo Silva (91)<br>Pepe (86)\", \"J. Hernandez (66)<br>J. Saunders (66)\", \"A. Afif (77)<br>A. Fadlalla (72)<br>Y. Ahmed (70)\", \"J. McCarthy (83)<br>S. Coleman (81)<br>W. Hoolahan (77)\", \"F. Andone (84)<br>S. Radu (79)<br>C. T\\u0103t\\u0103ru\\u015fanu (78)\", \"M\\u00e1rio Fernandes (82)<br>A. Dzagoev (81)<br>O. Shatov (80)\", \"E. Benedettini (62)\", \"N. Al Abed (76)<br>O. Hawsawi (75)<br>O. Othman (74)\", \"T. Cairney (80)<br>M. Phillips (78)<br>D. Fletcher (76)\", \"S. Man\\u00e9 (87)<br>K. Koulibaly (87)<br>I. Gueye (84)\", \"N. Mati\\u0107 (83)<br>L. Fejsa (82)<br>B. Ivanovi\\u0107 (82)\", \"M. Turay (75)<br>K. Kamara (74)<br>A. Kamara (74)\", \"M. Ham\\u0161\\u00edk (87)<br>M. \\u0160krtel (81)<br>J. Kucka (79)\", \"J. Oblak (93)<br>S. Handanovi\\u010d (87)<br>K. Kampl (83)\", \"L. Abdi (68)\", \"P. Tau (78)<br>I. Khune (77)<br>S. Tshabalala (76)\", \"De Gea (92)<br>Sergio Ramos (90)<br>Thiago (90)\", \"A. Razeek (70)\", \"R. Sawyers (73)<br>A. Harris (66)<br>O. Sterling-James (63)\", \"J. Donacien (67)\", \"M. Al Dhaw (67)<br>M. Eisa (66)\", \"K. Leerdam (71)<br>G. Zuiverloon (70)<br>R. Alberg (68)\", \"I. Rako (72)\", \"Z. Ibrahimovi\\u0107 (88)<br>E. Forsberg (85)<br>M. Berg (80)\", \"R. B\\u00fcrki (86)<br>G. Xhaka (85)<br>Y. Sommer (84)\", \"O. Kharbin (81)<br>O. Al Soma (78)<br>O. Al Soma (78)\", \"Lu\\u00eds Leal (64)\", \"M. Samatta (78)<br>F. Mussa (73)\", \"W. Jakkit (69)<br>C. Songkrasin (68)\", \"M. Dossevi (74)<br>S. Gakp\\u00e9 (74)<br>F. Ayit\\u00e9 (74)\", \"J. Bostock (76)<br>K. Molino (75)<br>J. Jones (74)\", \"E. Skhiri (80)<br>A. Abdennour (79)<br>Y. Benalouane (75)\", \"O. \\u00d6zyakup (85)<br>O. Toprak (84)<br>A. Turan (82)\", \"M. Kazankov (63)\", \"M. Lorenzen (71)<br>M. Azira (70)<br>A. Kakuba (66)\", \"Y. Rakitskyi (82)<br>A. Yarmolenko (81)<br>T. Stepanenko (81)\", \"C. Pulisic (89)<br>J. Brooks (85)<br>F. Johnson (79)\", \"L. Su\\u00e1rez (92)<br>D. God\\u00edn (88)<br>E. Cavani (87)\", \"V. Denisov (80)<br>V. Afonin (71)<br>V. Galiulin (67)\", \"J. Mart\\u00ednez (81)<br>S. Rond\\u00f3n (80)<br>T. Rinc\\u00f3n (77)\", \"Luong Xuan Truong (67)\", \"G. Bale (89)<br>A. Ramsey (83)<br>A. Williams (82)\", \"C. Lungu (74)<br>E. Kangwa (74)<br>S. Sunzu (72)\", \"M. Nakamba (79)<br>T. Ndoro (73)<br>W. Katsande (73)\"], \"type\": \"choropleth\", \"z\": [74, 84, 85, 84, 76, 93, 85, 80, 88, 75, 65, 76, 92, 69, 83, 73, 78, 86, 94, 69, 81, 85, 64, 85, 81, 81, 75, 79, 89, 78, 89, 74, 78, 85, 89, 77, 75, 79, 87, 84, 91, 82, 83, 86, 70, 90, 79, 71, 72, 72, 81, 70, 69, 83, 94, 88, 81, 82, 92, 84, 64, 86, 73, 69, 72, 88, 83, 67, 77, 80, 77, 85, 82, 74, 85, 79, 79, 94, 89, 86, 83, 72, 85, 86, 85, 83, 71, 58, 74, 73, 75, 75, 76, 81, 85, 72, 81, 80, 72, 67, 85, 75, 86, 74, 85, 78, 78, 89, 72, 80, 75, 86, 81, 86, 73, 71, 74, 86, 79, 70, 91, 94, 66, 77, 83, 84, 84, 62, 82, 85, 90, 86, 76, 87, 93, 68, 81, 92, 70, 73, 67, 67, 71, 72, 88, 88, 81, 64, 78, 69, 77, 78, 82, 85, 63, 71, 82, 89, 92, 80, 87, 67, 89, 76, 79]}],\n",
       "                        {\"geo\": {\"projection\": {\"type\": \"mercator\"}, \"showcoastlines\": false, \"showframe\": true}, \"template\": {\"data\": {\"bar\": [{\"error_x\": {\"color\": \"#2a3f5f\"}, \"error_y\": {\"color\": \"#2a3f5f\"}, \"marker\": {\"line\": {\"color\": \"#E5ECF6\", \"width\": 0.5}}, \"type\": \"bar\"}], \"barpolar\": [{\"marker\": {\"line\": {\"color\": \"#E5ECF6\", \"width\": 0.5}}, \"type\": \"barpolar\"}], \"carpet\": [{\"aaxis\": {\"endlinecolor\": \"#2a3f5f\", \"gridcolor\": \"white\", \"linecolor\": \"white\", \"minorgridcolor\": \"white\", \"startlinecolor\": \"#2a3f5f\"}, \"baxis\": {\"endlinecolor\": \"#2a3f5f\", \"gridcolor\": \"white\", \"linecolor\": \"white\", \"minorgridcolor\": \"white\", \"startlinecolor\": \"#2a3f5f\"}, \"type\": \"carpet\"}], \"choropleth\": [{\"colorbar\": {\"outlinewidth\": 0, \"ticks\": \"\"}, \"type\": \"choropleth\"}], \"contour\": [{\"colorbar\": {\"outlinewidth\": 0, \"ticks\": \"\"}, \"colorscale\": [[0.0, \"#0d0887\"], [0.1111111111111111, \"#46039f\"], [0.2222222222222222, \"#7201a8\"], [0.3333333333333333, \"#9c179e\"], [0.4444444444444444, \"#bd3786\"], [0.5555555555555556, \"#d8576b\"], [0.6666666666666666, \"#ed7953\"], [0.7777777777777778, \"#fb9f3a\"], [0.8888888888888888, \"#fdca26\"], [1.0, \"#f0f921\"]], \"type\": \"contour\"}], \"contourcarpet\": [{\"colorbar\": {\"outlinewidth\": 0, \"ticks\": \"\"}, \"type\": \"contourcarpet\"}], \"heatmap\": [{\"colorbar\": {\"outlinewidth\": 0, \"ticks\": \"\"}, \"colorscale\": [[0.0, \"#0d0887\"], [0.1111111111111111, \"#46039f\"], [0.2222222222222222, \"#7201a8\"], [0.3333333333333333, \"#9c179e\"], [0.4444444444444444, \"#bd3786\"], [0.5555555555555556, \"#d8576b\"], [0.6666666666666666, \"#ed7953\"], [0.7777777777777778, \"#fb9f3a\"], [0.8888888888888888, \"#fdca26\"], [1.0, \"#f0f921\"]], \"type\": \"heatmap\"}], \"heatmapgl\": [{\"colorbar\": {\"outlinewidth\": 0, \"ticks\": \"\"}, \"colorscale\": [[0.0, \"#0d0887\"], [0.1111111111111111, \"#46039f\"], [0.2222222222222222, \"#7201a8\"], [0.3333333333333333, \"#9c179e\"], [0.4444444444444444, \"#bd3786\"], [0.5555555555555556, \"#d8576b\"], [0.6666666666666666, \"#ed7953\"], [0.7777777777777778, \"#fb9f3a\"], [0.8888888888888888, \"#fdca26\"], [1.0, \"#f0f921\"]], \"type\": \"heatmapgl\"}], \"histogram\": [{\"marker\": {\"colorbar\": {\"outlinewidth\": 0, \"ticks\": \"\"}}, \"type\": \"histogram\"}], \"histogram2d\": [{\"colorbar\": {\"outlinewidth\": 0, \"ticks\": \"\"}, \"colorscale\": [[0.0, \"#0d0887\"], [0.1111111111111111, \"#46039f\"], [0.2222222222222222, \"#7201a8\"], [0.3333333333333333, \"#9c179e\"], [0.4444444444444444, \"#bd3786\"], [0.5555555555555556, \"#d8576b\"], [0.6666666666666666, \"#ed7953\"], [0.7777777777777778, \"#fb9f3a\"], [0.8888888888888888, \"#fdca26\"], [1.0, \"#f0f921\"]], \"type\": \"histogram2d\"}], \"histogram2dcontour\": [{\"colorbar\": {\"outlinewidth\": 0, \"ticks\": \"\"}, \"colorscale\": [[0.0, \"#0d0887\"], [0.1111111111111111, \"#46039f\"], [0.2222222222222222, \"#7201a8\"], [0.3333333333333333, \"#9c179e\"], [0.4444444444444444, \"#bd3786\"], [0.5555555555555556, \"#d8576b\"], [0.6666666666666666, \"#ed7953\"], [0.7777777777777778, \"#fb9f3a\"], [0.8888888888888888, \"#fdca26\"], [1.0, \"#f0f921\"]], \"type\": \"histogram2dcontour\"}], \"mesh3d\": [{\"colorbar\": {\"outlinewidth\": 0, \"ticks\": \"\"}, \"type\": \"mesh3d\"}], \"parcoords\": [{\"line\": {\"colorbar\": {\"outlinewidth\": 0, \"ticks\": \"\"}}, \"type\": \"parcoords\"}], \"pie\": [{\"automargin\": true, \"type\": \"pie\"}], \"scatter\": [{\"marker\": {\"colorbar\": {\"outlinewidth\": 0, \"ticks\": \"\"}}, \"type\": \"scatter\"}], \"scatter3d\": [{\"line\": {\"colorbar\": {\"outlinewidth\": 0, \"ticks\": \"\"}}, \"marker\": {\"colorbar\": {\"outlinewidth\": 0, \"ticks\": \"\"}}, \"type\": \"scatter3d\"}], \"scattercarpet\": [{\"marker\": {\"colorbar\": {\"outlinewidth\": 0, \"ticks\": \"\"}}, \"type\": \"scattercarpet\"}], \"scattergeo\": [{\"marker\": {\"colorbar\": {\"outlinewidth\": 0, \"ticks\": \"\"}}, \"type\": \"scattergeo\"}], \"scattergl\": [{\"marker\": {\"colorbar\": {\"outlinewidth\": 0, \"ticks\": \"\"}}, \"type\": \"scattergl\"}], \"scattermapbox\": [{\"marker\": {\"colorbar\": {\"outlinewidth\": 0, \"ticks\": \"\"}}, \"type\": \"scattermapbox\"}], \"scatterpolar\": [{\"marker\": {\"colorbar\": {\"outlinewidth\": 0, \"ticks\": \"\"}}, \"type\": \"scatterpolar\"}], \"scatterpolargl\": [{\"marker\": {\"colorbar\": {\"outlinewidth\": 0, \"ticks\": \"\"}}, \"type\": \"scatterpolargl\"}], \"scatterternary\": [{\"marker\": {\"colorbar\": {\"outlinewidth\": 0, \"ticks\": \"\"}}, \"type\": \"scatterternary\"}], \"surface\": [{\"colorbar\": {\"outlinewidth\": 0, \"ticks\": \"\"}, \"colorscale\": [[0.0, \"#0d0887\"], [0.1111111111111111, \"#46039f\"], [0.2222222222222222, \"#7201a8\"], [0.3333333333333333, \"#9c179e\"], [0.4444444444444444, \"#bd3786\"], [0.5555555555555556, \"#d8576b\"], [0.6666666666666666, \"#ed7953\"], [0.7777777777777778, \"#fb9f3a\"], [0.8888888888888888, \"#fdca26\"], [1.0, \"#f0f921\"]], \"type\": \"surface\"}], \"table\": [{\"cells\": {\"fill\": {\"color\": \"#EBF0F8\"}, \"line\": {\"color\": \"white\"}}, \"header\": {\"fill\": {\"color\": \"#C8D4E3\"}, \"line\": {\"color\": \"white\"}}, \"type\": \"table\"}]}, \"layout\": {\"annotationdefaults\": {\"arrowcolor\": \"#2a3f5f\", \"arrowhead\": 0, \"arrowwidth\": 1}, \"coloraxis\": {\"colorbar\": {\"outlinewidth\": 0, \"ticks\": \"\"}}, \"colorscale\": {\"diverging\": [[0, \"#8e0152\"], [0.1, \"#c51b7d\"], [0.2, \"#de77ae\"], [0.3, \"#f1b6da\"], [0.4, \"#fde0ef\"], [0.5, \"#f7f7f7\"], [0.6, \"#e6f5d0\"], [0.7, \"#b8e186\"], [0.8, \"#7fbc41\"], [0.9, \"#4d9221\"], [1, \"#276419\"]], \"sequential\": [[0.0, \"#0d0887\"], [0.1111111111111111, \"#46039f\"], [0.2222222222222222, \"#7201a8\"], [0.3333333333333333, \"#9c179e\"], [0.4444444444444444, \"#bd3786\"], [0.5555555555555556, \"#d8576b\"], [0.6666666666666666, \"#ed7953\"], [0.7777777777777778, \"#fb9f3a\"], [0.8888888888888888, \"#fdca26\"], [1.0, \"#f0f921\"]], \"sequentialminus\": [[0.0, \"#0d0887\"], [0.1111111111111111, \"#46039f\"], [0.2222222222222222, \"#7201a8\"], [0.3333333333333333, \"#9c179e\"], [0.4444444444444444, \"#bd3786\"], [0.5555555555555556, \"#d8576b\"], [0.6666666666666666, \"#ed7953\"], [0.7777777777777778, \"#fb9f3a\"], [0.8888888888888888, \"#fdca26\"], [1.0, \"#f0f921\"]]}, \"colorway\": [\"#636efa\", \"#EF553B\", \"#00cc96\", \"#ab63fa\", \"#FFA15A\", \"#19d3f3\", \"#FF6692\", \"#B6E880\", \"#FF97FF\", \"#FECB52\"], \"font\": {\"color\": \"#2a3f5f\"}, \"geo\": {\"bgcolor\": \"white\", \"lakecolor\": \"white\", \"landcolor\": \"#E5ECF6\", \"showlakes\": true, \"showland\": true, \"subunitcolor\": \"white\"}, \"hoverlabel\": {\"align\": \"left\"}, \"hovermode\": \"closest\", \"mapbox\": {\"style\": \"light\"}, \"paper_bgcolor\": \"white\", \"plot_bgcolor\": \"#E5ECF6\", \"polar\": {\"angularaxis\": {\"gridcolor\": \"white\", \"linecolor\": \"white\", \"ticks\": \"\"}, \"bgcolor\": \"#E5ECF6\", \"radialaxis\": {\"gridcolor\": \"white\", \"linecolor\": \"white\", \"ticks\": \"\"}}, \"scene\": {\"xaxis\": {\"backgroundcolor\": \"#E5ECF6\", \"gridcolor\": \"white\", \"gridwidth\": 2, \"linecolor\": \"white\", \"showbackground\": true, \"ticks\": \"\", \"zerolinecolor\": \"white\"}, \"yaxis\": {\"backgroundcolor\": \"#E5ECF6\", \"gridcolor\": \"white\", \"gridwidth\": 2, \"linecolor\": \"white\", \"showbackground\": true, \"ticks\": \"\", \"zerolinecolor\": \"white\"}, \"zaxis\": {\"backgroundcolor\": \"#E5ECF6\", \"gridcolor\": \"white\", \"gridwidth\": 2, \"linecolor\": \"white\", \"showbackground\": true, \"ticks\": \"\", \"zerolinecolor\": \"white\"}}, \"shapedefaults\": {\"line\": {\"color\": \"#2a3f5f\"}}, \"ternary\": {\"aaxis\": {\"gridcolor\": \"white\", \"linecolor\": \"white\", \"ticks\": \"\"}, \"baxis\": {\"gridcolor\": \"white\", \"linecolor\": \"white\", \"ticks\": \"\"}, \"bgcolor\": \"#E5ECF6\", \"caxis\": {\"gridcolor\": \"white\", \"linecolor\": \"white\", \"ticks\": \"\"}}, \"title\": {\"x\": 0.05}, \"xaxis\": {\"automargin\": true, \"gridcolor\": \"white\", \"linecolor\": \"white\", \"ticks\": \"\", \"title\": {\"standoff\": 15}, \"zerolinecolor\": \"white\", \"zerolinewidth\": 2}, \"yaxis\": {\"automargin\": true, \"gridcolor\": \"white\", \"linecolor\": \"white\", \"ticks\": \"\", \"title\": {\"standoff\": 15}, \"zerolinecolor\": \"white\", \"zerolinewidth\": 2}}}, \"title\": {\"text\": \"Maximum potential per nationality\"}},\n",
       "                        {\"responsive\": true}\n",
       "                    ).then(function(){\n",
       "                            \n",
       "var gd = document.getElementById('959f56a4-4791-4cf8-88b0-60b1bdde457f');\n",
       "var x = new MutationObserver(function (mutations, observer) {{\n",
       "        var display = window.getComputedStyle(gd).display;\n",
       "        if (!display || display === 'none') {{\n",
       "            console.log([gd, 'removed!']);\n",
       "            Plotly.purge(gd);\n",
       "            observer.disconnect();\n",
       "        }}\n",
       "}});\n",
       "\n",
       "// Listen for the removal of the full notebook cells\n",
       "var notebookContainer = gd.closest('#notebook-container');\n",
       "if (notebookContainer) {{\n",
       "    x.observe(notebookContainer, {childList: true});\n",
       "}}\n",
       "\n",
       "// Listen for the clearing of the current output cell\n",
       "var outputEl = gd.closest('.output');\n",
       "if (outputEl) {{\n",
       "    x.observe(outputEl, {childList: true});\n",
       "}}\n",
       "\n",
       "                        })\n",
       "                };\n",
       "                });\n",
       "            </script>\n",
       "        </div>"
      ]
     },
     "metadata": {},
     "output_type": "display_data"
    },
    {
     "data": {
      "application/vnd.plotly.v1+json": {
       "config": {
        "linkText": "Export to plot.ly",
        "plotlyServerURL": "https://plot.ly",
        "showLink": false
       },
       "data": [
        {
         "colorbar": {
          "title": {
           "text": "Scale"
          }
         },
         "colorscale": [
          [
           0,
           "rgb(242,240,247)"
          ],
          [
           0.2,
           "rgb(218,218,235)"
          ],
          [
           0.4,
           "rgb(188,189,220)"
          ],
          [
           0.6,
           "rgb(158,154,200)"
          ],
          [
           0.8,
           "rgb(117,107,177)"
          ],
          [
           1,
           "rgb(84,39,143)"
          ]
         ],
         "locationmode": "country names",
         "locations": [
          "Afghanistan",
          "Albania",
          "Algeria",
          "Angola",
          "Antigua & Barbuda",
          "Argentina",
          "Armenia",
          "Australia",
          "Austria",
          "Azerbaijan",
          "Barbados",
          "Belarus",
          "Belgium",
          "Belize",
          "Benin",
          "Bermuda",
          "Bolivia",
          "Bosnia Herzegovina",
          "Brazil",
          "Brunei Darussalam",
          "Bulgaria",
          "Burkina Faso",
          "Burundi",
          "Cameroon",
          "Canada",
          "Cape Verde",
          "Central African Rep.",
          "Chad",
          "Chile",
          "China PR",
          "Colombia",
          "Comoros",
          "Congo",
          "Costa Rica",
          "Croatia",
          "Cuba",
          "Curacao",
          "Cyprus",
          "Czech Republic",
          "DR Congo",
          "Denmark",
          "Dominican Republic",
          "Ecuador",
          "Egypt",
          "El Salvador",
          "United Kingdom",
          "Equatorial Guinea",
          "Eritrea",
          "Estonia",
          "Ethiopia",
          "FYR Macedonia",
          "Faroe Islands",
          "Fiji",
          "Finland",
          "France",
          "Gabon",
          "Gambia",
          "Georgia",
          "Germany",
          "Ghana",
          "Gibraltar",
          "Greece",
          "Grenada",
          "Guam",
          "Guatemala",
          "Guinea",
          "Guinea Bissau",
          "Guyana",
          "Haiti",
          "Honduras",
          "Hong Kong",
          "Hungary",
          "Iceland",
          "India",
          "Iran",
          "Iraq",
          "Israel",
          "Italy",
          "Ivory Coast",
          "Jamaica",
          "Japan",
          "Kazakhstan",
          "Kenya",
          "Korea DPR",
          "Korea Republic",
          "Kosovo",
          "Kuwait",
          "Kyrgyzstan",
          "Latvia",
          "Lebanon",
          "Liberia",
          "Libya",
          "Liechtenstein",
          "Lithuania",
          "Luxembourg",
          "Madagascar",
          "Mali",
          "Malta",
          "Mauritania",
          "Mauritius",
          "Mexico",
          "Moldova",
          "Montenegro",
          "Montserrat",
          "Morocco",
          "Mozambique",
          "Namibia",
          "Netherlands",
          "New Caledonia",
          "New Zealand",
          "Niger",
          "Nigeria",
          "Northern Ireland",
          "Norway",
          "Oman",
          "Palestine",
          "Panama",
          "Paraguay",
          "Peru",
          "Philippines",
          "Poland",
          "Portugal",
          "Puerto Rico",
          "Qatar",
          "Republic of Ireland",
          "Romania",
          "Russia",
          "San Marino",
          "Saudi Arabia",
          "Scotland",
          "Senegal",
          "Serbia",
          "Sierra Leone",
          "Slovakia",
          "Slovenia",
          "Somalia",
          "South Africa",
          "Spain",
          "Sri Lanka",
          "St Kitts Nevis",
          "St Lucia",
          "Sudan",
          "Suriname",
          "Swaziland",
          "Sweden",
          "Switzerland",
          "Syria",
          "São Tomé & Príncipe",
          "Tanzania",
          "Thailand",
          "Togo",
          "Trinidad & Tobago",
          "Tunisia",
          "Turkey",
          "Turkmenistan",
          "Uganda",
          "Ukraine",
          "United States",
          "Uruguay",
          "Uzbekistan",
          "Venezuela",
          "Vietnam",
          "Wales",
          "Zambia",
          "Zimbabwe"
         ],
         "reversescale": false,
         "text": [
          "S. Mukhammad (27)<br>N. Husin (20)<br>M. Kouhyar (19)",
          "M. Mavraj (31)<br>E. Berisha (28)<br>E. Hysaj (23)",
          "I. Slimani (29)<br>Y. Brahimi (27)<br>R. Mahrez (26)",
          "Mateus (33)<br>Djalma (30)<br>Bastos (25)",
          "J. Parker (26)<br>C. Jahraldo-Martin (24)<br>M. Romeo (21)",
          "L. Messi (30)<br>G. Higuaín (29)<br>S. Agüero (29)",
          "Marcos Pizzelli (32)<br>H. Mkhitaryan (28)<br>A. Özbiliz (27)",
          "B. Jones (35)<br>A. Mooy (26)<br>M. Ryan (25)",
          "S. Prödl (30)<br>M. Arnautović (28)<br>D. Alaba (25)",
          "D. Yılmaz (29)<br>D. Nazarov (27)<br>Eddy (24)",
          "J. Forte (30)",
          "T. Kalachev (36)<br>A. Martynovich (29)<br>Renan Bressan (28)",
          "E. Hazard (26)<br>K. De Bruyne (26)<br>T. Courtois (25)",
          "M. Salazar (24)",
          "S. Sessègnon (33)<br>J. Adéoti (28)<br>S. Mounié (22)",
          "N. Wells (27)<br>R. Lambe (26)<br>Z. Lewis (23)",
          "P. Escobar (38)<br>M. Martins (30)<br>J. Campos (29)",
          "E. Džeko (31)<br>A. Begović (30)<br>M. Pjanić (27)",
          "Thiago Silva (32)<br>Marcelo (29)<br>Neymar (25)",
          "F. Bolkiah (19)",
          "V. Stoyanov (30)<br>I. Popov (29)<br>G. Milanov (25)",
          "C. Kaboré (29)<br>B. Koné (29)<br>B. Traoré (21)",
          "C. Amissi (27)",
          "S. Eto'o (36)<br>C. Kameni (33)<br>J. Matip (25)",
          "A. Hutchinson (34)<br>S. Arfield (28)<br>C. Larin (22)",
          "Varela (29)<br>Zé Luís (26)<br>Garry Rodrigues (26)",
          "E. Enza-Yamissi (34)<br>C. Yambéré (26)<br>A. Youga (24)",
          "S. Altama (26)<br>C. Ninga (24)",
          "A. Vidal (30)<br>G. Medel (29)<br>A. Sánchez (28)",
          "Zheng Zhi (36)<br>Gao Lin (31)<br>Zeng Cheng (30)",
          "Falcao (31)<br>C. Bacca (30)<br>J. Rodríguez (25)",
          "K. Abdallah (30)<br>E. Ben Nabouhane (28)<br>R. Abdullah (23)",
          "C. Samba (33)<br>D. N'Dinga (29)<br>T. Bifouma (25)",
          "B. Ruíz (31)<br>K. Navas (30)<br>O. Duarte (28)",
          "D. Subašić (32)<br>L. Modrić (31)<br>I. Rakitić (29)",
          "O. Alonso (31)<br>O. Hernández (24)",
          "E. Room (28)<br>C. Martina (27)<br>L. Bacuna (25)",
          "V. Sielis (27)<br>K. Laifis (24)<br>P. Sotiriou (24)",
          "T. Rosický (36)<br>P. Čech (35)<br>V. Darida (26)",
          "Y. Bolasie (28)<br>C. Bakambu (26)<br>G. Kakuta (26)",
          "K. Schmeichel (30)<br>C. Eriksen (25)<br>A. Christensen (21)",
          "Tano Bonnin (27)<br>Mariano (23)<br>J. Firpo (20)",
          "C. Noboa (32)<br>A. Valencia (31)<br>J. Montero (27)",
          "M. Salah (25)<br>M. Elneny (24)<br>A. Hassan (24)",
          "A. Alvarez (32)<br>D. Cerén (27)",
          "G. Cahill (31)<br>H. Kane (23)<br>D. Alli (21)",
          "A. Ngamukol (29)<br>Nsue (27)<br>Iban Salvador (21)",
          "H. Goitom (32)",
          "K. Vassiljev (32)<br>K. Mets (24)<br>N. Baranov (24)",
          "A. Askar (31)<br>G. Panom (22)",
          "G. Pandev (33)<br>I. Nestorovski (27)<br>S. Ristovski (25)",
          "J. Edmundsson (25)<br>H. Hansson (24)<br>G. Rólantsson Sørensen (24)",
          "R. Krishna (29)",
          "N. Moisander (31)<br>P. Hetemaj (30)<br>L. Hrádecký (27)",
          "H. Lloris (30)<br>A. Griezmann (26)<br>N. Kanté (26)",
          "P. Aubameyang (28)<br>M. Lemina (23)<br>D. Ndong (23)",
          "O. Colley (24)<br>M. Barrow (24)<br>B. Sanneh (22)",
          "G. Kashia (29)<br>V. Qazaishvili (24)<br>J. Ananidze (24)",
          "M. Neuer (31)<br>J. Boateng (28)<br>T. Kroos (27)",
          "A. Gyan (31)<br>K. Boateng (30)<br>A. Ayew (27)",
          "S. Wiseman (31)<br>L. Walker (29)",
          "O. Karnezis (31)<br>Sokratis (29)<br>K. Manolas (26)",
          "A. Pierre (24)",
          "A. DeLaGarza (29)",
          "R. Jérez (31)",
          "I. Traoré (29)<br>F. Pogba (26)<br>N. Keïta (22)",
          "F. Mendy (28)<br>Gerso (26)<br>Pelé (25)",
          "N. Danns (34)<br>W. Creavalle (26)<br>M. Briggs (26)",
          "R. Genevois (29)<br>R. Goreux (29)<br>J. Louis (24)",
          "A. Najar (24)<br>A. Lozano (24)<br>A. Elis (21)",
          "Dai Wai-Tsun (17)",
          "N. Nikolić (29)<br>A. Szalai (29)<br>P. Gulácsi (27)",
          "E. Hallfreðsson (33)<br>A. Finnbogason (28)<br>G. Sigurðsson (27)",
          "S. Chhetri (32)<br>S. Paul (30)<br>L. Ralte (24)",
          "A. Jahanbakhsh (23)<br>M. Mohammadi (23)<br>S. Azmoun (22)",
          "B. Nouri (30)<br>J. Meram (28)<br>A. Adnan (23)",
          "L. Refaelov (31)<br>B. Natcho (29)<br>M. Dabbur (25)",
          "G. Buffon (39)<br>G. Chiellini (32)<br>L. Bonucci (30)",
          "Y. Touré (34)<br>J. Seri (25)<br>E. Bailly (23)",
          "W. Morgan (33)<br>A. Blake (26)<br>L. Bailey (19)",
          "K. Honda (31)<br>T. Inui (29)<br>S. Kagawa (28)",
          "K. Engel (28)<br>A. Merkel (25)<br>W. Evseev (25)",
          "M. Mariga (30)<br>V. Wanyama (26)<br>M. Olunga (23)",
          "Chong Te Se (33)<br>Pak Kwang Ryong (24)<br>Han Kwang Song (18)",
          "Koo Ja Cheol (28)<br>H. Son (24)<br>Yoon Bo Sang (23)",
          "B. Berisha (31)<br>V. Berisha (24)<br>M. Rashica (21)",
          "F. Al Berahim (30)<br>F. Al Hajeri (25)",
          "V. Lux (28)",
          "A. Vaņins (37)<br>A. Rudņevs (29)<br>I. Tarasovs (28)",
          "S. Saad (24)<br>B. Jradi (23)<br>H. El Helwe (22)",
          "W. Jebor (25)<br>S. Nimely (18)",
          "A. Benali (25)<br>H. Elhouni (23)",
          "M. Büchel (26)<br>N. Hasler (26)<br>Y. Frick (19)",
          "Z. Karčemarskas (34)<br>F. Černych (26)<br>L. Spalvis (22)",
          "M. Chanot (27)<br>A. Moris (27)<br>L. Jans (24)",
          "I. Andriatsima (33)<br>L. Nomenjanahary (31)<br>C. Andriamahitsinoro (27)",
          "M. Marega (26)<br>M. Wagué (26)<br>A. Niane (24)",
          "M. Muscat (32)<br>L. Gambin (24)<br>M. Beerman (18)",
          "D. Guidileye (27)<br>A. Ba (23)",
          "K. Bru (28)",
          "J. Hernández (29)<br>C. Vela (28)<br>J. Corona (24)",
          "A. Epureanu (30)<br>I. Armaş (29)<br>A. Ioniţă (26)",
          "D. Damjanović (35)<br>S. Jovetić (27)<br>S. Savić (26)",
          "L. Taylor (27)<br>A. Dyer (27)<br>D. Daniels (23)",
          "M. Benatia (30)<br>Y. Belhanda (27)<br>H. Ziyech (24)",
          "Zainadine (29)<br>Mexer (28)<br>Gildo (22)",
          "M. Starke (26)<br>R. Nyambe (19)",
          "A. Robben (33)<br>K. Strootman (27)<br>V. van Dijk (25)",
          "W. Lautoa (29)<br>G. Gope-Fenepej (28)",
          "W. Reid (28)<br>C. Wood (25)<br>M. Rojas (25)",
          "M. Maâzou (28)<br>O. Bonnes (27)<br>S. Koita (23)",
          "V. Enyeama (34)<br>V. Moses (26)<br>O. Ndidi (20)",
          "G. McAuley (37)<br>S. Davis (32)<br>J. Evans (29)",
          "R. Jarstein (32)<br>P. Skjelbred (30)<br>M. Elyounoussi (22)",
          "A. Al-Habsi (35)",
          "C. Salom (30)<br>M. Eid (24)<br>H. Aiesh (22)",
          "G. Gómez (33)<br>A. Machado (32)<br>A. Godoy (27)",
          "H. Pérez (28)<br>M. Almirón (23)<br>A. Sanabria (21)",
          "J. Farfán (32)<br>A. Carrillo (26)<br>P. Hurtado (26)",
          "S. Palla (28)<br>N. Etheridge (27)<br>D. Sato (22)",
          "L. Piszczek (32)<br>K. Glik (29)<br>R. Lewandowski (28)",
          "Pepe (34)<br>Cristiano Ronaldo (32)<br>Bernardo Silva (22)",
          "J. Saunders (36)<br>J. Hernandez (33)",
          "A. Fadlalla (23)<br>Y. Ahmed (23)<br>A. Afif (20)",
          "W. Hoolahan (35)<br>S. Coleman (28)<br>J. McCarthy (26)",
          "C. Tătăruşanu (31)<br>S. Radu (30)<br>F. Andone (24)",
          "A. Dzagoev (27)<br>Mário Fernandes (26)<br>O. Shatov (26)",
          "E. Benedettini (22)",
          "O. Hawsawi (33)<br>O. Othman (31)<br>N. Al Abed (27)",
          "D. Fletcher (33)<br>M. Phillips (26)<br>T. Cairney (26)",
          "I. Gueye (27)<br>K. Koulibaly (26)<br>S. Mané (25)",
          "B. Ivanović (33)<br>N. Matić (28)<br>L. Fejsa (28)",
          "K. Kamara (32)<br>A. Kamara (24)<br>M. Turay (22)",
          "M. Škrtel (32)<br>J. Kucka (30)<br>M. Hamšík (29)",
          "S. Handanovič (32)<br>K. Kampl (26)<br>J. Oblak (24)",
          "L. Abdi (28)",
          "S. Tshabalala (32)<br>I. Khune (30)<br>P. Tau (23)",
          "Sergio Ramos (31)<br>De Gea (26)<br>Thiago (26)",
          "A. Razeek (22)",
          "A. Harris (32)<br>R. Sawyers (25)<br>O. Sterling-James (23)",
          "J. Donacien (23)",
          "M. Al Dhaw (23)<br>M. Eisa (22)",
          "G. Zuiverloon (30)<br>K. Leerdam (27)<br>R. Alberg (26)",
          "I. Rako (20)",
          "Z. Ibrahimović (35)<br>M. Berg (30)<br>E. Forsberg (25)",
          "Y. Sommer (28)<br>R. Bürki (26)<br>G. Xhaka (24)",
          "O. Al Soma (28)<br>O. Al Soma (28)<br>O. Kharbin (23)",
          "Luís Leal (30)",
          "M. Samatta (24)<br>F. Mussa (21)",
          "C. Songkrasin (23)<br>W. Jakkit (20)",
          "S. Gakpé (30)<br>M. Dossevi (29)<br>F. Ayité (28)",
          "K. Molino (27)<br>J. Bostock (25)<br>J. Jones (25)",
          "Y. Benalouane (30)<br>A. Abdennour (27)<br>E. Skhiri (22)",
          "A. Turan (30)<br>O. Toprak (27)<br>O. Özyakup (24)",
          "M. Kazankov (30)",
          "M. Azira (29)<br>A. Kakuba (26)<br>M. Lorenzen (22)",
          "A. Yarmolenko (27)<br>T. Stepanenko (27)<br>Y. Rakitskyi (27)",
          "F. Johnson (29)<br>J. Brooks (24)<br>C. Pulisic (18)",
          "D. Godín (31)<br>L. Suárez (30)<br>E. Cavani (30)",
          "V. Denisov (30)<br>V. Afonin (29)<br>V. Galiulin (29)",
          "T. Rincón (29)<br>S. Rondón (27)<br>J. Martínez (24)",
          "Luong Xuan Truong (22)",
          "A. Williams (32)<br>G. Bale (27)<br>A. Ramsey (26)",
          "S. Sunzu (28)<br>C. Lungu (26)<br>E. Kangwa (24)",
          "W. Katsande (31)<br>T. Ndoro (29)<br>M. Nakamba (23)"
         ],
         "type": "choropleth",
         "z": [
          22,
          24.685714285714287,
          26.54385964912281,
          25.6,
          22.4,
          25.932642487046632,
          26.071428571428573,
          24.312775330396477,
          24.515037593984964,
          25,
          30,
          29.555555555555557,
          23.893382352941178,
          24,
          25.785714285714285,
          27,
          27.333333333333332,
          26.09090909090909,
          27.208128078817733,
          19,
          27.454545454545453,
          25.071428571428573,
          27,
          24.569767441860463,
          25.29090909090909,
          25.59090909090909,
          26.75,
          25,
          28.72533333333333,
          27.3,
          25.388513513513512,
          27.11111111111111,
          24.681818181818183,
          26.344827586206897,
          24.98165137614679,
          27.5,
          25,
          22,
          26.506849315068493,
          24.75862068965517,
          24.36416184971098,
          23.333333333333332,
          27.054054054054053,
          27.25,
          29.5,
          23.91963190184049,
          25.5,
          32,
          27,
          26.5,
          24.705882352941178,
          22.5,
          29,
          24.822580645161292,
          24.634969325153374,
          25.5,
          23.733333333333334,
          24.322580645161292,
          24.20263157894737,
          23.581196581196583,
          30,
          24.418367346938776,
          24,
          29,
          31,
          24.64,
          23.5625,
          28,
          24.571428571428573,
          27.384615384615383,
          17,
          26.10810810810811,
          25.67924528301887,
          25.833333333333332,
          24.88235294117647,
          26,
          26.833333333333332,
          25.619524405506883,
          24.10891089108911,
          27.56756756756757,
          26.56503198294243,
          26,
          26.571428571428573,
          25.5,
          25.845454545454544,
          23.9375,
          27.5,
          28,
          28.142857142857142,
          22.8,
          21.5,
          24,
          23.666666666666668,
          24.5,
          23.125,
          28.5,
          24.152173913043477,
          24.666666666666668,
          25,
          28,
          24.927777777777777,
          26.5,
          24.92,
          24.5,
          24.76923076923077,
          26.333333333333332,
          22.5,
          24.027972027972027,
          28.5,
          24.57894736842105,
          26,
          23.42063492063492,
          25.558139534883722,
          24.027027027027028,
          35,
          25,
          25.8125,
          26.10144927536232,
          25.966666666666665,
          25.666666666666668,
          25.23145400593472,
          25.26158038147139,
          34.5,
          21.666666666666668,
          24.690647482014388,
          26.728813559322035,
          25.23202614379085,
          22,
          25.252279635258358,
          24.453333333333333,
          25.046511627906977,
          25.413533834586467,
          24.444444444444443,
          25.625,
          26.4,
          28,
          26.07792207792208,
          25.211972522080472,
          22,
          26.666666666666668,
          23,
          22.5,
          27.666666666666668,
          20,
          25.119565217391305,
          24.05579399141631,
          26.333333333333332,
          30,
          22.5,
          21.5,
          28,
          25.11111111111111,
          27.161290322580644,
          25.127147766323024,
          30,
          24.75,
          26.020408163265305,
          25.27296587926509,
          26.124183006535947,
          27.6,
          24.784313725490197,
          22,
          24.926829268292682,
          22,
          25.545454545454547
         ]
        }
       ],
       "layout": {
        "geo": {
         "projection": {
          "type": "mercator"
         },
         "showcoastlines": false,
         "showframe": true
        },
        "template": {
         "data": {
          "bar": [
           {
            "error_x": {
             "color": "#2a3f5f"
            },
            "error_y": {
             "color": "#2a3f5f"
            },
            "marker": {
             "line": {
              "color": "#E5ECF6",
              "width": 0.5
             }
            },
            "type": "bar"
           }
          ],
          "barpolar": [
           {
            "marker": {
             "line": {
              "color": "#E5ECF6",
              "width": 0.5
             }
            },
            "type": "barpolar"
           }
          ],
          "carpet": [
           {
            "aaxis": {
             "endlinecolor": "#2a3f5f",
             "gridcolor": "white",
             "linecolor": "white",
             "minorgridcolor": "white",
             "startlinecolor": "#2a3f5f"
            },
            "baxis": {
             "endlinecolor": "#2a3f5f",
             "gridcolor": "white",
             "linecolor": "white",
             "minorgridcolor": "white",
             "startlinecolor": "#2a3f5f"
            },
            "type": "carpet"
           }
          ],
          "choropleth": [
           {
            "colorbar": {
             "outlinewidth": 0,
             "ticks": ""
            },
            "type": "choropleth"
           }
          ],
          "contour": [
           {
            "colorbar": {
             "outlinewidth": 0,
             "ticks": ""
            },
            "colorscale": [
             [
              0,
              "#0d0887"
             ],
             [
              0.1111111111111111,
              "#46039f"
             ],
             [
              0.2222222222222222,
              "#7201a8"
             ],
             [
              0.3333333333333333,
              "#9c179e"
             ],
             [
              0.4444444444444444,
              "#bd3786"
             ],
             [
              0.5555555555555556,
              "#d8576b"
             ],
             [
              0.6666666666666666,
              "#ed7953"
             ],
             [
              0.7777777777777778,
              "#fb9f3a"
             ],
             [
              0.8888888888888888,
              "#fdca26"
             ],
             [
              1,
              "#f0f921"
             ]
            ],
            "type": "contour"
           }
          ],
          "contourcarpet": [
           {
            "colorbar": {
             "outlinewidth": 0,
             "ticks": ""
            },
            "type": "contourcarpet"
           }
          ],
          "heatmap": [
           {
            "colorbar": {
             "outlinewidth": 0,
             "ticks": ""
            },
            "colorscale": [
             [
              0,
              "#0d0887"
             ],
             [
              0.1111111111111111,
              "#46039f"
             ],
             [
              0.2222222222222222,
              "#7201a8"
             ],
             [
              0.3333333333333333,
              "#9c179e"
             ],
             [
              0.4444444444444444,
              "#bd3786"
             ],
             [
              0.5555555555555556,
              "#d8576b"
             ],
             [
              0.6666666666666666,
              "#ed7953"
             ],
             [
              0.7777777777777778,
              "#fb9f3a"
             ],
             [
              0.8888888888888888,
              "#fdca26"
             ],
             [
              1,
              "#f0f921"
             ]
            ],
            "type": "heatmap"
           }
          ],
          "heatmapgl": [
           {
            "colorbar": {
             "outlinewidth": 0,
             "ticks": ""
            },
            "colorscale": [
             [
              0,
              "#0d0887"
             ],
             [
              0.1111111111111111,
              "#46039f"
             ],
             [
              0.2222222222222222,
              "#7201a8"
             ],
             [
              0.3333333333333333,
              "#9c179e"
             ],
             [
              0.4444444444444444,
              "#bd3786"
             ],
             [
              0.5555555555555556,
              "#d8576b"
             ],
             [
              0.6666666666666666,
              "#ed7953"
             ],
             [
              0.7777777777777778,
              "#fb9f3a"
             ],
             [
              0.8888888888888888,
              "#fdca26"
             ],
             [
              1,
              "#f0f921"
             ]
            ],
            "type": "heatmapgl"
           }
          ],
          "histogram": [
           {
            "marker": {
             "colorbar": {
              "outlinewidth": 0,
              "ticks": ""
             }
            },
            "type": "histogram"
           }
          ],
          "histogram2d": [
           {
            "colorbar": {
             "outlinewidth": 0,
             "ticks": ""
            },
            "colorscale": [
             [
              0,
              "#0d0887"
             ],
             [
              0.1111111111111111,
              "#46039f"
             ],
             [
              0.2222222222222222,
              "#7201a8"
             ],
             [
              0.3333333333333333,
              "#9c179e"
             ],
             [
              0.4444444444444444,
              "#bd3786"
             ],
             [
              0.5555555555555556,
              "#d8576b"
             ],
             [
              0.6666666666666666,
              "#ed7953"
             ],
             [
              0.7777777777777778,
              "#fb9f3a"
             ],
             [
              0.8888888888888888,
              "#fdca26"
             ],
             [
              1,
              "#f0f921"
             ]
            ],
            "type": "histogram2d"
           }
          ],
          "histogram2dcontour": [
           {
            "colorbar": {
             "outlinewidth": 0,
             "ticks": ""
            },
            "colorscale": [
             [
              0,
              "#0d0887"
             ],
             [
              0.1111111111111111,
              "#46039f"
             ],
             [
              0.2222222222222222,
              "#7201a8"
             ],
             [
              0.3333333333333333,
              "#9c179e"
             ],
             [
              0.4444444444444444,
              "#bd3786"
             ],
             [
              0.5555555555555556,
              "#d8576b"
             ],
             [
              0.6666666666666666,
              "#ed7953"
             ],
             [
              0.7777777777777778,
              "#fb9f3a"
             ],
             [
              0.8888888888888888,
              "#fdca26"
             ],
             [
              1,
              "#f0f921"
             ]
            ],
            "type": "histogram2dcontour"
           }
          ],
          "mesh3d": [
           {
            "colorbar": {
             "outlinewidth": 0,
             "ticks": ""
            },
            "type": "mesh3d"
           }
          ],
          "parcoords": [
           {
            "line": {
             "colorbar": {
              "outlinewidth": 0,
              "ticks": ""
             }
            },
            "type": "parcoords"
           }
          ],
          "pie": [
           {
            "automargin": true,
            "type": "pie"
           }
          ],
          "scatter": [
           {
            "marker": {
             "colorbar": {
              "outlinewidth": 0,
              "ticks": ""
             }
            },
            "type": "scatter"
           }
          ],
          "scatter3d": [
           {
            "line": {
             "colorbar": {
              "outlinewidth": 0,
              "ticks": ""
             }
            },
            "marker": {
             "colorbar": {
              "outlinewidth": 0,
              "ticks": ""
             }
            },
            "type": "scatter3d"
           }
          ],
          "scattercarpet": [
           {
            "marker": {
             "colorbar": {
              "outlinewidth": 0,
              "ticks": ""
             }
            },
            "type": "scattercarpet"
           }
          ],
          "scattergeo": [
           {
            "marker": {
             "colorbar": {
              "outlinewidth": 0,
              "ticks": ""
             }
            },
            "type": "scattergeo"
           }
          ],
          "scattergl": [
           {
            "marker": {
             "colorbar": {
              "outlinewidth": 0,
              "ticks": ""
             }
            },
            "type": "scattergl"
           }
          ],
          "scattermapbox": [
           {
            "marker": {
             "colorbar": {
              "outlinewidth": 0,
              "ticks": ""
             }
            },
            "type": "scattermapbox"
           }
          ],
          "scatterpolar": [
           {
            "marker": {
             "colorbar": {
              "outlinewidth": 0,
              "ticks": ""
             }
            },
            "type": "scatterpolar"
           }
          ],
          "scatterpolargl": [
           {
            "marker": {
             "colorbar": {
              "outlinewidth": 0,
              "ticks": ""
             }
            },
            "type": "scatterpolargl"
           }
          ],
          "scatterternary": [
           {
            "marker": {
             "colorbar": {
              "outlinewidth": 0,
              "ticks": ""
             }
            },
            "type": "scatterternary"
           }
          ],
          "surface": [
           {
            "colorbar": {
             "outlinewidth": 0,
             "ticks": ""
            },
            "colorscale": [
             [
              0,
              "#0d0887"
             ],
             [
              0.1111111111111111,
              "#46039f"
             ],
             [
              0.2222222222222222,
              "#7201a8"
             ],
             [
              0.3333333333333333,
              "#9c179e"
             ],
             [
              0.4444444444444444,
              "#bd3786"
             ],
             [
              0.5555555555555556,
              "#d8576b"
             ],
             [
              0.6666666666666666,
              "#ed7953"
             ],
             [
              0.7777777777777778,
              "#fb9f3a"
             ],
             [
              0.8888888888888888,
              "#fdca26"
             ],
             [
              1,
              "#f0f921"
             ]
            ],
            "type": "surface"
           }
          ],
          "table": [
           {
            "cells": {
             "fill": {
              "color": "#EBF0F8"
             },
             "line": {
              "color": "white"
             }
            },
            "header": {
             "fill": {
              "color": "#C8D4E3"
             },
             "line": {
              "color": "white"
             }
            },
            "type": "table"
           }
          ]
         },
         "layout": {
          "annotationdefaults": {
           "arrowcolor": "#2a3f5f",
           "arrowhead": 0,
           "arrowwidth": 1
          },
          "coloraxis": {
           "colorbar": {
            "outlinewidth": 0,
            "ticks": ""
           }
          },
          "colorscale": {
           "diverging": [
            [
             0,
             "#8e0152"
            ],
            [
             0.1,
             "#c51b7d"
            ],
            [
             0.2,
             "#de77ae"
            ],
            [
             0.3,
             "#f1b6da"
            ],
            [
             0.4,
             "#fde0ef"
            ],
            [
             0.5,
             "#f7f7f7"
            ],
            [
             0.6,
             "#e6f5d0"
            ],
            [
             0.7,
             "#b8e186"
            ],
            [
             0.8,
             "#7fbc41"
            ],
            [
             0.9,
             "#4d9221"
            ],
            [
             1,
             "#276419"
            ]
           ],
           "sequential": [
            [
             0,
             "#0d0887"
            ],
            [
             0.1111111111111111,
             "#46039f"
            ],
            [
             0.2222222222222222,
             "#7201a8"
            ],
            [
             0.3333333333333333,
             "#9c179e"
            ],
            [
             0.4444444444444444,
             "#bd3786"
            ],
            [
             0.5555555555555556,
             "#d8576b"
            ],
            [
             0.6666666666666666,
             "#ed7953"
            ],
            [
             0.7777777777777778,
             "#fb9f3a"
            ],
            [
             0.8888888888888888,
             "#fdca26"
            ],
            [
             1,
             "#f0f921"
            ]
           ],
           "sequentialminus": [
            [
             0,
             "#0d0887"
            ],
            [
             0.1111111111111111,
             "#46039f"
            ],
            [
             0.2222222222222222,
             "#7201a8"
            ],
            [
             0.3333333333333333,
             "#9c179e"
            ],
            [
             0.4444444444444444,
             "#bd3786"
            ],
            [
             0.5555555555555556,
             "#d8576b"
            ],
            [
             0.6666666666666666,
             "#ed7953"
            ],
            [
             0.7777777777777778,
             "#fb9f3a"
            ],
            [
             0.8888888888888888,
             "#fdca26"
            ],
            [
             1,
             "#f0f921"
            ]
           ]
          },
          "colorway": [
           "#636efa",
           "#EF553B",
           "#00cc96",
           "#ab63fa",
           "#FFA15A",
           "#19d3f3",
           "#FF6692",
           "#B6E880",
           "#FF97FF",
           "#FECB52"
          ],
          "font": {
           "color": "#2a3f5f"
          },
          "geo": {
           "bgcolor": "white",
           "lakecolor": "white",
           "landcolor": "#E5ECF6",
           "showlakes": true,
           "showland": true,
           "subunitcolor": "white"
          },
          "hoverlabel": {
           "align": "left"
          },
          "hovermode": "closest",
          "mapbox": {
           "style": "light"
          },
          "paper_bgcolor": "white",
          "plot_bgcolor": "#E5ECF6",
          "polar": {
           "angularaxis": {
            "gridcolor": "white",
            "linecolor": "white",
            "ticks": ""
           },
           "bgcolor": "#E5ECF6",
           "radialaxis": {
            "gridcolor": "white",
            "linecolor": "white",
            "ticks": ""
           }
          },
          "scene": {
           "xaxis": {
            "backgroundcolor": "#E5ECF6",
            "gridcolor": "white",
            "gridwidth": 2,
            "linecolor": "white",
            "showbackground": true,
            "ticks": "",
            "zerolinecolor": "white"
           },
           "yaxis": {
            "backgroundcolor": "#E5ECF6",
            "gridcolor": "white",
            "gridwidth": 2,
            "linecolor": "white",
            "showbackground": true,
            "ticks": "",
            "zerolinecolor": "white"
           },
           "zaxis": {
            "backgroundcolor": "#E5ECF6",
            "gridcolor": "white",
            "gridwidth": 2,
            "linecolor": "white",
            "showbackground": true,
            "ticks": "",
            "zerolinecolor": "white"
           }
          },
          "shapedefaults": {
           "line": {
            "color": "#2a3f5f"
           }
          },
          "ternary": {
           "aaxis": {
            "gridcolor": "white",
            "linecolor": "white",
            "ticks": ""
           },
           "baxis": {
            "gridcolor": "white",
            "linecolor": "white",
            "ticks": ""
           },
           "bgcolor": "#E5ECF6",
           "caxis": {
            "gridcolor": "white",
            "linecolor": "white",
            "ticks": ""
           }
          },
          "title": {
           "x": 0.05
          },
          "xaxis": {
           "automargin": true,
           "gridcolor": "white",
           "linecolor": "white",
           "ticks": "",
           "title": {
            "standoff": 15
           },
           "zerolinecolor": "white",
           "zerolinewidth": 2
          },
          "yaxis": {
           "automargin": true,
           "gridcolor": "white",
           "linecolor": "white",
           "ticks": "",
           "title": {
            "standoff": 15
           },
           "zerolinecolor": "white",
           "zerolinewidth": 2
          }
         }
        },
        "title": {
         "text": "Average age per nationality"
        }
       }
      },
      "text/html": [
       "<div>\n",
       "        \n",
       "        \n",
       "            <div id=\"bbaaf828-94fe-4950-a02a-760eccd89c37\" class=\"plotly-graph-div\" style=\"height:525px; width:100%;\"></div>\n",
       "            <script type=\"text/javascript\">\n",
       "                require([\"plotly\"], function(Plotly) {\n",
       "                    window.PLOTLYENV=window.PLOTLYENV || {};\n",
       "                    \n",
       "                if (document.getElementById(\"bbaaf828-94fe-4950-a02a-760eccd89c37\")) {\n",
       "                    Plotly.newPlot(\n",
       "                        'bbaaf828-94fe-4950-a02a-760eccd89c37',\n",
       "                        [{\"colorbar\": {\"title\": {\"text\": \"Scale\"}}, \"colorscale\": [[0.0, \"rgb(242,240,247)\"], [0.2, \"rgb(218,218,235)\"], [0.4, \"rgb(188,189,220)\"], [0.6, \"rgb(158,154,200)\"], [0.8, \"rgb(117,107,177)\"], [1.0, \"rgb(84,39,143)\"]], \"locationmode\": \"country names\", \"locations\": [\"Afghanistan\", \"Albania\", \"Algeria\", \"Angola\", \"Antigua & Barbuda\", \"Argentina\", \"Armenia\", \"Australia\", \"Austria\", \"Azerbaijan\", \"Barbados\", \"Belarus\", \"Belgium\", \"Belize\", \"Benin\", \"Bermuda\", \"Bolivia\", \"Bosnia Herzegovina\", \"Brazil\", \"Brunei Darussalam\", \"Bulgaria\", \"Burkina Faso\", \"Burundi\", \"Cameroon\", \"Canada\", \"Cape Verde\", \"Central African Rep.\", \"Chad\", \"Chile\", \"China PR\", \"Colombia\", \"Comoros\", \"Congo\", \"Costa Rica\", \"Croatia\", \"Cuba\", \"Curacao\", \"Cyprus\", \"Czech Republic\", \"DR Congo\", \"Denmark\", \"Dominican Republic\", \"Ecuador\", \"Egypt\", \"El Salvador\", \"United Kingdom\", \"Equatorial Guinea\", \"Eritrea\", \"Estonia\", \"Ethiopia\", \"FYR Macedonia\", \"Faroe Islands\", \"Fiji\", \"Finland\", \"France\", \"Gabon\", \"Gambia\", \"Georgia\", \"Germany\", \"Ghana\", \"Gibraltar\", \"Greece\", \"Grenada\", \"Guam\", \"Guatemala\", \"Guinea\", \"Guinea Bissau\", \"Guyana\", \"Haiti\", \"Honduras\", \"Hong Kong\", \"Hungary\", \"Iceland\", \"India\", \"Iran\", \"Iraq\", \"Israel\", \"Italy\", \"Ivory Coast\", \"Jamaica\", \"Japan\", \"Kazakhstan\", \"Kenya\", \"Korea DPR\", \"Korea Republic\", \"Kosovo\", \"Kuwait\", \"Kyrgyzstan\", \"Latvia\", \"Lebanon\", \"Liberia\", \"Libya\", \"Liechtenstein\", \"Lithuania\", \"Luxembourg\", \"Madagascar\", \"Mali\", \"Malta\", \"Mauritania\", \"Mauritius\", \"Mexico\", \"Moldova\", \"Montenegro\", \"Montserrat\", \"Morocco\", \"Mozambique\", \"Namibia\", \"Netherlands\", \"New Caledonia\", \"New Zealand\", \"Niger\", \"Nigeria\", \"Northern Ireland\", \"Norway\", \"Oman\", \"Palestine\", \"Panama\", \"Paraguay\", \"Peru\", \"Philippines\", \"Poland\", \"Portugal\", \"Puerto Rico\", \"Qatar\", \"Republic of Ireland\", \"Romania\", \"Russia\", \"San Marino\", \"Saudi Arabia\", \"Scotland\", \"Senegal\", \"Serbia\", \"Sierra Leone\", \"Slovakia\", \"Slovenia\", \"Somalia\", \"South Africa\", \"Spain\", \"Sri Lanka\", \"St Kitts Nevis\", \"St Lucia\", \"Sudan\", \"Suriname\", \"Swaziland\", \"Sweden\", \"Switzerland\", \"Syria\", \"S\\u00e3o Tom\\u00e9 & Pr\\u00edncipe\", \"Tanzania\", \"Thailand\", \"Togo\", \"Trinidad & Tobago\", \"Tunisia\", \"Turkey\", \"Turkmenistan\", \"Uganda\", \"Ukraine\", \"United States\", \"Uruguay\", \"Uzbekistan\", \"Venezuela\", \"Vietnam\", \"Wales\", \"Zambia\", \"Zimbabwe\"], \"reversescale\": false, \"text\": [\"S. Mukhammad (27)<br>N. Husin (20)<br>M. Kouhyar (19)\", \"M. Mavraj (31)<br>E. Berisha (28)<br>E. Hysaj (23)\", \"I. Slimani (29)<br>Y. Brahimi (27)<br>R. Mahrez (26)\", \"Mateus (33)<br>Djalma (30)<br>Bastos (25)\", \"J. Parker (26)<br>C. Jahraldo-Martin (24)<br>M. Romeo (21)\", \"L. Messi (30)<br>G. Higua\\u00edn (29)<br>S. Ag\\u00fcero (29)\", \"Marcos Pizzelli (32)<br>H. Mkhitaryan (28)<br>A. \\u00d6zbiliz (27)\", \"B. Jones (35)<br>A. Mooy (26)<br>M. Ryan (25)\", \"S. Pr\\u00f6dl (30)<br>M. Arnautovi\\u0107 (28)<br>D. Alaba (25)\", \"D. Y\\u0131lmaz (29)<br>D. Nazarov (27)<br>Eddy (24)\", \"J. Forte (30)\", \"T. Kalachev (36)<br>A. Martynovich (29)<br>Renan Bressan (28)\", \"E. Hazard (26)<br>K. De Bruyne (26)<br>T. Courtois (25)\", \"M. Salazar (24)\", \"S. Sess\\u00e8gnon (33)<br>J. Ad\\u00e9oti (28)<br>S. Mouni\\u00e9 (22)\", \"N. Wells (27)<br>R. Lambe (26)<br>Z. Lewis (23)\", \"P. Escobar (38)<br>M. Martins (30)<br>J. Campos (29)\", \"E. D\\u017eeko (31)<br>A. Begovi\\u0107 (30)<br>M. Pjani\\u0107 (27)\", \"Thiago Silva (32)<br>Marcelo (29)<br>Neymar (25)\", \"F. Bolkiah (19)\", \"V. Stoyanov (30)<br>I. Popov (29)<br>G. Milanov (25)\", \"C. Kabor\\u00e9 (29)<br>B. Kon\\u00e9 (29)<br>B. Traor\\u00e9 (21)\", \"C. Amissi (27)\", \"S. Eto'o (36)<br>C. Kameni (33)<br>J. Matip (25)\", \"A. Hutchinson (34)<br>S. Arfield (28)<br>C. Larin (22)\", \"Varela (29)<br>Z\\u00e9 Lu\\u00eds (26)<br>Garry Rodrigues (26)\", \"E. Enza-Yamissi (34)<br>C. Yamb\\u00e9r\\u00e9 (26)<br>A. Youga (24)\", \"S. Altama (26)<br>C. Ninga (24)\", \"A. Vidal (30)<br>G. Medel (29)<br>A. S\\u00e1nchez (28)\", \"Zheng Zhi (36)<br>Gao Lin (31)<br>Zeng Cheng (30)\", \"Falcao (31)<br>C. Bacca (30)<br>J. Rodr\\u00edguez (25)\", \"K. Abdallah (30)<br>E. Ben Nabouhane (28)<br>R. Abdullah (23)\", \"C. Samba (33)<br>D. N'Dinga (29)<br>T. Bifouma (25)\", \"B. Ru\\u00edz (31)<br>K. Navas (30)<br>O. Duarte (28)\", \"D. Suba\\u0161i\\u0107 (32)<br>L. Modri\\u0107 (31)<br>I. Rakiti\\u0107 (29)\", \"O. Alonso (31)<br>O. Hern\\u00e1ndez (24)\", \"E. Room (28)<br>C. Martina (27)<br>L. Bacuna (25)\", \"V. Sielis (27)<br>K. Laifis (24)<br>P. Sotiriou (24)\", \"T. Rosick\\u00fd (36)<br>P. \\u010cech (35)<br>V. Darida (26)\", \"Y. Bolasie (28)<br>C. Bakambu (26)<br>G. Kakuta (26)\", \"K. Schmeichel (30)<br>C. Eriksen (25)<br>A. Christensen (21)\", \"Tano Bonnin (27)<br>Mariano (23)<br>J. Firpo (20)\", \"C. Noboa (32)<br>A. Valencia (31)<br>J. Montero (27)\", \"M. Salah (25)<br>M. Elneny (24)<br>A. Hassan (24)\", \"A. Alvarez (32)<br>D. Cer\\u00e9n (27)\", \"G. Cahill (31)<br>H. Kane (23)<br>D. Alli (21)\", \"A. Ngamukol (29)<br>Nsue (27)<br>Iban Salvador (21)\", \"H. Goitom (32)\", \"K. Vassiljev (32)<br>K. Mets (24)<br>N. Baranov (24)\", \"A. Askar (31)<br>G. Panom (22)\", \"G. Pandev (33)<br>I. Nestorovski (27)<br>S. Ristovski (25)\", \"J. Edmundsson (25)<br>H. Hansson (24)<br>G. R\\u00f3lantsson S\\u00f8rensen (24)\", \"R. Krishna (29)\", \"N. Moisander (31)<br>P. Hetemaj (30)<br>L. Hr\\u00e1deck\\u00fd (27)\", \"H. Lloris (30)<br>A. Griezmann (26)<br>N. Kant\\u00e9 (26)\", \"P. Aubameyang (28)<br>M. Lemina (23)<br>D. Ndong (23)\", \"O. Colley (24)<br>M. Barrow (24)<br>B. Sanneh (22)\", \"G. Kashia (29)<br>V. Qazaishvili (24)<br>J. Ananidze (24)\", \"M. Neuer (31)<br>J. Boateng (28)<br>T. Kroos (27)\", \"A. Gyan (31)<br>K. Boateng (30)<br>A. Ayew (27)\", \"S. Wiseman (31)<br>L. Walker (29)\", \"O. Karnezis (31)<br>Sokratis (29)<br>K. Manolas (26)\", \"A. Pierre (24)\", \"A. DeLaGarza (29)\", \"R. J\\u00e9rez (31)\", \"I. Traor\\u00e9 (29)<br>F. Pogba (26)<br>N. Ke\\u00efta (22)\", \"F. Mendy (28)<br>Gerso (26)<br>Pel\\u00e9 (25)\", \"N. Danns (34)<br>W. Creavalle (26)<br>M. Briggs (26)\", \"R. Genevois (29)<br>R. Goreux (29)<br>J. Louis (24)\", \"A. Najar (24)<br>A. Lozano (24)<br>A. Elis (21)\", \"Dai Wai-Tsun (17)\", \"N. Nikoli\\u0107 (29)<br>A. Szalai (29)<br>P. Gul\\u00e1csi (27)\", \"E. Hallfre\\u00f0sson (33)<br>A. Finnbogason (28)<br>G. Sigur\\u00f0sson (27)\", \"S. Chhetri (32)<br>S. Paul (30)<br>L. Ralte (24)\", \"A. Jahanbakhsh (23)<br>M. Mohammadi (23)<br>S. Azmoun (22)\", \"B. Nouri (30)<br>J. Meram (28)<br>A. Adnan (23)\", \"L. Refaelov (31)<br>B. Natcho (29)<br>M. Dabbur (25)\", \"G. Buffon (39)<br>G. Chiellini (32)<br>L. Bonucci (30)\", \"Y. Tour\\u00e9 (34)<br>J. Seri (25)<br>E. Bailly (23)\", \"W. Morgan (33)<br>A. Blake (26)<br>L. Bailey (19)\", \"K. Honda (31)<br>T. Inui (29)<br>S. Kagawa (28)\", \"K. Engel (28)<br>A. Merkel (25)<br>W. Evseev (25)\", \"M. Mariga (30)<br>V. Wanyama (26)<br>M. Olunga (23)\", \"Chong Te Se (33)<br>Pak Kwang Ryong (24)<br>Han Kwang Song (18)\", \"Koo Ja Cheol (28)<br>H. Son (24)<br>Yoon Bo Sang (23)\", \"B. Berisha (31)<br>V. Berisha (24)<br>M. Rashica (21)\", \"F. Al Berahim (30)<br>F. Al Hajeri (25)\", \"V. Lux (28)\", \"A. Va\\u0146ins (37)<br>A. Rud\\u0146evs (29)<br>I. Tarasovs (28)\", \"S. Saad (24)<br>B. Jradi (23)<br>H. El Helwe (22)\", \"W. Jebor (25)<br>S. Nimely (18)\", \"A. Benali (25)<br>H. Elhouni (23)\", \"M. B\\u00fcchel (26)<br>N. Hasler (26)<br>Y. Frick (19)\", \"Z. Kar\\u010demarskas (34)<br>F. \\u010cernych (26)<br>L. Spalvis (22)\", \"M. Chanot (27)<br>A. Moris (27)<br>L. Jans (24)\", \"I. Andriatsima (33)<br>L. Nomenjanahary (31)<br>C. Andriamahitsinoro (27)\", \"M. Marega (26)<br>M. Wagu\\u00e9 (26)<br>A. Niane (24)\", \"M. Muscat (32)<br>L. Gambin (24)<br>M. Beerman (18)\", \"D. Guidileye (27)<br>A. Ba (23)\", \"K. Bru (28)\", \"J. Hern\\u00e1ndez (29)<br>C. Vela (28)<br>J. Corona (24)\", \"A. Epureanu (30)<br>I. Arma\\u015f (29)<br>A. Ioni\\u0163\\u0103 (26)\", \"D. Damjanovi\\u0107 (35)<br>S. Joveti\\u0107 (27)<br>S. Savi\\u0107 (26)\", \"L. Taylor (27)<br>A. Dyer (27)<br>D. Daniels (23)\", \"M. Benatia (30)<br>Y. Belhanda (27)<br>H. Ziyech (24)\", \"Zainadine (29)<br>Mexer (28)<br>Gildo (22)\", \"M. Starke (26)<br>R. Nyambe (19)\", \"A. Robben (33)<br>K. Strootman (27)<br>V. van Dijk (25)\", \"W. Lautoa (29)<br>G. Gope-Fenepej (28)\", \"W. Reid (28)<br>C. Wood (25)<br>M. Rojas (25)\", \"M. Ma\\u00e2zou (28)<br>O. Bonnes (27)<br>S. Koita (23)\", \"V. Enyeama (34)<br>V. Moses (26)<br>O. Ndidi (20)\", \"G. McAuley (37)<br>S. Davis (32)<br>J. Evans (29)\", \"R. Jarstein (32)<br>P. Skjelbred (30)<br>M. Elyounoussi (22)\", \"A. Al-Habsi (35)\", \"C. Salom (30)<br>M. Eid (24)<br>H. Aiesh (22)\", \"G. G\\u00f3mez (33)<br>A. Machado (32)<br>A. Godoy (27)\", \"H. P\\u00e9rez (28)<br>M. Almir\\u00f3n (23)<br>A. Sanabria (21)\", \"J. Farf\\u00e1n (32)<br>A. Carrillo (26)<br>P. Hurtado (26)\", \"S. Palla (28)<br>N. Etheridge (27)<br>D. Sato (22)\", \"L. Piszczek (32)<br>K. Glik (29)<br>R. Lewandowski (28)\", \"Pepe (34)<br>Cristiano Ronaldo (32)<br>Bernardo Silva (22)\", \"J. Saunders (36)<br>J. Hernandez (33)\", \"A. Fadlalla (23)<br>Y. Ahmed (23)<br>A. Afif (20)\", \"W. Hoolahan (35)<br>S. Coleman (28)<br>J. McCarthy (26)\", \"C. T\\u0103t\\u0103ru\\u015fanu (31)<br>S. Radu (30)<br>F. Andone (24)\", \"A. Dzagoev (27)<br>M\\u00e1rio Fernandes (26)<br>O. Shatov (26)\", \"E. Benedettini (22)\", \"O. Hawsawi (33)<br>O. Othman (31)<br>N. Al Abed (27)\", \"D. Fletcher (33)<br>M. Phillips (26)<br>T. Cairney (26)\", \"I. Gueye (27)<br>K. Koulibaly (26)<br>S. Man\\u00e9 (25)\", \"B. Ivanovi\\u0107 (33)<br>N. Mati\\u0107 (28)<br>L. Fejsa (28)\", \"K. Kamara (32)<br>A. Kamara (24)<br>M. Turay (22)\", \"M. \\u0160krtel (32)<br>J. Kucka (30)<br>M. Ham\\u0161\\u00edk (29)\", \"S. Handanovi\\u010d (32)<br>K. Kampl (26)<br>J. Oblak (24)\", \"L. Abdi (28)\", \"S. Tshabalala (32)<br>I. Khune (30)<br>P. Tau (23)\", \"Sergio Ramos (31)<br>De Gea (26)<br>Thiago (26)\", \"A. Razeek (22)\", \"A. Harris (32)<br>R. Sawyers (25)<br>O. Sterling-James (23)\", \"J. Donacien (23)\", \"M. Al Dhaw (23)<br>M. Eisa (22)\", \"G. Zuiverloon (30)<br>K. Leerdam (27)<br>R. Alberg (26)\", \"I. Rako (20)\", \"Z. Ibrahimovi\\u0107 (35)<br>M. Berg (30)<br>E. Forsberg (25)\", \"Y. Sommer (28)<br>R. B\\u00fcrki (26)<br>G. Xhaka (24)\", \"O. Al Soma (28)<br>O. Al Soma (28)<br>O. Kharbin (23)\", \"Lu\\u00eds Leal (30)\", \"M. Samatta (24)<br>F. Mussa (21)\", \"C. Songkrasin (23)<br>W. Jakkit (20)\", \"S. Gakp\\u00e9 (30)<br>M. Dossevi (29)<br>F. Ayit\\u00e9 (28)\", \"K. Molino (27)<br>J. Bostock (25)<br>J. Jones (25)\", \"Y. Benalouane (30)<br>A. Abdennour (27)<br>E. Skhiri (22)\", \"A. Turan (30)<br>O. Toprak (27)<br>O. \\u00d6zyakup (24)\", \"M. Kazankov (30)\", \"M. Azira (29)<br>A. Kakuba (26)<br>M. Lorenzen (22)\", \"A. Yarmolenko (27)<br>T. Stepanenko (27)<br>Y. Rakitskyi (27)\", \"F. Johnson (29)<br>J. Brooks (24)<br>C. Pulisic (18)\", \"D. God\\u00edn (31)<br>L. Su\\u00e1rez (30)<br>E. Cavani (30)\", \"V. Denisov (30)<br>V. Afonin (29)<br>V. Galiulin (29)\", \"T. Rinc\\u00f3n (29)<br>S. Rond\\u00f3n (27)<br>J. Mart\\u00ednez (24)\", \"Luong Xuan Truong (22)\", \"A. Williams (32)<br>G. Bale (27)<br>A. Ramsey (26)\", \"S. Sunzu (28)<br>C. Lungu (26)<br>E. Kangwa (24)\", \"W. Katsande (31)<br>T. Ndoro (29)<br>M. Nakamba (23)\"], \"type\": \"choropleth\", \"z\": [22.0, 24.685714285714287, 26.54385964912281, 25.6, 22.4, 25.932642487046632, 26.071428571428573, 24.312775330396477, 24.515037593984964, 25.0, 30.0, 29.555555555555557, 23.893382352941178, 24.0, 25.785714285714285, 27.0, 27.333333333333332, 26.09090909090909, 27.208128078817733, 19.0, 27.454545454545453, 25.071428571428573, 27.0, 24.569767441860463, 25.29090909090909, 25.59090909090909, 26.75, 25.0, 28.72533333333333, 27.3, 25.388513513513512, 27.11111111111111, 24.681818181818183, 26.344827586206897, 24.98165137614679, 27.5, 25.0, 22.0, 26.506849315068493, 24.75862068965517, 24.36416184971098, 23.333333333333332, 27.054054054054053, 27.25, 29.5, 23.91963190184049, 25.5, 32.0, 27.0, 26.5, 24.705882352941178, 22.5, 29.0, 24.822580645161292, 24.634969325153374, 25.5, 23.733333333333334, 24.322580645161292, 24.20263157894737, 23.581196581196583, 30.0, 24.418367346938776, 24.0, 29.0, 31.0, 24.64, 23.5625, 28.0, 24.571428571428573, 27.384615384615383, 17.0, 26.10810810810811, 25.67924528301887, 25.833333333333332, 24.88235294117647, 26.0, 26.833333333333332, 25.619524405506883, 24.10891089108911, 27.56756756756757, 26.56503198294243, 26.0, 26.571428571428573, 25.5, 25.845454545454544, 23.9375, 27.5, 28.0, 28.142857142857142, 22.8, 21.5, 24.0, 23.666666666666668, 24.5, 23.125, 28.5, 24.152173913043477, 24.666666666666668, 25.0, 28.0, 24.927777777777777, 26.5, 24.92, 24.5, 24.76923076923077, 26.333333333333332, 22.5, 24.027972027972027, 28.5, 24.57894736842105, 26.0, 23.42063492063492, 25.558139534883722, 24.027027027027028, 35.0, 25.0, 25.8125, 26.10144927536232, 25.966666666666665, 25.666666666666668, 25.23145400593472, 25.26158038147139, 34.5, 21.666666666666668, 24.690647482014388, 26.728813559322035, 25.23202614379085, 22.0, 25.252279635258358, 24.453333333333333, 25.046511627906977, 25.413533834586467, 24.444444444444443, 25.625, 26.4, 28.0, 26.07792207792208, 25.211972522080472, 22.0, 26.666666666666668, 23.0, 22.5, 27.666666666666668, 20.0, 25.119565217391305, 24.05579399141631, 26.333333333333332, 30.0, 22.5, 21.5, 28.0, 25.11111111111111, 27.161290322580644, 25.127147766323024, 30.0, 24.75, 26.020408163265305, 25.27296587926509, 26.124183006535947, 27.6, 24.784313725490197, 22.0, 24.926829268292682, 22.0, 25.545454545454547]}],\n",
       "                        {\"geo\": {\"projection\": {\"type\": \"mercator\"}, \"showcoastlines\": false, \"showframe\": true}, \"template\": {\"data\": {\"bar\": [{\"error_x\": {\"color\": \"#2a3f5f\"}, \"error_y\": {\"color\": \"#2a3f5f\"}, \"marker\": {\"line\": {\"color\": \"#E5ECF6\", \"width\": 0.5}}, \"type\": \"bar\"}], \"barpolar\": [{\"marker\": {\"line\": {\"color\": \"#E5ECF6\", \"width\": 0.5}}, \"type\": \"barpolar\"}], \"carpet\": [{\"aaxis\": {\"endlinecolor\": \"#2a3f5f\", \"gridcolor\": \"white\", \"linecolor\": \"white\", \"minorgridcolor\": \"white\", \"startlinecolor\": \"#2a3f5f\"}, \"baxis\": {\"endlinecolor\": \"#2a3f5f\", \"gridcolor\": \"white\", \"linecolor\": \"white\", \"minorgridcolor\": \"white\", \"startlinecolor\": \"#2a3f5f\"}, \"type\": \"carpet\"}], \"choropleth\": [{\"colorbar\": {\"outlinewidth\": 0, \"ticks\": \"\"}, \"type\": \"choropleth\"}], \"contour\": [{\"colorbar\": {\"outlinewidth\": 0, \"ticks\": \"\"}, \"colorscale\": [[0.0, \"#0d0887\"], [0.1111111111111111, \"#46039f\"], [0.2222222222222222, \"#7201a8\"], [0.3333333333333333, \"#9c179e\"], [0.4444444444444444, \"#bd3786\"], [0.5555555555555556, \"#d8576b\"], [0.6666666666666666, \"#ed7953\"], [0.7777777777777778, \"#fb9f3a\"], [0.8888888888888888, \"#fdca26\"], [1.0, \"#f0f921\"]], \"type\": \"contour\"}], \"contourcarpet\": [{\"colorbar\": {\"outlinewidth\": 0, \"ticks\": \"\"}, \"type\": \"contourcarpet\"}], \"heatmap\": [{\"colorbar\": {\"outlinewidth\": 0, \"ticks\": \"\"}, \"colorscale\": [[0.0, \"#0d0887\"], [0.1111111111111111, \"#46039f\"], [0.2222222222222222, \"#7201a8\"], [0.3333333333333333, \"#9c179e\"], [0.4444444444444444, \"#bd3786\"], [0.5555555555555556, \"#d8576b\"], [0.6666666666666666, \"#ed7953\"], [0.7777777777777778, \"#fb9f3a\"], [0.8888888888888888, \"#fdca26\"], [1.0, \"#f0f921\"]], \"type\": \"heatmap\"}], \"heatmapgl\": [{\"colorbar\": {\"outlinewidth\": 0, \"ticks\": \"\"}, \"colorscale\": [[0.0, \"#0d0887\"], [0.1111111111111111, \"#46039f\"], [0.2222222222222222, \"#7201a8\"], [0.3333333333333333, \"#9c179e\"], [0.4444444444444444, \"#bd3786\"], [0.5555555555555556, \"#d8576b\"], [0.6666666666666666, \"#ed7953\"], [0.7777777777777778, \"#fb9f3a\"], [0.8888888888888888, \"#fdca26\"], [1.0, \"#f0f921\"]], \"type\": \"heatmapgl\"}], \"histogram\": [{\"marker\": {\"colorbar\": {\"outlinewidth\": 0, \"ticks\": \"\"}}, \"type\": \"histogram\"}], \"histogram2d\": [{\"colorbar\": {\"outlinewidth\": 0, \"ticks\": \"\"}, \"colorscale\": [[0.0, \"#0d0887\"], [0.1111111111111111, \"#46039f\"], [0.2222222222222222, \"#7201a8\"], [0.3333333333333333, \"#9c179e\"], [0.4444444444444444, \"#bd3786\"], [0.5555555555555556, \"#d8576b\"], [0.6666666666666666, \"#ed7953\"], [0.7777777777777778, \"#fb9f3a\"], [0.8888888888888888, \"#fdca26\"], [1.0, \"#f0f921\"]], \"type\": \"histogram2d\"}], \"histogram2dcontour\": [{\"colorbar\": {\"outlinewidth\": 0, \"ticks\": \"\"}, \"colorscale\": [[0.0, \"#0d0887\"], [0.1111111111111111, \"#46039f\"], [0.2222222222222222, \"#7201a8\"], [0.3333333333333333, \"#9c179e\"], [0.4444444444444444, \"#bd3786\"], [0.5555555555555556, \"#d8576b\"], [0.6666666666666666, \"#ed7953\"], [0.7777777777777778, \"#fb9f3a\"], [0.8888888888888888, \"#fdca26\"], [1.0, \"#f0f921\"]], \"type\": \"histogram2dcontour\"}], \"mesh3d\": [{\"colorbar\": {\"outlinewidth\": 0, \"ticks\": \"\"}, \"type\": \"mesh3d\"}], \"parcoords\": [{\"line\": {\"colorbar\": {\"outlinewidth\": 0, \"ticks\": \"\"}}, \"type\": \"parcoords\"}], \"pie\": [{\"automargin\": true, \"type\": \"pie\"}], \"scatter\": [{\"marker\": {\"colorbar\": {\"outlinewidth\": 0, \"ticks\": \"\"}}, \"type\": \"scatter\"}], \"scatter3d\": [{\"line\": {\"colorbar\": {\"outlinewidth\": 0, \"ticks\": \"\"}}, \"marker\": {\"colorbar\": {\"outlinewidth\": 0, \"ticks\": \"\"}}, \"type\": \"scatter3d\"}], \"scattercarpet\": [{\"marker\": {\"colorbar\": {\"outlinewidth\": 0, \"ticks\": \"\"}}, \"type\": \"scattercarpet\"}], \"scattergeo\": [{\"marker\": {\"colorbar\": {\"outlinewidth\": 0, \"ticks\": \"\"}}, \"type\": \"scattergeo\"}], \"scattergl\": [{\"marker\": {\"colorbar\": {\"outlinewidth\": 0, \"ticks\": \"\"}}, \"type\": \"scattergl\"}], \"scattermapbox\": [{\"marker\": {\"colorbar\": {\"outlinewidth\": 0, \"ticks\": \"\"}}, \"type\": \"scattermapbox\"}], \"scatterpolar\": [{\"marker\": {\"colorbar\": {\"outlinewidth\": 0, \"ticks\": \"\"}}, \"type\": \"scatterpolar\"}], \"scatterpolargl\": [{\"marker\": {\"colorbar\": {\"outlinewidth\": 0, \"ticks\": \"\"}}, \"type\": \"scatterpolargl\"}], \"scatterternary\": [{\"marker\": {\"colorbar\": {\"outlinewidth\": 0, \"ticks\": \"\"}}, \"type\": \"scatterternary\"}], \"surface\": [{\"colorbar\": {\"outlinewidth\": 0, \"ticks\": \"\"}, \"colorscale\": [[0.0, \"#0d0887\"], [0.1111111111111111, \"#46039f\"], [0.2222222222222222, \"#7201a8\"], [0.3333333333333333, \"#9c179e\"], [0.4444444444444444, \"#bd3786\"], [0.5555555555555556, \"#d8576b\"], [0.6666666666666666, \"#ed7953\"], [0.7777777777777778, \"#fb9f3a\"], [0.8888888888888888, \"#fdca26\"], [1.0, \"#f0f921\"]], \"type\": \"surface\"}], \"table\": [{\"cells\": {\"fill\": {\"color\": \"#EBF0F8\"}, \"line\": {\"color\": \"white\"}}, \"header\": {\"fill\": {\"color\": \"#C8D4E3\"}, \"line\": {\"color\": \"white\"}}, \"type\": \"table\"}]}, \"layout\": {\"annotationdefaults\": {\"arrowcolor\": \"#2a3f5f\", \"arrowhead\": 0, \"arrowwidth\": 1}, \"coloraxis\": {\"colorbar\": {\"outlinewidth\": 0, \"ticks\": \"\"}}, \"colorscale\": {\"diverging\": [[0, \"#8e0152\"], [0.1, \"#c51b7d\"], [0.2, \"#de77ae\"], [0.3, \"#f1b6da\"], [0.4, \"#fde0ef\"], [0.5, \"#f7f7f7\"], [0.6, \"#e6f5d0\"], [0.7, \"#b8e186\"], [0.8, \"#7fbc41\"], [0.9, \"#4d9221\"], [1, \"#276419\"]], \"sequential\": [[0.0, \"#0d0887\"], [0.1111111111111111, \"#46039f\"], [0.2222222222222222, \"#7201a8\"], [0.3333333333333333, \"#9c179e\"], [0.4444444444444444, \"#bd3786\"], [0.5555555555555556, \"#d8576b\"], [0.6666666666666666, \"#ed7953\"], [0.7777777777777778, \"#fb9f3a\"], [0.8888888888888888, \"#fdca26\"], [1.0, \"#f0f921\"]], \"sequentialminus\": [[0.0, \"#0d0887\"], [0.1111111111111111, \"#46039f\"], [0.2222222222222222, \"#7201a8\"], [0.3333333333333333, \"#9c179e\"], [0.4444444444444444, \"#bd3786\"], [0.5555555555555556, \"#d8576b\"], [0.6666666666666666, \"#ed7953\"], [0.7777777777777778, \"#fb9f3a\"], [0.8888888888888888, \"#fdca26\"], [1.0, \"#f0f921\"]]}, \"colorway\": [\"#636efa\", \"#EF553B\", \"#00cc96\", \"#ab63fa\", \"#FFA15A\", \"#19d3f3\", \"#FF6692\", \"#B6E880\", \"#FF97FF\", \"#FECB52\"], \"font\": {\"color\": \"#2a3f5f\"}, \"geo\": {\"bgcolor\": \"white\", \"lakecolor\": \"white\", \"landcolor\": \"#E5ECF6\", \"showlakes\": true, \"showland\": true, \"subunitcolor\": \"white\"}, \"hoverlabel\": {\"align\": \"left\"}, \"hovermode\": \"closest\", \"mapbox\": {\"style\": \"light\"}, \"paper_bgcolor\": \"white\", \"plot_bgcolor\": \"#E5ECF6\", \"polar\": {\"angularaxis\": {\"gridcolor\": \"white\", \"linecolor\": \"white\", \"ticks\": \"\"}, \"bgcolor\": \"#E5ECF6\", \"radialaxis\": {\"gridcolor\": \"white\", \"linecolor\": \"white\", \"ticks\": \"\"}}, \"scene\": {\"xaxis\": {\"backgroundcolor\": \"#E5ECF6\", \"gridcolor\": \"white\", \"gridwidth\": 2, \"linecolor\": \"white\", \"showbackground\": true, \"ticks\": \"\", \"zerolinecolor\": \"white\"}, \"yaxis\": {\"backgroundcolor\": \"#E5ECF6\", \"gridcolor\": \"white\", \"gridwidth\": 2, \"linecolor\": \"white\", \"showbackground\": true, \"ticks\": \"\", \"zerolinecolor\": \"white\"}, \"zaxis\": {\"backgroundcolor\": \"#E5ECF6\", \"gridcolor\": \"white\", \"gridwidth\": 2, \"linecolor\": \"white\", \"showbackground\": true, \"ticks\": \"\", \"zerolinecolor\": \"white\"}}, \"shapedefaults\": {\"line\": {\"color\": \"#2a3f5f\"}}, \"ternary\": {\"aaxis\": {\"gridcolor\": \"white\", \"linecolor\": \"white\", \"ticks\": \"\"}, \"baxis\": {\"gridcolor\": \"white\", \"linecolor\": \"white\", \"ticks\": \"\"}, \"bgcolor\": \"#E5ECF6\", \"caxis\": {\"gridcolor\": \"white\", \"linecolor\": \"white\", \"ticks\": \"\"}}, \"title\": {\"x\": 0.05}, \"xaxis\": {\"automargin\": true, \"gridcolor\": \"white\", \"linecolor\": \"white\", \"ticks\": \"\", \"title\": {\"standoff\": 15}, \"zerolinecolor\": \"white\", \"zerolinewidth\": 2}, \"yaxis\": {\"automargin\": true, \"gridcolor\": \"white\", \"linecolor\": \"white\", \"ticks\": \"\", \"title\": {\"standoff\": 15}, \"zerolinecolor\": \"white\", \"zerolinewidth\": 2}}}, \"title\": {\"text\": \"Average age per nationality\"}},\n",
       "                        {\"responsive\": true}\n",
       "                    ).then(function(){\n",
       "                            \n",
       "var gd = document.getElementById('bbaaf828-94fe-4950-a02a-760eccd89c37');\n",
       "var x = new MutationObserver(function (mutations, observer) {{\n",
       "        var display = window.getComputedStyle(gd).display;\n",
       "        if (!display || display === 'none') {{\n",
       "            console.log([gd, 'removed!']);\n",
       "            Plotly.purge(gd);\n",
       "            observer.disconnect();\n",
       "        }}\n",
       "}});\n",
       "\n",
       "// Listen for the removal of the full notebook cells\n",
       "var notebookContainer = gd.closest('#notebook-container');\n",
       "if (notebookContainer) {{\n",
       "    x.observe(notebookContainer, {childList: true});\n",
       "}}\n",
       "\n",
       "// Listen for the clearing of the current output cell\n",
       "var outputEl = gd.closest('.output');\n",
       "if (outputEl) {{\n",
       "    x.observe(outputEl, {childList: true});\n",
       "}}\n",
       "\n",
       "                        })\n",
       "                };\n",
       "                });\n",
       "            </script>\n",
       "        </div>"
      ]
     },
     "metadata": {},
     "output_type": "display_data"
    }
   ],
   "source": [
    "def plot_geo(by_column, measure, sort_column, chart_title, min_rating = 0):\n",
    "    df_g = df.copy()\n",
    "    df_g = df_g[df_g['Overall']>min_rating]\n",
    "    df_geo = df_g.groupby(['Nationality']).agg({by_column: measure})\n",
    "    df_geo = pd.DataFrame(data = df_geo)\n",
    "    df_geo = df_geo.rename(columns={by_column: 'Measurement'})\n",
    "    df_geo['text'] = ''\n",
    "\n",
    "    df_geo_player = df[['Nationality','Name', sort_column]].groupby(['Nationality']).head(3)\n",
    "    df_geo_player = df_geo_player.sort_values(['Nationality', sort_column], ascending=[True, False])\n",
    "    df_geo_player['Name_text'] = df_geo_player['Name'] + ' (' + df_geo_player[sort_column].map(str) + ')'\n",
    "\n",
    "    for index, row in df_geo.iterrows():\n",
    "        df_geo['text'].loc[index] = '<br>'.join(df_geo_player[df_geo_player['Nationality'] == index]['Name_text'].values)\n",
    "\n",
    "    df_geo.rename(index={'England': 'United Kingdom'}, inplace = True)\n",
    "    data = dict(type='choropleth',\n",
    "                locations = df_geo.index,\n",
    "                locationmode = 'country names', \n",
    "                z = df_geo['Measurement'],\n",
    "                text = df_geo['text'], \n",
    "                colorbar = {'title':'Scale'},\n",
    "                colorscale = [[0.0, 'rgb(242,240,247)'],[0.2, 'rgb(218,218,235)'],[0.4, 'rgb(188,189,220)'],\n",
    "                [0.6, 'rgb(158,154,200)'],[0.8, 'rgb(117,107,177)'],[1.0, 'rgb(84,39,143)']], \n",
    "                reversescale = False)\n",
    "\n",
    "    layout = dict(title = chart_title,\n",
    "                  geo = dict(showframe = True, showcoastlines = False, projection = {'type':'mercator'})\n",
    "                 )\n",
    "\n",
    "    choromap = go.Figure(data = [data], \n",
    "                         layout = layout)\n",
    "    \n",
    "    iplot(choromap, validate=False)\n",
    "\n",
    "\n",
    "plot_geo('Nationality', 'count', 'Overall', 'Total number of players per nationality')\n",
    "plot_geo('Overall', 'mean', 'Overall', 'Average rating per nationality')\n",
    "plot_geo('Overall', 'max','Overall',  'Maximum rating per nationality')\n",
    "plot_geo('Potential', 'max', 'Potential', 'Maximum potential per nationality')\n",
    "plot_geo('Age', 'mean', 'Age', 'Average age per nationality')"
   ]
  },
  {
   "cell_type": "markdown",
   "metadata": {},
   "source": [
    "### Co-relate between Age and Overall Rating\n",
    "\n",
    "### Co-relate between Age and Potential"
   ]
  },
  {
   "cell_type": "code",
   "execution_count": 12,
   "metadata": {},
   "outputs": [
    {
     "data": {
      "image/png": "[encoded data removed]",
      "text/plain": [
       "<Figure size 432x288 with 1 Axes>"
      ]
     },
     "metadata": {},
     "output_type": "display_data"
    }
   ],
   "source": [
    "df_overall = df.groupby(['Age'])['Overall'].mean()\n",
    "df_potential = df.groupby(['Age'])['Potential'].mean()\n",
    "\n",
    "summary = pd.concat([df_overall, df_potential], axis=1)\n",
    "\n",
    "axis = summary.plot()\n",
    "axis.set_ylabel('Rating Points')\n",
    "axis.set_title('Average Growth Potential by Age');"
   ]
  },
  {
   "cell_type": "markdown",
   "metadata": {},
   "source": [
    "### Dream Team"
   ]
  },
  {
   "cell_type": "code",
   "execution_count": 13,
   "metadata": {},
   "outputs": [
    {
     "name": "stdout",
     "output_type": "stream",
     "text": [
      "4-3-3\n",
      "Position              Player Overall\n",
      "      GK            M. Neuer      92\n",
      "      LB             Marcelo      87\n",
      "      CB        Sergio Ramos      90\n",
      "      CB        G. Chiellini      89\n",
      "      RB            Carvajal      84\n",
      "      LM          C. Eriksen      87\n",
      "     CDM            T. Kroos      90\n",
      "      RM        K. De Bruyne      89\n",
      "      LW              Neymar      92\n",
      "      ST   Cristiano Ronaldo      94\n",
      "      RW            L. Messi      93\n"
     ]
    }
   ],
   "source": [
    "def get_best_squad(position):\n",
    "    df_copy = df.copy()\n",
    "    store = []\n",
    "    for i in position:\n",
    "        store.append([i,\n",
    "                      df_copy.loc[[df_copy[df_copy['Preferred Positions'] == i]['Overall'].idxmax()]]['Name'].to_string(index = False), \n",
    "                      df_copy[df_copy['Preferred Positions'] == i]['Overall'].max()])\n",
    "        df_copy.drop(df_copy[df_copy['Preferred Positions'] == i]['Overall'].idxmax(), inplace = True)\n",
    "    #return store\n",
    "    return pd.DataFrame(np.array(store).reshape(11,3), columns = ['Position', 'Player', 'Overall']).to_string(index = False)\n",
    "\n",
    "# 4-3-3\n",
    "squad_433 = ['GK', 'LB', 'CB', 'CB', 'RB', 'LM', 'CDM', 'RM', 'LW', 'ST', 'RW']\n",
    "print('4-3-3')\n",
    "print(get_best_squad(squad_433))"
   ]
  },
  {
   "cell_type": "code",
   "execution_count": 14,
   "metadata": {},
   "outputs": [
    {
     "name": "stdout",
     "output_type": "stream",
     "text": [
      "3-5-2\n",
      "Position         Player Overall\n",
      "      GK       M. Neuer      92\n",
      "     LWB        D. Rose      82\n",
      "      CB   Sergio Ramos      90\n",
      "     RWB      K. Walker      83\n",
      "      LM     C. Eriksen      87\n",
      "     CDM       T. Kroos      90\n",
      "     CAM       Coutinho      86\n",
      "      CM       N. Kanté      87\n",
      "      RM   K. De Bruyne      89\n",
      "      LW         Neymar      92\n",
      "      RW       L. Messi      93\n"
     ]
    }
   ],
   "source": [
    "# 3-5-2\n",
    "squad_352 = ['GK', 'LWB', 'CB', 'RWB', 'LM', 'CDM', 'CAM', 'CM', 'RM', 'LW', 'RW']\n",
    "print ('3-5-2')\n",
    "print (get_best_squad(squad_352))"
   ]
  },
  {
   "cell_type": "markdown",
   "metadata": {},
   "source": [
    "### Current Rating, Potential Rating and Corresponding team value by club"
   ]
  },
  {
   "cell_type": "code",
   "execution_count": 15,
   "metadata": {},
   "outputs": [
    {
     "name": "stdout",
     "output_type": "stream",
     "text": [
      "-Overall-\n",
      "Average rating: 85.7\n",
      "Total Value (M): 477.5\n",
      "Position          Player Overall Value (M)\n",
      "      GK     T. Courtois      89      59.0\n",
      "      CB      David Luiz      86      33.0\n",
      "      LB     Azpilicueta      85      37.5\n",
      "      CB       G. Cahill      84      21.0\n",
      "      RB      A. Rüdiger      82      24.5\n",
      "      CM        N. Kanté      87      52.5\n",
      "     CAM   Cesc Fàbregas      86      41.0\n",
      "     CAM         Willian      84      31.5\n",
      "      LW       E. Hazard      90      90.5\n",
      "      ST     Diego Costa      86      46.0\n",
      "      ST          Morata      84      41.0\n",
      "-Potential-\n",
      "Average rating: 87.9\n",
      "Total Value (M): 454.0\n",
      "Position           Player Potential Value (M)\n",
      "      GK      T. Courtois        92      59.0\n",
      "      LB      Azpilicueta        87      37.5\n",
      "      CB       David Luiz        86      33.0\n",
      "      RB       A. Rüdiger        86      24.5\n",
      "      CB        G. Cahill        84      21.0\n",
      "      CM         N. Kanté        90      52.5\n",
      "     CDM   A. Christensen        89      23.0\n",
      "      CM      T. Bakayoko        88      26.0\n",
      "      LW        E. Hazard        91      90.5\n",
      "      ST           Morata        88      41.0\n",
      "      ST      Diego Costa        86      46.0\n"
     ]
    }
   ],
   "source": [
    "def get_best_squad(position, club = '*', measurement = 'Overall'):\n",
    "    df_copy = df.copy()\n",
    "    df_copy = df_copy[df_copy['Club'] == club]\n",
    "    store = []\n",
    "    for i in position:\n",
    "        store.append([df_copy.loc[[df_copy[df_copy['Preferred Positions'].str.contains(i)][measurement].idxmax()]]['Preferred Positions'].to_string(index = False),\n",
    "                      df_copy.loc[[df_copy[df_copy['Preferred Positions'].str.contains(i)][measurement].idxmax()]]['Name'].to_string(index = False), \n",
    "                      df_copy[df_copy['Preferred Positions'].str.contains(i)][measurement].max(), \n",
    "                      float(df_copy.loc[[df_copy[df_copy['Preferred Positions'].str.contains(i)][measurement].idxmax()]]['Value (M)'].to_string(index = False))])\n",
    "        df_copy.drop(df_copy[df_copy['Preferred Positions'].str.contains(i)][measurement].idxmax(), inplace = True)\n",
    "    #return store\n",
    "    return np.mean([x[2] for x in store]).round(1), \\\n",
    "           pd.DataFrame(np.array(store).reshape(11,4), columns = ['Position', 'Player', measurement, 'Value (M)']).to_string(index = False), \\\n",
    "           np.sum([x[3] for x in store]).round(1)\n",
    "\n",
    "# easier constraint\n",
    "squad_433_adj = ['GK', 'B$', 'B$', 'B$', 'B$', 'M$', 'M$', 'M$', 'W$|T$', 'W$|T$', 'W$|T$']\n",
    "\n",
    "# Example Output for Chelsea\n",
    "rating_433_Chelsea_Overall, best_list_433_Chelsea_Overall, value_433_Chelsea_Overall = get_best_squad(squad_433_adj, \n",
    "                                                                                                      'Chelsea', \n",
    "                                                                                                      'Overall')\n",
    "\n",
    "\n",
    "rating_433_Chelsea_Potential, best_list_433_Chelsea_Potential, value_433_Chelsea_Potential  = get_best_squad(squad_433_adj, \n",
    "                                                                                                             'Chelsea', \n",
    "                                                                                                             'Potential')\n",
    "\n",
    "print('-Overall-')\n",
    "print('Average rating: {:.1f}'.format(rating_433_Chelsea_Overall))\n",
    "print('Total Value (M): {:.1f}'.format(value_433_Chelsea_Overall))\n",
    "print(best_list_433_Chelsea_Overall)\n",
    "\n",
    "print('-Potential-')\n",
    "print('Average rating: {:.1f}'.format(rating_433_Chelsea_Potential))\n",
    "print('Total Value (M): {:.1f}'.format(value_433_Chelsea_Potential))\n",
    "print(best_list_433_Chelsea_Potential)"
   ]
  },
  {
   "cell_type": "markdown",
   "metadata": {},
   "source": [
    "### Let's gather ratings for other clubs as well"
   ]
  },
  {
   "cell_type": "code",
   "execution_count": 16,
   "metadata": {},
   "outputs": [
    {
     "name": "stdout",
     "output_type": "stream",
     "text": [
      "                     Overall  Potential  Value of highest Potential squad\n",
      "Club                                                                     \n",
      "FC Barcelona            86.5       89.0                             504.0\n",
      "Juventus                86.4       87.9                             386.0\n",
      "Real Madrid CF          87.8       89.7                             606.5\n",
      "FC Bayern Munich        87.5       89.0                             554.5\n",
      "Paris Saint-Germain     85.3       88.5                             440.0\n",
      "Manchester United       85.1       88.6                             376.5\n",
      "Napoli                  82.7       85.5                             269.5\n",
      "Roma                    82.3       84.5                             239.5\n",
      "Sevilla FC              80.7       82.7                             188.0\n",
      "Inter                   81.5       85.4                             210.4\n"
     ]
    }
   ],
   "source": [
    "# very easy constraint since some club do not have strict squad\n",
    "squad_352_adj = ['GK', 'B$', 'B$', 'B$', 'M$|W$|T$', 'M$|W$|T$', 'M$|W$|T$', 'M$|W$|T$', 'M$|W$|T$', 'W$|T$|M$', 'W$|T$|M$']\n",
    "\n",
    "By_club = df.groupby(['Club'])['Overall'].mean()\n",
    "\n",
    "def get_summary(squad):\n",
    "    OP = []\n",
    "    # only for top 100 clubs for shorter run-time\n",
    "    for i in By_club.sort_values(ascending = False).index[0:100]:\n",
    "        # for overall rating\n",
    "        O_temp_rating, _, _  = get_best_squad(squad, club = i, measurement = 'Overall')\n",
    "        # for potential rating & corresponding value\n",
    "        P_temp_rating, _, P_temp_value = get_best_squad(squad, club = i, measurement = 'Potential')\n",
    "        OP.append([i, O_temp_rating, P_temp_rating, P_temp_value])\n",
    "    return OP\n",
    "\n",
    "OP_df = pd.DataFrame(np.array(get_summary(squad_352_adj)).reshape(-1,4), \n",
    "                     columns = ['Club', 'Overall', 'Potential', 'Value of highest Potential squad'])\n",
    "\n",
    "OP_df.set_index('Club', inplace = True)\n",
    "\n",
    "OP_df = OP_df.astype(float)\n",
    "\n",
    "\n",
    "print(OP_df.head(10))"
   ]
  },
  {
   "cell_type": "code",
   "execution_count": 17,
   "metadata": {},
   "outputs": [
    {
     "data": {
      "image/png": "[encoded data removed]",
      "text/plain": [
       "<Figure size 1080x1080 with 2 Axes>"
      ]
     },
     "metadata": {},
     "output_type": "display_data"
    }
   ],
   "source": [
    "fig, ax = plt.subplots()\n",
    "OP_df.plot(kind = 'scatter', x = 'Overall', y = 'Potential', \n",
    "           c = 'Value of highest Potential squad', \n",
    "           s = 50, figsize = (15,15), \n",
    "           xlim = (70, 90), ylim = (70, 90), \n",
    "           title = 'Current Rating vs Potential Rating by Club: 3-5-2', \n",
    "           ax = ax);"
   ]
  },
  {
   "cell_type": "markdown",
   "metadata": {},
   "source": [
    "### Let's see is there any strong clubs with relatively low value. Let's drill down to top clubs with potential rating above 85"
   ]
  },
  {
   "cell_type": "code",
   "execution_count": 18,
   "metadata": {},
   "outputs": [
    {
     "data": {
      "image/png": "[encoded data removed]",
      "text/plain": [
       "<Figure size 1080x1080 with 2 Axes>"
      ]
     },
     "metadata": {},
     "output_type": "display_data"
    }
   ],
   "source": [
    "fig, ax = plt.subplots()\n",
    "OP_df.plot(kind = 'scatter', x = 'Overall', y = 'Potential', \n",
    "           c = 'Value of highest Potential squad', \n",
    "           s = 50, figsize = (15,15), xlim = (80, 90), ylim = (85, 90), \n",
    "           title = 'Current Rating vs Potential Rating by Club: 3-5-2', \n",
    "           ax = ax)\n",
    "\n",
    "def label_point(x, y, val, ax):\n",
    "    a = pd.concat({'x': x, 'y': y, 'val': val}, axis=1)\n",
    "    for i, point in a.iterrows():\n",
    "        ax.text(point['x'], point['y'], str(point['val']))\n",
    "       \n",
    "OP_df['Club_label'] = OP_df.index\n",
    "\n",
    "OP_df_sub = OP_df[(OP_df['Potential']>=85) & (OP_df['Value of highest Potential squad']<=350)]\n",
    "\n",
    "label_point(OP_df_sub['Overall'], OP_df_sub['Potential'], OP_df_sub['Club_label'], ax)"
   ]
  },
  {
   "cell_type": "markdown",
   "metadata": {},
   "source": [
    "### Supposed we have 350M to buy a club with existing squad and are interested in club with at least 85 potential ratings, then we should probably go for Tottenham Hotspur, and Aresenal is relatively a bad choice. Their best 11 squad is as follows:"
   ]
  },
  {
   "cell_type": "code",
   "execution_count": 19,
   "metadata": {},
   "outputs": [
    {
     "name": "stdout",
     "output_type": "stream",
     "text": [
      "-Overall-\n",
      "Average rating: 84.3\n",
      "Total Value (M): 396.0\n",
      "Position            Player Overall Value (M)\n",
      "      GK         H. Lloris      88      38.0\n",
      "      CB   T. Alderweireld      86      40.5\n",
      "      CB     J. Vertonghen      85      28.5\n",
      "     LWB           D. Rose      82      21.0\n",
      "      LM        C. Eriksen      87      65.0\n",
      "      ST           H. Kane      86      59.0\n",
      "      LM           D. Alli      84      43.0\n",
      "     CDM        M. Dembélé      83      25.0\n",
      "      CM           E. Dier      82      25.0\n",
      "      ST            H. Son      82      28.0\n",
      "      CM        V. Wanyama      82      23.0\n",
      "-Potential-\n",
      "Average rating: 87.6\n",
      "Total Value (M): 345.9\n",
      "Position            Player Potential Value (M)\n",
      "      GK         H. Lloris        88      38.0\n",
      "      CB        D. Sánchez        88      21.5\n",
      "      CB   T. Alderweireld        87      40.5\n",
      "      CB          J. Foyth        86       1.7\n",
      "      LM        C. Eriksen        91      65.0\n",
      "      ST           H. Kane        90      59.0\n",
      "      LM           D. Alli        90      43.0\n",
      "      CM           E. Dier        87      25.0\n",
      "     CAM        M. Edwards        87       1.2\n",
      "      ST            H. Son        85      28.0\n",
      "      CM        V. Wanyama        85      23.0\n"
     ]
    }
   ],
   "source": [
    "squad_352_adj = ['GK', 'B$', 'B$', 'B$', 'M$|W$|T$', 'M$|W$|T$', 'M$|W$|T$', 'M$|W$|T$', 'M$|W$|T$', 'W$|T$|M$', 'W$|T$|M$']\n",
    "\n",
    "rating_352_TH_Overall, best_list_352_TH_Overall, value_352_TH_Overall = get_best_squad(squad_352_adj, 'Tottenham Hotspur', 'Overall')\n",
    "rating_352_TH_Potential, best_list_352_TH_Potential, value_352_TH_Potential  = get_best_squad(squad_352_adj, 'Tottenham Hotspur', 'Potential')\n",
    "\n",
    "print('-Overall-')\n",
    "print('Average rating: {:.1f}'.format(rating_352_TH_Overall))\n",
    "print('Total Value (M): {:.1f}'.format(value_352_TH_Overall))\n",
    "print(best_list_352_TH_Overall)\n",
    "\n",
    "print('-Potential-')\n",
    "print('Average rating: {:.1f}'.format(rating_352_TH_Potential))\n",
    "print('Total Value (M): {:.1f}'.format(value_352_TH_Potential))\n",
    "print(best_list_352_TH_Potential)"
   ]
  },
  {
   "cell_type": "markdown",
   "metadata": {},
   "source": [
    "### Current and Future Squad by Country"
   ]
  },
  {
   "cell_type": "code",
   "execution_count": 20,
   "metadata": {},
   "outputs": [],
   "source": [
    "def get_best_squad_n(position, nationality, measurement = 'Overall'):\n",
    "    df_copy = df.copy()\n",
    "    df_copy = df_copy[df_copy['Nationality'] == nationality]\n",
    "    store = []\n",
    "    for i in position:\n",
    "        store.append([df_copy.loc[[df_copy[df_copy['Preferred Positions'].str.contains(i)][measurement].idxmax()]]['Preferred Positions'].to_string(index = False),\n",
    "                      df_copy.loc[[df_copy[df_copy['Preferred Positions'].str.contains(i)][measurement].idxmax()]]['Name'].to_string(index = False), \n",
    "                      df_copy[df_copy['Preferred Positions'].str.contains(i)][measurement].max()])\n",
    "        df_copy.drop(df_copy[df_copy['Preferred Positions'].str.contains(i)][measurement].idxmax(), inplace = True)\n",
    "    #return store\n",
    "    return np.mean([x[2] for x in store]).round(2), pd.DataFrame(np.array(store).reshape(11,3), columns = ['Position', 'Player', measurement]).to_string(index = False)\n",
    "\n",
    "def get_summary_n(squad_list, squad_name, nationality_list):\n",
    "    OP_n = []\n",
    "\n",
    "    for i in nationality_list:\n",
    "        count = 0\n",
    "        for j in squad_list:\n",
    "            # for overall rating\n",
    "            O_temp_rating, _  = get_best_squad_n(position = j, nationality = i, measurement = 'Overall')\n",
    "            # for potential rating & corresponding value\n",
    "            P_temp_rating, _ = get_best_squad_n(position = j, nationality = i, measurement = 'Potential')\n",
    "            OP_n.append([i, squad_name[count], O_temp_rating.round(2), P_temp_rating.round(2)])    \n",
    "            count += 1\n",
    "    return OP_n"
   ]
  },
  {
   "cell_type": "code",
   "execution_count": 21,
   "metadata": {},
   "outputs": [],
   "source": [
    "squad_352_strict = ['GK', 'LB|LWB', 'CB', 'RB|RWB', 'LM|W$', 'RM|W$', 'CM', 'CM|CAM|CDM', 'CM|CAM|CDM', 'W$|T$', 'W$|T$']\n",
    "squad_442_strict = ['GK', 'LB|LWB', 'CB', 'CB', 'RB|RWB', 'LM|W$', 'RM|W$', 'CM', 'CM|CAM|CDM', 'W$|T$', 'W$|T$']\n",
    "squad_433_strict = ['GK', 'LB|LWB', 'CB', 'CB', 'RB|RWB', 'CM|LM|W$', 'CM|RM|W$', 'CM|CAM|CDM', 'W$|T$', 'W$|T$', 'W$|T$']\n",
    "squad_343_strict = ['GK', 'LB|LWB', 'CB', 'RB|RWB', 'LM|W$', 'RM|W$', 'CM|CAM|CDM', 'CM|CAM|CDM', 'W$|T$', 'W$|T$', 'W$|T$']\n",
    "squad_532_strict = ['GK', 'LB|LWB', 'CB|LWB|RWB', 'CB|LWB|RWB', 'CB|LWB|RWB', 'RB|RWB', 'M$|W$', 'M$|W$', 'M$|W$', 'W$|T$', 'W$|T$']\n",
    "\n",
    "\n",
    "squad_list = [squad_352_strict, squad_442_strict, squad_433_strict, squad_343_strict, squad_532_strict]\n",
    "squad_name = ['3-5-2', '4-4-2', '4-3-3', '3-4-3', '5-3-2']"
   ]
  },
  {
   "cell_type": "markdown",
   "metadata": {},
   "source": [
    "### England"
   ]
  },
  {
   "cell_type": "code",
   "execution_count": 22,
   "metadata": {},
   "outputs": [
    {
     "name": "stdout",
     "output_type": "stream",
     "text": [
      "-Overall-\n",
      "Average rating: 82.8\n",
      "Position         Player Overall\n",
      "      GK        J. Hart      82\n",
      "     LWB        D. Rose      82\n",
      "      CB      G. Cahill      84\n",
      "     RWB      K. Walker      83\n",
      "      LM        D. Alli      84\n",
      "      RW     R. Barkley      81\n",
      "      CM     A. Lallana      83\n",
      "      CM        E. Dier      82\n",
      "      CM   J. Henderson      82\n",
      "      ST        H. Kane      86\n",
      "      ST   D. Sturridge      82\n",
      "-Potential-\n",
      "Average rating: 87.5\n",
      "Position                  Player Potential\n",
      "      GK              J. Butland        87\n",
      "      LB                 L. Shaw        84\n",
      "      CB                M. Keane        87\n",
      "     RWB   A. Oxlade-Chamberlain        85\n",
      "      LM                 D. Alli        90\n",
      "      RM             M. Rashford        89\n",
      "      CM                A. Gomes        90\n",
      "      CM                 E. Dier        87\n",
      "     CAM              M. Edwards        87\n",
      "      ST                 H. Kane        90\n",
      "      RW              R. Barkley        86\n"
     ]
    }
   ],
   "source": [
    "rating_352_EN_Overall, best_list_352_EN_Overall = get_best_squad_n(squad_352_strict, 'England', 'Overall')\n",
    "rating_352_EN_Potential, best_list_352_EN_Potential = get_best_squad_n(squad_352_strict, 'England', 'Potential')\n",
    "\n",
    "print('-Overall-')\n",
    "print('Average rating: {:.1f}'.format(rating_352_EN_Overall))\n",
    "print(best_list_352_EN_Overall)\n",
    "\n",
    "print('-Potential-')\n",
    "print('Average rating: {:.1f}'.format(rating_352_EN_Potential))\n",
    "print(best_list_352_EN_Potential)"
   ]
  },
  {
   "cell_type": "code",
   "execution_count": 23,
   "metadata": {},
   "outputs": [
    {
     "name": "stdout",
     "output_type": "stream",
     "text": [
      "             Squad  Overall  Potential\n",
      "Nationality                           \n",
      "England      3-5-2    82.82      87.45\n",
      "England      4-4-2    82.73      87.27\n",
      "England      4-3-3    82.73      87.00\n",
      "England      3-4-3    82.73      87.36\n",
      "England      5-3-2    82.82      87.00\n"
     ]
    }
   ],
   "source": [
    "OP_df_n = pd.DataFrame(np.array(get_summary_n(squad_list, squad_name, ['England'])).reshape(-1,4), \n",
    "                       columns = ['Nationality', 'Squad', 'Overall', 'Potential'])\n",
    "OP_df_n.set_index('Nationality', inplace = True)\n",
    "OP_df_n[['Overall', 'Potential']] = OP_df_n[['Overall', 'Potential']].astype(float)\n",
    "\n",
    "print (OP_df_n)"
   ]
  }
 ],
 "metadata": {
  "kernelspec": {
   "display_name": "Python 3",
   "language": "python",
   "name": "python3"
  },
  "language_info": {
   "codemirror_mode": {
    "name": "ipython",
    "version": 3
   },
   "file_extension": ".py",
   "mimetype": "text/x-python",
   "name": "python",
   "nbconvert_exporter": "python",
   "pygments_lexer": "ipython3",
   "version": "3.7.5"
  }
 },
 "nbformat": 4,
 "nbformat_minor": 2
}
